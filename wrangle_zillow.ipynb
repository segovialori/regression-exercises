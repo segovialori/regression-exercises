{
 "cells": [
  {
   "cell_type": "markdown",
   "metadata": {},
   "source": [
    "# Wrangle Zillow"
   ]
  },
  {
   "cell_type": "markdown",
   "metadata": {},
   "source": [
    "### If you are finished with the exercises...here is what I want y'all to do next...this will help you prepare for the regression project :\n",
    "- use mySQL to query the zillow database.\n",
    "- you will need to use the properties_2017 and predictions_2017 tables.\n",
    "- you will want to gather the following information (and figure out which columns are most likely to give you this information)...square feet of the house (\"living square feet\"), number of bedrooms, number of bathrooms, the assess value of the house by the tax appraisal district ('taxvaluedollarcnt'...this will be your target variable in the project), and 2-3 other variables you think will be useful (think about what you know about what drives home prices, and also the amount of non-null values available in selecting your extra variables.\n",
    "- you will want to limit your data to properties that were sold in may, june, july or august (date is in predictions_2017 table).\n",
    "- There are a ton of rows...so think about how you can limit your data set early to keep your query going! i.e. filter the dates!"
   ]
  },
  {
   "cell_type": "code",
   "execution_count": 83,
   "metadata": {},
   "outputs": [],
   "source": [
    "import warnings\n",
    "warnings.filterwarnings(\"ignore\")\n",
    "\n",
    "import pandas as pd \n",
    "import numpy as np \n",
    "import os\n",
    "from env import host, user, password \n",
    "import wrangle\n",
    "import matplotlib.pyplot as plt\n",
    "import seaborn as sns\n",
    "from sklearn.model_selection import train_test_split\n",
    "from sklearn.preprocessing import StandardScaler"
   ]
  },
  {
   "cell_type": "markdown",
   "metadata": {},
   "source": [
    "## Acquire"
   ]
  },
  {
   "cell_type": "code",
   "execution_count": 13,
   "metadata": {},
   "outputs": [],
   "source": [
    "#Connection function to access Codeup Database and retrieve zillow dataset from mysql\n",
    "def get_connection(db, user=user, host=host, password=password):\n",
    "    '''\n",
    "    This function creates a connection to Codeup Database with \n",
    "    info from personal env file (env file has user login information).\n",
    "    '''\n",
    "    return f'mysql+pymysql://{user}:{password}@{host}/{db}'  \n",
    "\n",
    "##############ACQUIRE##################\n",
    "\n",
    "def acquire_zillow():\n",
    "    '''\n",
    "    This function reads in the zillow data from the Codeup \n",
    "    Database connection made from get_connection\n",
    "    and returns a pandas DataFrame with all columns.\n",
    "    '''\n",
    "    sql_query = '''\n",
    "                SELECT parcelid, bedroomcnt, bathroomcnt, calculatedfinishedsquarefeet,\n",
    "                taxvaluedollarcnt\n",
    "                FROM  properties_2017\n",
    "                JOIN predictions_2017 USING(parcelid)\n",
    "                WHERE transactiondate between \"2017-05-01\" and \"2017-08-31\"\n",
    "                and unitcnt = 261 or 263 or 273 or 274 or 276 or 279;\n",
    "                '''\n",
    "    \n",
    "    return pd.read_sql(sql_query, get_connection('zillow'))    \n",
    "\n",
    "\n",
    "\n",
    "def get_zillow_data(cached=False):\n",
    "    '''\n",
    "    This function reads in zillow data from Codeup database and \n",
    "    writes data to a csv file if cached == False. If cached == True \n",
    "    reads in zillow df from a csv file, returns df.\n",
    "    '''\n",
    "    if cached == False or os.path.isfile('zillow.csv') == False:\n",
    "        \n",
    "        # Read fresh data from db into a DataFrame.\n",
    "        df = acquire_zillow()\n",
    "        \n",
    "        # Write DataFrame to a csv file.\n",
    "        df.to_csv('zillow.csv')\n",
    "        \n",
    "    else:\n",
    "        \n",
    "        # If csv file exists or cached == True, read in data from csv.\n",
    "        df = pd.read_csv('zillow.csv', index_col=0)\n",
    "        \n",
    "    return df"
   ]
  },
  {
   "cell_type": "code",
   "execution_count": 14,
   "metadata": {},
   "outputs": [],
   "source": [
    "#functions to get specific zillow data\n",
    "def acquire_some_more_zillow():\n",
    "    '''\n",
    "    This function reads in the zillow data from the Codeup \n",
    "    Database connection made from get_connection\n",
    "    and returns a pandas DataFrame with all columns.\n",
    "    '''\n",
    "    sql_query = '''\n",
    "                SELECT parcelid, bedroomcnt, bathroomcnt, buildingqualitytypeid, yearbuilt, \n",
    "                regionidcounty, regionidzip, fips, latitude, longitude, calculatedfinishedsquarefeet, \n",
    "                taxamount, taxvaluedollarcnt\n",
    "                FROM  properties_2017\n",
    "                JOIN predictions_2017 USING(parcelid)\n",
    "                WHERE transactiondate between \"2017-05-01\" and \"2017-08-31\"\n",
    "                and unitcnt = 1;\n",
    "                '''\n",
    "    return pd.read_sql(sql_query, get_connection('zillow')) \n",
    "\n",
    "\n",
    "def get_some_more_zillow_data(cached=False):\n",
    "    '''\n",
    "    This function reads in zillow data from Codeup database and \n",
    "    writes data to a csv file if cached == False. If cached == True \n",
    "    reads in zillow df from a csv file, returns df.\n",
    "    '''\n",
    "    if cached == False or os.path.isfile('zillow.csv') == False:\n",
    "        \n",
    "        # Read fresh data from db into a DataFrame.\n",
    "        df = acquire_some_more_zillow()\n",
    "        \n",
    "        # Write DataFrame to a csv file.\n",
    "        df.to_csv('zillow.csv')\n",
    "        \n",
    "    else:\n",
    "        \n",
    "        # If csv file exists or cached == True, read in data from csv.\n",
    "        df = pd.read_csv('zillow.csv', index_col=0)\n",
    "        \n",
    "    return df"
   ]
  },
  {
   "cell_type": "code",
   "execution_count": 15,
   "metadata": {},
   "outputs": [
    {
     "data": {
      "text/plain": [
       "3"
      ]
     },
     "execution_count": 15,
     "metadata": {},
     "output_type": "execute_result"
    }
   ],
   "source": [
    "#features for some zillow data: \"parcelid\", \"bedroomcnt\", \"bathroomcnt\", \"buildingqualitytypeid\", \"yearbuilt\", \"regionidcounty\",\"fips\",\"calculatedfinishedsquarefeet\", \"taxamount\", \"taxvaluedollarcnt\"\n",
    "#sql query:\n",
    "#SELECT parcelid, bedroomcnt, bathroomcnt, buildingqualitytypeid, yearbuilt, regionidcounty, fips, calculatedfinishedsquarefeet, taxamount, taxvaluedollarcnt\n",
    "#FROM properties_2017\n",
    "#JOIN predictions_2017 using(parcelid)\n",
    "3#WHERE transactiondate between \"2017-05-01\" and \"2017-06-30\"\n",
    "#and unitcnt = 1;"
   ]
  },
  {
   "cell_type": "code",
   "execution_count": 16,
   "metadata": {},
   "outputs": [],
   "source": [
    "df = get_zillow_data(cached=False)"
   ]
  },
  {
   "cell_type": "markdown",
   "metadata": {},
   "source": [
    "# Prepare First Iteration"
   ]
  },
  {
   "cell_type": "markdown",
   "metadata": {},
   "source": [
    "## Summarize\n",
    "- head()\n",
    "- describe()\n",
    "- info()\n",
    "- isnull()\n",
    "- value_counts()\n",
    "- shape"
   ]
  },
  {
   "cell_type": "code",
   "execution_count": 17,
   "metadata": {},
   "outputs": [
    {
     "data": {
      "text/html": [
       "<div>\n",
       "<style scoped>\n",
       "    .dataframe tbody tr th:only-of-type {\n",
       "        vertical-align: middle;\n",
       "    }\n",
       "\n",
       "    .dataframe tbody tr th {\n",
       "        vertical-align: top;\n",
       "    }\n",
       "\n",
       "    .dataframe thead th {\n",
       "        text-align: right;\n",
       "    }\n",
       "</style>\n",
       "<table border=\"1\" class=\"dataframe\">\n",
       "  <thead>\n",
       "    <tr style=\"text-align: right;\">\n",
       "      <th></th>\n",
       "      <th>parcelid</th>\n",
       "      <th>bedroomcnt</th>\n",
       "      <th>bathroomcnt</th>\n",
       "      <th>calculatedfinishedsquarefeet</th>\n",
       "      <th>taxvaluedollarcnt</th>\n",
       "    </tr>\n",
       "  </thead>\n",
       "  <tbody>\n",
       "    <tr>\n",
       "      <th>0</th>\n",
       "      <td>14297519</td>\n",
       "      <td>4.0</td>\n",
       "      <td>3.5</td>\n",
       "      <td>3100.0</td>\n",
       "      <td>1023282.0</td>\n",
       "    </tr>\n",
       "    <tr>\n",
       "      <th>1</th>\n",
       "      <td>17052889</td>\n",
       "      <td>2.0</td>\n",
       "      <td>1.0</td>\n",
       "      <td>1465.0</td>\n",
       "      <td>464000.0</td>\n",
       "    </tr>\n",
       "    <tr>\n",
       "      <th>2</th>\n",
       "      <td>14186244</td>\n",
       "      <td>3.0</td>\n",
       "      <td>2.0</td>\n",
       "      <td>1243.0</td>\n",
       "      <td>564778.0</td>\n",
       "    </tr>\n",
       "    <tr>\n",
       "      <th>3</th>\n",
       "      <td>12177905</td>\n",
       "      <td>4.0</td>\n",
       "      <td>3.0</td>\n",
       "      <td>2376.0</td>\n",
       "      <td>145143.0</td>\n",
       "    </tr>\n",
       "    <tr>\n",
       "      <th>4</th>\n",
       "      <td>10887214</td>\n",
       "      <td>3.0</td>\n",
       "      <td>3.0</td>\n",
       "      <td>1312.0</td>\n",
       "      <td>119407.0</td>\n",
       "    </tr>\n",
       "  </tbody>\n",
       "</table>\n",
       "</div>"
      ],
      "text/plain": [
       "   parcelid  bedroomcnt  bathroomcnt  calculatedfinishedsquarefeet  \\\n",
       "0  14297519         4.0          3.5                        3100.0   \n",
       "1  17052889         2.0          1.0                        1465.0   \n",
       "2  14186244         3.0          2.0                        1243.0   \n",
       "3  12177905         4.0          3.0                        2376.0   \n",
       "4  10887214         3.0          3.0                        1312.0   \n",
       "\n",
       "   taxvaluedollarcnt  \n",
       "0          1023282.0  \n",
       "1           464000.0  \n",
       "2           564778.0  \n",
       "3           145143.0  \n",
       "4           119407.0  "
      ]
     },
     "execution_count": 17,
     "metadata": {},
     "output_type": "execute_result"
    }
   ],
   "source": [
    "df.head()"
   ]
  },
  {
   "cell_type": "code",
   "execution_count": 18,
   "metadata": {},
   "outputs": [
    {
     "data": {
      "text/html": [
       "<div>\n",
       "<style scoped>\n",
       "    .dataframe tbody tr th:only-of-type {\n",
       "        vertical-align: middle;\n",
       "    }\n",
       "\n",
       "    .dataframe tbody tr th {\n",
       "        vertical-align: top;\n",
       "    }\n",
       "\n",
       "    .dataframe thead th {\n",
       "        text-align: right;\n",
       "    }\n",
       "</style>\n",
       "<table border=\"1\" class=\"dataframe\">\n",
       "  <thead>\n",
       "    <tr style=\"text-align: right;\">\n",
       "      <th></th>\n",
       "      <th>parcelid</th>\n",
       "      <th>bedroomcnt</th>\n",
       "      <th>bathroomcnt</th>\n",
       "      <th>calculatedfinishedsquarefeet</th>\n",
       "      <th>taxvaluedollarcnt</th>\n",
       "    </tr>\n",
       "  </thead>\n",
       "  <tbody>\n",
       "    <tr>\n",
       "      <th>count</th>\n",
       "      <td>7.761400e+04</td>\n",
       "      <td>77580.000000</td>\n",
       "      <td>77580.000000</td>\n",
       "      <td>77379.000000</td>\n",
       "      <td>7.757900e+04</td>\n",
       "    </tr>\n",
       "    <tr>\n",
       "      <th>mean</th>\n",
       "      <td>1.300781e+07</td>\n",
       "      <td>3.053222</td>\n",
       "      <td>2.298492</td>\n",
       "      <td>1784.925923</td>\n",
       "      <td>4.901476e+05</td>\n",
       "    </tr>\n",
       "    <tr>\n",
       "      <th>std</th>\n",
       "      <td>3.518694e+06</td>\n",
       "      <td>1.140472</td>\n",
       "      <td>0.996726</td>\n",
       "      <td>954.247864</td>\n",
       "      <td>6.537942e+05</td>\n",
       "    </tr>\n",
       "    <tr>\n",
       "      <th>min</th>\n",
       "      <td>1.071186e+07</td>\n",
       "      <td>0.000000</td>\n",
       "      <td>0.000000</td>\n",
       "      <td>128.000000</td>\n",
       "      <td>1.000000e+03</td>\n",
       "    </tr>\n",
       "    <tr>\n",
       "      <th>25%</th>\n",
       "      <td>1.153821e+07</td>\n",
       "      <td>2.000000</td>\n",
       "      <td>2.000000</td>\n",
       "      <td>1182.000000</td>\n",
       "      <td>2.068990e+05</td>\n",
       "    </tr>\n",
       "    <tr>\n",
       "      <th>50%</th>\n",
       "      <td>1.253006e+07</td>\n",
       "      <td>3.000000</td>\n",
       "      <td>2.000000</td>\n",
       "      <td>1542.000000</td>\n",
       "      <td>3.588780e+05</td>\n",
       "    </tr>\n",
       "    <tr>\n",
       "      <th>75%</th>\n",
       "      <td>1.421100e+07</td>\n",
       "      <td>4.000000</td>\n",
       "      <td>3.000000</td>\n",
       "      <td>2112.000000</td>\n",
       "      <td>5.690000e+05</td>\n",
       "    </tr>\n",
       "    <tr>\n",
       "      <th>max</th>\n",
       "      <td>1.676893e+08</td>\n",
       "      <td>16.000000</td>\n",
       "      <td>18.000000</td>\n",
       "      <td>35640.000000</td>\n",
       "      <td>4.906124e+07</td>\n",
       "    </tr>\n",
       "  </tbody>\n",
       "</table>\n",
       "</div>"
      ],
      "text/plain": [
       "           parcelid    bedroomcnt   bathroomcnt  calculatedfinishedsquarefeet  \\\n",
       "count  7.761400e+04  77580.000000  77580.000000                  77379.000000   \n",
       "mean   1.300781e+07      3.053222      2.298492                   1784.925923   \n",
       "std    3.518694e+06      1.140472      0.996726                    954.247864   \n",
       "min    1.071186e+07      0.000000      0.000000                    128.000000   \n",
       "25%    1.153821e+07      2.000000      2.000000                   1182.000000   \n",
       "50%    1.253006e+07      3.000000      2.000000                   1542.000000   \n",
       "75%    1.421100e+07      4.000000      3.000000                   2112.000000   \n",
       "max    1.676893e+08     16.000000     18.000000                  35640.000000   \n",
       "\n",
       "       taxvaluedollarcnt  \n",
       "count       7.757900e+04  \n",
       "mean        4.901476e+05  \n",
       "std         6.537942e+05  \n",
       "min         1.000000e+03  \n",
       "25%         2.068990e+05  \n",
       "50%         3.588780e+05  \n",
       "75%         5.690000e+05  \n",
       "max         4.906124e+07  "
      ]
     },
     "execution_count": 18,
     "metadata": {},
     "output_type": "execute_result"
    }
   ],
   "source": [
    "df.describe()"
   ]
  },
  {
   "cell_type": "code",
   "execution_count": 19,
   "metadata": {},
   "outputs": [
    {
     "name": "stdout",
     "output_type": "stream",
     "text": [
      "<class 'pandas.core.frame.DataFrame'>\n",
      "RangeIndex: 77614 entries, 0 to 77613\n",
      "Data columns (total 5 columns):\n",
      " #   Column                        Non-Null Count  Dtype  \n",
      "---  ------                        --------------  -----  \n",
      " 0   parcelid                      77614 non-null  int64  \n",
      " 1   bedroomcnt                    77580 non-null  float64\n",
      " 2   bathroomcnt                   77580 non-null  float64\n",
      " 3   calculatedfinishedsquarefeet  77379 non-null  float64\n",
      " 4   taxvaluedollarcnt             77579 non-null  float64\n",
      "dtypes: float64(4), int64(1)\n",
      "memory usage: 3.0 MB\n"
     ]
    }
   ],
   "source": [
    "df.info()"
   ]
  },
  {
   "cell_type": "markdown",
   "metadata": {},
   "source": [
    "### .info() takeaways\n",
    "- bedroom and bathroom count are floats, look into if there are really half bedrooms.  I know half bathrooms exist, but I should still check it out later in value counts.  "
   ]
  },
  {
   "cell_type": "code",
   "execution_count": 20,
   "metadata": {},
   "outputs": [
    {
     "data": {
      "text/plain": [
       "parcelid                          0\n",
       "bedroomcnt                       34\n",
       "bathroomcnt                      34\n",
       "calculatedfinishedsquarefeet    235\n",
       "taxvaluedollarcnt                35\n",
       "dtype: int64"
      ]
     },
     "execution_count": 20,
     "metadata": {},
     "output_type": "execute_result"
    }
   ],
   "source": [
    "df.isnull().sum()"
   ]
  },
  {
   "cell_type": "markdown",
   "metadata": {},
   "source": [
    "### isnull().sum() takeaways\n",
    "- drop null bedroom and bathroom bc very few and cannot pull the data from another column\n",
    "- drop calculated square feet as well\n",
    "- drop tax value (can go back and calculate later)"
   ]
  },
  {
   "cell_type": "code",
   "execution_count": 39,
   "metadata": {},
   "outputs": [
    {
     "data": {
      "text/plain": [
       "parcelid                          0\n",
       "bedroomcnt                       34\n",
       "bathroomcnt                      34\n",
       "calculatedfinishedsquarefeet    235\n",
       "taxvaluedollarcnt                35\n",
       "dtype: int64"
      ]
     },
     "execution_count": 39,
     "metadata": {},
     "output_type": "execute_result"
    }
   ],
   "source": [
    "df.isna().sum()"
   ]
  },
  {
   "cell_type": "code",
   "execution_count": null,
   "metadata": {},
   "outputs": [],
   "source": []
  },
  {
   "cell_type": "markdown",
   "metadata": {},
   "source": [
    "### isna().sum() takeaways\n",
    "- drop all"
   ]
  },
  {
   "cell_type": "code",
   "execution_count": 40,
   "metadata": {},
   "outputs": [
    {
     "data": {
      "text/plain": [
       "Index(['parcelid', 'bedroomcnt', 'bathroomcnt', 'calculatedfinishedsquarefeet',\n",
       "       'taxvaluedollarcnt'],\n",
       "      dtype='object')"
      ]
     },
     "execution_count": 40,
     "metadata": {},
     "output_type": "execute_result"
    }
   ],
   "source": [
    "df.columns"
   ]
  },
  {
   "cell_type": "code",
   "execution_count": 41,
   "metadata": {},
   "outputs": [
    {
     "data": {
      "text/plain": [
       "3.0     30437\n",
       "2.0     19223\n",
       "4.0     17551\n",
       "5.0      4550\n",
       "1.0      3391\n",
       "6.0      1000\n",
       "0.0       837\n",
       "8.0       253\n",
       "7.0       208\n",
       "9.0        70\n",
       "10.0       31\n",
       "12.0       16\n",
       "11.0        9\n",
       "13.0        2\n",
       "16.0        1\n",
       "14.0        1\n",
       "Name: bedroomcnt, dtype: int64"
      ]
     },
     "execution_count": 41,
     "metadata": {},
     "output_type": "execute_result"
    }
   ],
   "source": [
    "#bedroom value counts\n",
    "df.bedroomcnt.value_counts()\n"
   ]
  },
  {
   "cell_type": "code",
   "execution_count": 42,
   "metadata": {},
   "outputs": [
    {
     "data": {
      "text/plain": [
       "2.0     31576\n",
       "3.0     17354\n",
       "1.0     12945\n",
       "2.5      6607\n",
       "4.0      3356\n",
       "1.5      1419\n",
       "3.5      1036\n",
       "5.0      1026\n",
       "4.5       696\n",
       "0.0       599\n",
       "6.0       419\n",
       "5.5       224\n",
       "7.0       114\n",
       "8.0       108\n",
       "6.5        47\n",
       "9.0        23\n",
       "7.5        16\n",
       "10.0        7\n",
       "8.5         3\n",
       "11.0        3\n",
       "13.0        1\n",
       "18.0        1\n",
       "Name: bathroomcnt, dtype: int64"
      ]
     },
     "execution_count": 42,
     "metadata": {},
     "output_type": "execute_result"
    }
   ],
   "source": [
    "#bathroom value counts\n",
    "df.bathroomcnt.value_counts()\n"
   ]
  },
  {
   "cell_type": "code",
   "execution_count": 43,
   "metadata": {},
   "outputs": [
    {
     "data": {
      "text/plain": [
       "1200.0     182\n",
       "1120.0     169\n",
       "1440.0     148\n",
       "1080.0     133\n",
       "1260.0     121\n",
       "          ... \n",
       "6852.0       1\n",
       "12056.0      1\n",
       "4533.0       1\n",
       "9065.0       1\n",
       "7196.0       1\n",
       "Name: calculatedfinishedsquarefeet, Length: 4972, dtype: int64"
      ]
     },
     "execution_count": 43,
     "metadata": {},
     "output_type": "execute_result"
    }
   ],
   "source": [
    "#square feet value counts\n",
    "df.calculatedfinishedsquarefeet.value_counts()\n"
   ]
  },
  {
   "cell_type": "code",
   "execution_count": 44,
   "metadata": {},
   "outputs": [
    {
     "data": {
      "text/plain": [
       "400000.0    56\n",
       "600000.0    50\n",
       "350000.0    49\n",
       "450000.0    45\n",
       "455000.0    44\n",
       "            ..\n",
       "247786.0     1\n",
       "820528.0     1\n",
       "302891.0     1\n",
       "92106.0      1\n",
       "98304.0      1\n",
       "Name: taxvaluedollarcnt, Length: 50949, dtype: int64"
      ]
     },
     "execution_count": 44,
     "metadata": {},
     "output_type": "execute_result"
    }
   ],
   "source": [
    "#tax value value counts\n",
    "df.taxvaluedollarcnt.value_counts()\n"
   ]
  },
  {
   "cell_type": "code",
   "execution_count": 45,
   "metadata": {},
   "outputs": [
    {
     "data": {
      "text/plain": [
       "(77614, 5)"
      ]
     },
     "execution_count": 45,
     "metadata": {},
     "output_type": "execute_result"
    }
   ],
   "source": [
    "df.shape\n"
   ]
  },
  {
   "cell_type": "markdown",
   "metadata": {},
   "source": [
    "## Visualize Univariates"
   ]
  },
  {
   "cell_type": "code",
   "execution_count": 46,
   "metadata": {},
   "outputs": [
    {
     "data": {
      "image/png": "[encoded data removed]",
      "text/plain": [
       "<Figure size 1152x216 with 4 Axes>"
      ]
     },
     "metadata": {
      "needs_background": "light"
     },
     "output_type": "display_data"
    }
   ],
   "source": [
    "plt.figure(figsize=(16, 3))\n",
    "\n",
    "for i, col in enumerate(['bedroomcnt', 'bathroomcnt', 'calculatedfinishedsquarefeet', 'taxvaluedollarcnt']):  \n",
    "    plot_number = i + 1 # i starts at 0, but plot nos should start at 1\n",
    "    series = df[col]  \n",
    "    plt.subplot(1,4, plot_number)\n",
    "    plt.title(col)\n",
    "    series.hist(bins=20)"
   ]
  },
  {
   "cell_type": "code",
   "execution_count": 55,
   "metadata": {},
   "outputs": [
    {
     "data": {
      "text/plain": [
       "<seaborn.axisgrid.PairGrid at 0x7fa91d2c58e0>"
      ]
     },
     "execution_count": 55,
     "metadata": {},
     "output_type": "execute_result"
    },
    {
     "data": {
      "image/png": "[encoded data removed]",
      "text/plain": [
       "<Figure size 900x900 with 30 Axes>"
      ]
     },
     "metadata": {
      "needs_background": "light"
     },
     "output_type": "display_data"
    }
   ],
   "source": [
    "sns.pairplot(df, kind= \"reg\")"
   ]
  },
  {
   "cell_type": "markdown",
   "metadata": {},
   "source": [
    "## Clean"
   ]
  },
  {
   "cell_type": "markdown",
   "metadata": {},
   "source": [
    "### Clean Plan:\n",
    "- drop nans/nulls\n",
    "- drop outliers\n",
    "- fix any data errors\n",
    "- change bedrooms to int\n",
    "- change names of columns to be easier to understand\n",
    "- scale data\n",
    "- split the data"
   ]
  },
  {
   "cell_type": "markdown",
   "metadata": {},
   "source": [
    "##### Nulls/Nans"
   ]
  },
  {
   "cell_type": "code",
   "execution_count": 47,
   "metadata": {},
   "outputs": [],
   "source": [
    "# drop the two nulls/nans observed earlier\n",
    "df = df.dropna()\n"
   ]
  },
  {
   "cell_type": "code",
   "execution_count": 48,
   "metadata": {},
   "outputs": [
    {
     "data": {
      "text/plain": [
       "parcelid                        0\n",
       "bedroomcnt                      0\n",
       "bathroomcnt                     0\n",
       "calculatedfinishedsquarefeet    0\n",
       "taxvaluedollarcnt               0\n",
       "dtype: int64"
      ]
     },
     "execution_count": 48,
     "metadata": {},
     "output_type": "execute_result"
    }
   ],
   "source": [
    "#ensure they dropped\n",
    "#squarefeet no longer has nulls/nans so we can press forward\n",
    "df.isna().sum()"
   ]
  },
  {
   "cell_type": "code",
   "execution_count": 49,
   "metadata": {},
   "outputs": [
    {
     "data": {
      "text/plain": [
       "(77378, 5)"
      ]
     },
     "execution_count": 49,
     "metadata": {},
     "output_type": "execute_result"
    }
   ],
   "source": [
    "df.shape\n"
   ]
  },
  {
   "cell_type": "markdown",
   "metadata": {},
   "source": [
    "##### Outliers"
   ]
  },
  {
   "cell_type": "code",
   "execution_count": 71,
   "metadata": {},
   "outputs": [
    {
     "name": "stdout",
     "output_type": "stream",
     "text": [
      "column: bedrooms \n",
      "IQR: 3.0 \n",
      "Upper bound: 8.5 \n",
      "Lower bound: -2.5 \n",
      "\n",
      "column: bathrooms \n",
      "IQR: 1.5 \n",
      "Upper bound: 5.25 \n",
      "Lower bound: -0.25 \n",
      "\n",
      "column: square_feet \n",
      "IQR: 1351.5 \n",
      "Upper bound: 4105.25 \n",
      "Lower bound: -850.25 \n",
      "\n",
      "column: tax_value \n",
      "IQR: 515614.5 \n",
      "Upper bound: 1319540.75 \n",
      "Lower bound: -571045.75 \n",
      "\n"
     ]
    }
   ],
   "source": [
    "columns = ['bedrooms', 'bathrooms','square_feet', 'tax_value']\n",
    "for x in columns:\n",
    "    \n",
    "    Q1 = df[x].quantile(0.25)\n",
    "    Q3 = df[x].quantile(0.75)\n",
    "    IQR = (Q3 - Q1) * 1.5\n",
    "    upper = Q3 + (1.5 * IQR)\n",
    "    lower = Q1 - (1.5 * IQR)\n",
    "    df = df[df[x] < (upper)]\n",
    "    \n",
    "    print('column:', x,'\\nIQR:', IQR, '\\nUpper bound:', upper, '\\nLower bound:', lower, '\\n')"
   ]
  },
  {
   "cell_type": "code",
   "execution_count": 72,
   "metadata": {},
   "outputs": [
    {
     "data": {
      "text/plain": [
       "(72749, 4)"
      ]
     },
     "execution_count": 72,
     "metadata": {},
     "output_type": "execute_result"
    }
   ],
   "source": [
    "df.shape\n"
   ]
  },
  {
   "cell_type": "markdown",
   "metadata": {},
   "source": [
    "##### 77378 to 72749 with the removal of outliers"
   ]
  },
  {
   "cell_type": "markdown",
   "metadata": {},
   "source": [
    "##### Change names of columns"
   ]
  },
  {
   "cell_type": "code",
   "execution_count": 56,
   "metadata": {},
   "outputs": [],
   "source": [
    "\n",
    "# Some prep\n",
    "df = df.rename(columns={\"bedroomcnt\": \"bedrooms\", \n",
    "                        \"bathroomcnt\": \"bathrooms\", \n",
    "                        \"calculatedfinishedsquarefeet\": \"square_feet\", \n",
    "                        \"taxvaluedollarcnt\": \"tax_value\"})"
   ]
  },
  {
   "cell_type": "code",
   "execution_count": 57,
   "metadata": {},
   "outputs": [
    {
     "data": {
      "text/html": [
       "<div>\n",
       "<style scoped>\n",
       "    .dataframe tbody tr th:only-of-type {\n",
       "        vertical-align: middle;\n",
       "    }\n",
       "\n",
       "    .dataframe tbody tr th {\n",
       "        vertical-align: top;\n",
       "    }\n",
       "\n",
       "    .dataframe thead th {\n",
       "        text-align: right;\n",
       "    }\n",
       "</style>\n",
       "<table border=\"1\" class=\"dataframe\">\n",
       "  <thead>\n",
       "    <tr style=\"text-align: right;\">\n",
       "      <th></th>\n",
       "      <th>parcelid</th>\n",
       "      <th>bedrooms</th>\n",
       "      <th>bathrooms</th>\n",
       "      <th>square_feet</th>\n",
       "      <th>tax_value</th>\n",
       "    </tr>\n",
       "  </thead>\n",
       "  <tbody>\n",
       "    <tr>\n",
       "      <th>0</th>\n",
       "      <td>14297519</td>\n",
       "      <td>4.0</td>\n",
       "      <td>3.5</td>\n",
       "      <td>3100.0</td>\n",
       "      <td>1023282.0</td>\n",
       "    </tr>\n",
       "    <tr>\n",
       "      <th>1</th>\n",
       "      <td>17052889</td>\n",
       "      <td>2.0</td>\n",
       "      <td>1.0</td>\n",
       "      <td>1465.0</td>\n",
       "      <td>464000.0</td>\n",
       "    </tr>\n",
       "    <tr>\n",
       "      <th>2</th>\n",
       "      <td>14186244</td>\n",
       "      <td>3.0</td>\n",
       "      <td>2.0</td>\n",
       "      <td>1243.0</td>\n",
       "      <td>564778.0</td>\n",
       "    </tr>\n",
       "    <tr>\n",
       "      <th>3</th>\n",
       "      <td>12177905</td>\n",
       "      <td>4.0</td>\n",
       "      <td>3.0</td>\n",
       "      <td>2376.0</td>\n",
       "      <td>145143.0</td>\n",
       "    </tr>\n",
       "    <tr>\n",
       "      <th>4</th>\n",
       "      <td>10887214</td>\n",
       "      <td>3.0</td>\n",
       "      <td>3.0</td>\n",
       "      <td>1312.0</td>\n",
       "      <td>119407.0</td>\n",
       "    </tr>\n",
       "  </tbody>\n",
       "</table>\n",
       "</div>"
      ],
      "text/plain": [
       "   parcelid  bedrooms  bathrooms  square_feet  tax_value\n",
       "0  14297519       4.0        3.5       3100.0  1023282.0\n",
       "1  17052889       2.0        1.0       1465.0   464000.0\n",
       "2  14186244       3.0        2.0       1243.0   564778.0\n",
       "3  12177905       4.0        3.0       2376.0   145143.0\n",
       "4  10887214       3.0        3.0       1312.0   119407.0"
      ]
     },
     "execution_count": 57,
     "metadata": {},
     "output_type": "execute_result"
    }
   ],
   "source": [
    "df.head()"
   ]
  },
  {
   "cell_type": "markdown",
   "metadata": {},
   "source": [
    "#### Change room counts to int"
   ]
  },
  {
   "cell_type": "code",
   "execution_count": 58,
   "metadata": {},
   "outputs": [],
   "source": [
    "df['bedrooms'] = df.bedrooms.astype('int')\n"
   ]
  },
  {
   "cell_type": "code",
   "execution_count": 59,
   "metadata": {},
   "outputs": [
    {
     "name": "stdout",
     "output_type": "stream",
     "text": [
      "<class 'pandas.core.frame.DataFrame'>\n",
      "Int64Index: 77378 entries, 0 to 77613\n",
      "Data columns (total 5 columns):\n",
      " #   Column       Non-Null Count  Dtype  \n",
      "---  ------       --------------  -----  \n",
      " 0   parcelid     77378 non-null  int64  \n",
      " 1   bedrooms     77378 non-null  int64  \n",
      " 2   bathrooms    77378 non-null  float64\n",
      " 3   square_feet  77378 non-null  float64\n",
      " 4   tax_value    77378 non-null  float64\n",
      "dtypes: float64(3), int64(2)\n",
      "memory usage: 3.5 MB\n"
     ]
    }
   ],
   "source": [
    "df.info()"
   ]
  },
  {
   "cell_type": "markdown",
   "metadata": {},
   "source": [
    "##### Set parcelid as index"
   ]
  },
  {
   "cell_type": "code",
   "execution_count": 60,
   "metadata": {},
   "outputs": [],
   "source": [
    "df = df.set_index(\"parcelid\")"
   ]
  },
  {
   "cell_type": "code",
   "execution_count": 73,
   "metadata": {},
   "outputs": [
    {
     "data": {
      "text/html": [
       "<div>\n",
       "<style scoped>\n",
       "    .dataframe tbody tr th:only-of-type {\n",
       "        vertical-align: middle;\n",
       "    }\n",
       "\n",
       "    .dataframe tbody tr th {\n",
       "        vertical-align: top;\n",
       "    }\n",
       "\n",
       "    .dataframe thead th {\n",
       "        text-align: right;\n",
       "    }\n",
       "</style>\n",
       "<table border=\"1\" class=\"dataframe\">\n",
       "  <thead>\n",
       "    <tr style=\"text-align: right;\">\n",
       "      <th></th>\n",
       "      <th>bedrooms</th>\n",
       "      <th>bathrooms</th>\n",
       "      <th>square_feet</th>\n",
       "      <th>tax_value</th>\n",
       "    </tr>\n",
       "    <tr>\n",
       "      <th>parcelid</th>\n",
       "      <th></th>\n",
       "      <th></th>\n",
       "      <th></th>\n",
       "      <th></th>\n",
       "    </tr>\n",
       "  </thead>\n",
       "  <tbody>\n",
       "    <tr>\n",
       "      <th>14297519</th>\n",
       "      <td>4</td>\n",
       "      <td>3.5</td>\n",
       "      <td>3100.0</td>\n",
       "      <td>1023282.0</td>\n",
       "    </tr>\n",
       "    <tr>\n",
       "      <th>17052889</th>\n",
       "      <td>2</td>\n",
       "      <td>1.0</td>\n",
       "      <td>1465.0</td>\n",
       "      <td>464000.0</td>\n",
       "    </tr>\n",
       "    <tr>\n",
       "      <th>14186244</th>\n",
       "      <td>3</td>\n",
       "      <td>2.0</td>\n",
       "      <td>1243.0</td>\n",
       "      <td>564778.0</td>\n",
       "    </tr>\n",
       "    <tr>\n",
       "      <th>12177905</th>\n",
       "      <td>4</td>\n",
       "      <td>3.0</td>\n",
       "      <td>2376.0</td>\n",
       "      <td>145143.0</td>\n",
       "    </tr>\n",
       "    <tr>\n",
       "      <th>10887214</th>\n",
       "      <td>3</td>\n",
       "      <td>3.0</td>\n",
       "      <td>1312.0</td>\n",
       "      <td>119407.0</td>\n",
       "    </tr>\n",
       "  </tbody>\n",
       "</table>\n",
       "</div>"
      ],
      "text/plain": [
       "          bedrooms  bathrooms  square_feet  tax_value\n",
       "parcelid                                             \n",
       "14297519         4        3.5       3100.0  1023282.0\n",
       "17052889         2        1.0       1465.0   464000.0\n",
       "14186244         3        2.0       1243.0   564778.0\n",
       "12177905         4        3.0       2376.0   145143.0\n",
       "10887214         3        3.0       1312.0   119407.0"
      ]
     },
     "execution_count": 73,
     "metadata": {},
     "output_type": "execute_result"
    }
   ],
   "source": [
    "df.head()"
   ]
  },
  {
   "cell_type": "code",
   "execution_count": 74,
   "metadata": {},
   "outputs": [
    {
     "name": "stdout",
     "output_type": "stream",
     "text": [
      "<class 'pandas.core.frame.DataFrame'>\n",
      "Int64Index: 72749 entries, 14297519 to 13083743\n",
      "Data columns (total 4 columns):\n",
      " #   Column       Non-Null Count  Dtype  \n",
      "---  ------       --------------  -----  \n",
      " 0   bedrooms     72749 non-null  int64  \n",
      " 1   bathrooms    72749 non-null  float64\n",
      " 2   square_feet  72749 non-null  float64\n",
      " 3   tax_value    72749 non-null  float64\n",
      "dtypes: float64(3), int64(1)\n",
      "memory usage: 2.8 MB\n"
     ]
    }
   ],
   "source": [
    "df.info()"
   ]
  },
  {
   "cell_type": "markdown",
   "metadata": {},
   "source": [
    "### Split"
   ]
  },
  {
   "cell_type": "code",
   "execution_count": 77,
   "metadata": {},
   "outputs": [],
   "source": [
    "def train_validate_test_split(df, seed=123):\n",
    "    '''\n",
    "    This function takes in a dataframe, the name of the target variable\n",
    "    (for stratification purposes), and an integer for a setting a seed\n",
    "    and splits the data into train, validate and test. \n",
    "    Test is 20% of the original dataset, validate is .30*.80= 24% of the \n",
    "    original dataset, and train is .70*.80= 56% of the original dataset. \n",
    "    The function returns, in this order, train, validate and test dataframes. \n",
    "    '''\n",
    "    train_validate, test = train_test_split(df, test_size=0.2, \n",
    "                                            random_state=seed)\n",
    "    train, validate = train_test_split(train_validate, test_size=0.3, \n",
    "                                       random_state=seed)\n",
    "    return train, validate, test"
   ]
  },
  {
   "cell_type": "code",
   "execution_count": 78,
   "metadata": {},
   "outputs": [],
   "source": [
    "train, validate, test = train_validate_test_split(df, seed=123)"
   ]
  },
  {
   "cell_type": "code",
   "execution_count": 79,
   "metadata": {},
   "outputs": [
    {
     "data": {
      "text/html": [
       "<div>\n",
       "<style scoped>\n",
       "    .dataframe tbody tr th:only-of-type {\n",
       "        vertical-align: middle;\n",
       "    }\n",
       "\n",
       "    .dataframe tbody tr th {\n",
       "        vertical-align: top;\n",
       "    }\n",
       "\n",
       "    .dataframe thead th {\n",
       "        text-align: right;\n",
       "    }\n",
       "</style>\n",
       "<table border=\"1\" class=\"dataframe\">\n",
       "  <thead>\n",
       "    <tr style=\"text-align: right;\">\n",
       "      <th></th>\n",
       "      <th>bedrooms</th>\n",
       "      <th>bathrooms</th>\n",
       "      <th>square_feet</th>\n",
       "      <th>tax_value</th>\n",
       "    </tr>\n",
       "    <tr>\n",
       "      <th>parcelid</th>\n",
       "      <th></th>\n",
       "      <th></th>\n",
       "      <th></th>\n",
       "      <th></th>\n",
       "    </tr>\n",
       "  </thead>\n",
       "  <tbody>\n",
       "    <tr>\n",
       "      <th>11206599</th>\n",
       "      <td>3</td>\n",
       "      <td>3.0</td>\n",
       "      <td>1556.0</td>\n",
       "      <td>228431.0</td>\n",
       "    </tr>\n",
       "    <tr>\n",
       "      <th>13042976</th>\n",
       "      <td>4</td>\n",
       "      <td>3.0</td>\n",
       "      <td>2593.0</td>\n",
       "      <td>379955.0</td>\n",
       "    </tr>\n",
       "    <tr>\n",
       "      <th>12867101</th>\n",
       "      <td>2</td>\n",
       "      <td>1.0</td>\n",
       "      <td>1000.0</td>\n",
       "      <td>443723.0</td>\n",
       "    </tr>\n",
       "    <tr>\n",
       "      <th>11248986</th>\n",
       "      <td>3</td>\n",
       "      <td>2.0</td>\n",
       "      <td>1468.0</td>\n",
       "      <td>98355.0</td>\n",
       "    </tr>\n",
       "    <tr>\n",
       "      <th>11400581</th>\n",
       "      <td>2</td>\n",
       "      <td>3.0</td>\n",
       "      <td>1399.0</td>\n",
       "      <td>220257.0</td>\n",
       "    </tr>\n",
       "  </tbody>\n",
       "</table>\n",
       "</div>"
      ],
      "text/plain": [
       "          bedrooms  bathrooms  square_feet  tax_value\n",
       "parcelid                                             \n",
       "11206599         3        3.0       1556.0   228431.0\n",
       "13042976         4        3.0       2593.0   379955.0\n",
       "12867101         2        1.0       1000.0   443723.0\n",
       "11248986         3        2.0       1468.0    98355.0\n",
       "11400581         2        3.0       1399.0   220257.0"
      ]
     },
     "execution_count": 79,
     "metadata": {},
     "output_type": "execute_result"
    }
   ],
   "source": [
    "train.head()"
   ]
  },
  {
   "cell_type": "code",
   "execution_count": 80,
   "metadata": {},
   "outputs": [
    {
     "name": "stdout",
     "output_type": "stream",
     "text": [
      "train -> (40739, 4)\n",
      "validate -> (17460, 4)\n",
      "test -> (14550, 4)\n"
     ]
    }
   ],
   "source": [
    "print(f'train -> {train.shape}')\n",
    "print(f'validate -> {validate.shape}')\n",
    "print(f'test -> {test.shape}')"
   ]
  },
  {
   "cell_type": "code",
   "execution_count": 81,
   "metadata": {},
   "outputs": [],
   "source": [
    "X_train = train.drop(columns='tax_value')\n",
    "\n",
    "y_train = train['tax_value']\n",
    "\n",
    "X_validate = validate.drop(columns='tax_value')\n",
    "\n",
    "y_validate = validate['tax_value']\n",
    "\n",
    "X_test = test.drop(columns='tax_value')\n",
    "\n",
    "y_test = test['tax_value']"
   ]
  },
  {
   "cell_type": "code",
   "execution_count": 82,
   "metadata": {},
   "outputs": [
    {
     "name": "stdout",
     "output_type": "stream",
     "text": [
      "X_train -> (40739, 3)\n",
      "X_validate -> (17460, 3)\n",
      "X_test -> (14550, 3)\n"
     ]
    }
   ],
   "source": [
    "print(f'X_train -> {X_train.shape}')\n",
    "print(f'X_validate -> {X_validate.shape}')\n",
    "print(f'X_test -> {X_test.shape}')"
   ]
  },
  {
   "cell_type": "markdown",
   "metadata": {},
   "source": [
    "### Scale"
   ]
  },
  {
   "cell_type": "code",
   "execution_count": 87,
   "metadata": {},
   "outputs": [],
   "source": [
    "scaler = StandardScaler()"
   ]
  },
  {
   "cell_type": "code",
   "execution_count": 88,
   "metadata": {},
   "outputs": [],
   "source": [
    "columns_to_scale = ['bedrooms', 'bathrooms', 'square_feet']"
   ]
  },
  {
   "cell_type": "code",
   "execution_count": 89,
   "metadata": {},
   "outputs": [
    {
     "data": {
      "text/plain": [
       "StandardScaler()"
      ]
     },
     "execution_count": 89,
     "metadata": {},
     "output_type": "execute_result"
    }
   ],
   "source": [
    "scaler.fit(train[columns_to_scale])"
   ]
  },
  {
   "cell_type": "code",
   "execution_count": 90,
   "metadata": {},
   "outputs": [],
   "source": [
    "scaled_column_names = [c + '_scaled' for c in columns_to_scale]"
   ]
  },
  {
   "cell_type": "code",
   "execution_count": 91,
   "metadata": {},
   "outputs": [],
   "source": [
    "train_scaled = pd.concat([\n",
    "                        train,\n",
    "                        pd.DataFrame(scaler.transform(train[columns_to_scale]), \n",
    "                        columns=scaled_column_names, \n",
    "                        index=train.index)],\n",
    "                        axis=1)"
   ]
  },
  {
   "cell_type": "code",
   "execution_count": 92,
   "metadata": {},
   "outputs": [],
   "source": [
    "validate_scaled = pd.concat([\n",
    "                        validate,\n",
    "                        pd.DataFrame(scaler.transform(validate[columns_to_scale]), \n",
    "                        columns=scaled_column_names, \n",
    "                        index=validate.index)],\n",
    "                        axis=1)"
   ]
  },
  {
   "cell_type": "code",
   "execution_count": 93,
   "metadata": {},
   "outputs": [],
   "source": [
    "test_scaled = pd.concat([\n",
    "                        test,\n",
    "                        pd.DataFrame(scaler.transform(test[columns_to_scale]), \n",
    "                        columns=scaled_column_names, \n",
    "                        index=test.index)],\n",
    "                        axis=1)"
   ]
  },
  {
   "cell_type": "markdown",
   "metadata": {},
   "source": [
    "## Explore"
   ]
  },
  {
   "cell_type": "code",
   "execution_count": 133,
   "metadata": {},
   "outputs": [
    {
     "data": {
      "image/png": "[encoded data removed]",
      "text/plain": [
       "<Figure size 360x360 with 3 Axes>"
      ]
     },
     "metadata": {},
     "output_type": "display_data"
    }
   ],
   "source": [
    "with sns.axes_style('white'):\n",
    "    j = sns.jointplot(\"bedrooms\", \"tax_value\", data=train_scaled, kind = 'hex', height=5);\n",
    "plt.show()"
   ]
  },
  {
   "cell_type": "code",
   "execution_count": 129,
   "metadata": {},
   "outputs": [
    {
     "data": {
      "image/png": "[encoded data removed]",
      "text/plain": [
       "<Figure size 360x360 with 3 Axes>"
      ]
     },
     "metadata": {},
     "output_type": "display_data"
    }
   ],
   "source": [
    "#kind{ “scatter” | “kde” | “hist” | “hex” | “reg” | “resid” }\n",
    "\n",
    "with sns.axes_style('white'):\n",
    "    j = sns.jointplot(\"bathrooms\", \"tax_value\", data=train_scaled, kind='hex', height=5);\n",
    "plt.show()"
   ]
  },
  {
   "cell_type": "code",
   "execution_count": 125,
   "metadata": {},
   "outputs": [
    {
     "data": {
      "image/png": "[encoded data removed]",
      "text/plain": [
       "<Figure size 360x360 with 3 Axes>"
      ]
     },
     "metadata": {},
     "output_type": "display_data"
    }
   ],
   "source": [
    "with sns.axes_style('white'):\n",
    "    j = sns.jointplot(\"square_feet\", \"tax_value\", data=train_scaled, hue = \"bathrooms\", height=5);\n",
    "plt.show()"
   ]
  },
  {
   "cell_type": "code",
   "execution_count": 134,
   "metadata": {},
   "outputs": [
    {
     "data": {
      "image/png": "[encoded data removed]",
      "text/plain": [
       "<Figure size 1260x1260 with 56 Axes>"
      ]
     },
     "metadata": {
      "needs_background": "light"
     },
     "output_type": "display_data"
    }
   ],
   "source": [
    "g = sns.PairGrid(train_scaled)\n",
    "g.map_diag(plt.hist)\n",
    "g.map_offdiag(plt.scatter);"
   ]
  },
  {
   "cell_type": "code",
   "execution_count": 113,
   "metadata": {},
   "outputs": [
    {
     "data": {
      "image/png": "[encoded data removed]",
      "text/plain": [
       "<Figure size 864x288 with 3 Axes>"
      ]
     },
     "metadata": {
      "needs_background": "light"
     },
     "output_type": "display_data"
    }
   ],
   "source": [
    "top3 = ['bedrooms', 'bathrooms', 'square_feet']\n",
    "colors = ['#004c70', '#990000', '#004c70']\n",
    "\n",
    "fig, ax = plt.subplots(nrows = 1, ncols = 3, figsize = (12,4))\n",
    "for i, col in enumerate(top3):\n",
    "    sns.distplot(train_scaled[col], color = colors[i], ax = ax[i])\n",
    "    ax[i].set_title(f'{col} distribution', fontsize = 15)\n",
    "\n",
    "for s in ['top','left','right']:\n",
    "    ax[0].spines[s].set_visible(False)\n",
    "    ax[1].spines[s].set_visible(False)\n",
    "    ax[2].spines[s].set_visible(False)\n",
    "ax[0].grid(axis='y', linestyle='-', alpha=0.4); ax[1].grid(axis='y', linestyle='-', alpha=0.4); ax[2].grid(axis='y', linestyle='-', alpha=0.4)"
   ]
  },
  {
   "cell_type": "code",
   "execution_count": 106,
   "metadata": {},
   "outputs": [
    {
     "data": {
      "image/png": "[encoded data removed]",
      "text/plain": [
       "<Figure size 1008x720 with 2 Axes>"
      ]
     },
     "metadata": {
      "needs_background": "light"
     },
     "output_type": "display_data"
    }
   ],
   "source": [
    "\n",
    "plt.figure(figsize = (14,10))\n",
    "sns.heatmap(train_scaled.corr(), cmap='YlGnBu', annot=True)\n",
    "plt.title('Correlation heatmap', fontsize = 18)\n",
    "plt.show()"
   ]
  },
  {
   "cell_type": "code",
   "execution_count": 115,
   "metadata": {},
   "outputs": [
    {
     "data": {
      "text/plain": [
       "<AxesSubplot:xlabel='tax_value'>"
      ]
     },
     "execution_count": 115,
     "metadata": {},
     "output_type": "execute_result"
    },
    {
     "data": {
      "image/png": "[encoded data removed]",
      "text/plain": [
       "<Figure size 432x288 with 4 Axes>"
      ]
     },
     "metadata": {
      "needs_background": "light"
     },
     "output_type": "display_data"
    }
   ],
   "source": [
    "plt.subplot(221)\n",
    "sns.boxplot(train_scaled.bedrooms)\n",
    "\n",
    "plt.subplot(222)\n",
    "sns.boxplot(train_scaled.bathrooms)\n",
    "\n",
    "plt.subplot(223)\n",
    "sns.boxplot(train_scaled.square_feet)\n",
    "\n",
    "plt.subplot(224)\n",
    "sns.boxplot(train_scaled.tax_value)"
   ]
  },
  {
   "cell_type": "markdown",
   "metadata": {},
   "source": [
    "## Statistical tests\n",
    "- 1 corr and 1 ttest, come back and run more if time allows"
   ]
  },
  {
   "cell_type": "code",
   "execution_count": 151,
   "metadata": {},
   "outputs": [],
   "source": [
    "#set confidence interval and alpha before the test\n",
    "conf_interval = .95 # desired confidence interval\n",
    "alpha = 1 - conf_interval"
   ]
  },
  {
   "cell_type": "markdown",
   "metadata": {},
   "source": [
    "#### Test 1 (corr):  \n",
    "- ho = there is no linear correlation between the square footage of a home and tax value\n",
    "- ha = there is a linear correlation between the square footage of a home and tax value\n",
    "\n",
    "##### Correlation Gotchas!\n",
    "When working with correlation, keep in mind:\n",
    "\n",
    "- Correlation is not causality.\n",
    "- Correlation measures linear relationship between the 2 variables. -However, there may be other types of relationships, such as a quadratic or absolute value relationship.\n",
    "- Correlations can be misleading when confounding variables are ignored.\n",
    "- Correlation tells you nothing about how large the relationship is."
   ]
  },
  {
   "cell_type": "code",
   "execution_count": 153,
   "metadata": {},
   "outputs": [
    {
     "data": {
      "text/plain": [
       "(0.48631397474588767, 0.0)"
      ]
     },
     "execution_count": 153,
     "metadata": {},
     "output_type": "execute_result"
    }
   ],
   "source": [
    "#calculate pearsons correlation coefficient\n",
    "from scipy import stats\n",
    "corr, p = stats.pearsonr(train_scaled.square_feet_scaled, train_scaled.tax_value)\n",
    "corr, p"
   ]
  },
  {
   "cell_type": "code",
   "execution_count": 157,
   "metadata": {},
   "outputs": [
    {
     "name": "stdout",
     "output_type": "stream",
     "text": [
      "Pvalue is: 0.0 is less than alpha: 0.050000000000000044\n",
      "Reject the null hypothesis because there is a correlation present\n"
     ]
    }
   ],
   "source": [
    "#correlation test summary\n",
    "if p < alpha:\n",
    "    print(f'Pvalue is: {p} is less than alpha: {alpha}')\n",
    "    print(\"Reject the null hypothesis because there is a correlation present\")\n",
    "else:\n",
    "    print(f'Pvalue is: {p} is greater than alpha: {alpha}')\n",
    "    print(\"We fail to reject the null hypothesis because there is no significant correlation present\")"
   ]
  },
  {
   "cell_type": "markdown",
   "metadata": {},
   "source": [
    "#### Test 2 (ttest)\n",
    "- save for after feature engineering when I have a categorical variable"
   ]
  },
  {
   "cell_type": "code",
   "execution_count": null,
   "metadata": {},
   "outputs": [],
   "source": []
  },
  {
   "cell_type": "code",
   "execution_count": null,
   "metadata": {},
   "outputs": [],
   "source": []
  },
  {
   "cell_type": "code",
   "execution_count": null,
   "metadata": {},
   "outputs": [],
   "source": []
  },
  {
   "cell_type": "markdown",
   "metadata": {},
   "source": [
    "## Evaluate Regression Model"
   ]
  },
  {
   "cell_type": "code",
   "execution_count": 138,
   "metadata": {},
   "outputs": [],
   "source": [
    "from statsmodels.formula.api import ols\n",
    "\n",
    "\n",
    "from scipy import stats\n",
    "from sklearn.metrics import mean_squared_error, r2_score, explained_variance_score\n",
    "\n",
    "from sklearn.linear_model import LinearRegression\n",
    "from sklearn.feature_selection import f_regression \n",
    "from math import sqrt\n",
    "import math"
   ]
  },
  {
   "cell_type": "code",
   "execution_count": 117,
   "metadata": {},
   "outputs": [
    {
     "data": {
      "text/plain": [
       "<AxesSubplot:>"
      ]
     },
     "execution_count": 117,
     "metadata": {},
     "output_type": "execute_result"
    },
    {
     "data": {
      "image/png": "[encoded data removed]",
      "text/plain": [
       "<Figure size 432x288 with 1 Axes>"
      ]
     },
     "metadata": {
      "needs_background": "light"
     },
     "output_type": "display_data"
    }
   ],
   "source": [
    "train_scaled.tax_value.hist()"
   ]
  },
  {
   "cell_type": "code",
   "execution_count": 140,
   "metadata": {},
   "outputs": [
    {
     "name": "stdout",
     "output_type": "stream",
     "text": [
      "mean: 388200.5241905791\n",
      "median: 341117.0\n"
     ]
    }
   ],
   "source": [
    "y = train_scaled.tax_value.mean()\n",
    "y2 = train_scaled.tax_value.median()\n",
    "print(\"mean:\", y)\n",
    "print(\"median:\", y2)\n",
    "#will move forward with mean as baseline"
   ]
  },
  {
   "cell_type": "code",
   "execution_count": 143,
   "metadata": {},
   "outputs": [
    {
     "data": {
      "text/html": [
       "<div>\n",
       "<style scoped>\n",
       "    .dataframe tbody tr th:only-of-type {\n",
       "        vertical-align: middle;\n",
       "    }\n",
       "\n",
       "    .dataframe tbody tr th {\n",
       "        vertical-align: top;\n",
       "    }\n",
       "\n",
       "    .dataframe thead th {\n",
       "        text-align: right;\n",
       "    }\n",
       "</style>\n",
       "<table border=\"1\" class=\"dataframe\">\n",
       "  <thead>\n",
       "    <tr style=\"text-align: right;\">\n",
       "      <th></th>\n",
       "      <th>bedrooms</th>\n",
       "      <th>bathrooms</th>\n",
       "      <th>square_feet</th>\n",
       "      <th>tax_value</th>\n",
       "      <th>bedrooms_scaled</th>\n",
       "      <th>bathrooms_scaled</th>\n",
       "      <th>square_feet_scaled</th>\n",
       "      <th>baseline</th>\n",
       "    </tr>\n",
       "    <tr>\n",
       "      <th>parcelid</th>\n",
       "      <th></th>\n",
       "      <th></th>\n",
       "      <th></th>\n",
       "      <th></th>\n",
       "      <th></th>\n",
       "      <th></th>\n",
       "      <th></th>\n",
       "      <th></th>\n",
       "    </tr>\n",
       "  </thead>\n",
       "  <tbody>\n",
       "    <tr>\n",
       "      <th>11206599</th>\n",
       "      <td>3</td>\n",
       "      <td>3.0</td>\n",
       "      <td>1556.0</td>\n",
       "      <td>228431.0</td>\n",
       "      <td>0.014985</td>\n",
       "      <td>1.000307</td>\n",
       "      <td>-0.139217</td>\n",
       "      <td>388200.524191</td>\n",
       "    </tr>\n",
       "    <tr>\n",
       "      <th>13042976</th>\n",
       "      <td>4</td>\n",
       "      <td>3.0</td>\n",
       "      <td>2593.0</td>\n",
       "      <td>379955.0</td>\n",
       "      <td>0.967364</td>\n",
       "      <td>1.000307</td>\n",
       "      <td>1.390792</td>\n",
       "      <td>388200.524191</td>\n",
       "    </tr>\n",
       "    <tr>\n",
       "      <th>12867101</th>\n",
       "      <td>2</td>\n",
       "      <td>1.0</td>\n",
       "      <td>1000.0</td>\n",
       "      <td>443723.0</td>\n",
       "      <td>-0.937394</td>\n",
       "      <td>-1.466492</td>\n",
       "      <td>-0.959549</td>\n",
       "      <td>388200.524191</td>\n",
       "    </tr>\n",
       "    <tr>\n",
       "      <th>11248986</th>\n",
       "      <td>3</td>\n",
       "      <td>2.0</td>\n",
       "      <td>1468.0</td>\n",
       "      <td>98355.0</td>\n",
       "      <td>0.014985</td>\n",
       "      <td>-0.233092</td>\n",
       "      <td>-0.269053</td>\n",
       "      <td>388200.524191</td>\n",
       "    </tr>\n",
       "    <tr>\n",
       "      <th>11400581</th>\n",
       "      <td>2</td>\n",
       "      <td>3.0</td>\n",
       "      <td>1399.0</td>\n",
       "      <td>220257.0</td>\n",
       "      <td>-0.937394</td>\n",
       "      <td>1.000307</td>\n",
       "      <td>-0.370857</td>\n",
       "      <td>388200.524191</td>\n",
       "    </tr>\n",
       "  </tbody>\n",
       "</table>\n",
       "</div>"
      ],
      "text/plain": [
       "          bedrooms  bathrooms  square_feet  tax_value  bedrooms_scaled  \\\n",
       "parcelid                                                                 \n",
       "11206599         3        3.0       1556.0   228431.0         0.014985   \n",
       "13042976         4        3.0       2593.0   379955.0         0.967364   \n",
       "12867101         2        1.0       1000.0   443723.0        -0.937394   \n",
       "11248986         3        2.0       1468.0    98355.0         0.014985   \n",
       "11400581         2        3.0       1399.0   220257.0        -0.937394   \n",
       "\n",
       "          bathrooms_scaled  square_feet_scaled       baseline  \n",
       "parcelid                                                       \n",
       "11206599          1.000307           -0.139217  388200.524191  \n",
       "13042976          1.000307            1.390792  388200.524191  \n",
       "12867101         -1.466492           -0.959549  388200.524191  \n",
       "11248986         -0.233092           -0.269053  388200.524191  \n",
       "11400581          1.000307           -0.370857  388200.524191  "
      ]
     },
     "execution_count": 143,
     "metadata": {},
     "output_type": "execute_result"
    }
   ],
   "source": [
    "#make baseline column\n",
    "train_scaled['baseline'] = y\n",
    "train_scaled.head()"
   ]
  },
  {
   "cell_type": "code",
   "execution_count": null,
   "metadata": {},
   "outputs": [],
   "source": [
    "#plot data with baseline\n"
   ]
  },
  {
   "cell_type": "code",
   "execution_count": 174,
   "metadata": {},
   "outputs": [],
   "source": [
    "#Create a Handy DataFrame for Evaluating Your Models or Model and Baseline Value.\n",
    "#turn series into df\n",
    "y_train = pd.DataFrame(y_train)\n",
    "y_validate = pd.DataFrame(y_validate)\n",
    "# Make a copy of my y_train df and name it ols_eval. I will add columns to this dataframe below.\n",
    "\n",
    "ols_eval = y_train.copy()\n",
    "\n",
    "# Rename the column actual instead of home_value\n",
    "\n",
    "ols_eval.rename(columns={'tax_value': 'actual'}, inplace=True)"
   ]
  },
  {
   "cell_type": "code",
   "execution_count": 175,
   "metadata": {},
   "outputs": [],
   "source": [
    "#Add Baseline Value Column\n",
    "# Add a column to my ols_eval dataframe called 'baseline_yhat'; each value is the mean of the actual column.\n",
    "\n",
    "ols_eval['baseline_yhat'] = ols_eval['actual'].mean()"
   ]
  },
  {
   "cell_type": "code",
   "execution_count": 176,
   "metadata": {},
   "outputs": [],
   "source": [
    "# Now we fit a regression model using OLS method.\n",
    "# OLS = ordinary least squares.\n",
    "#create and fit\n",
    "from statsmodels.formula.api import ols\n",
    "ols_model = ols(formula='tax_value ~ bedrooms + bathrooms + square_feet', data=train_scaled).fit()\n",
    "\n",
    "#predict on model\n",
    "ols_yhat = ols_model.predict(train[['bedrooms', 'bathrooms', 'square_feet']])"
   ]
  },
  {
   "cell_type": "code",
   "execution_count": 162,
   "metadata": {},
   "outputs": [
    {
     "data": {
      "text/html": [
       "<table class=\"simpletable\">\n",
       "<caption>OLS Regression Results</caption>\n",
       "<tr>\n",
       "  <th>Dep. Variable:</th>        <td>tax_value</td>    <th>  R-squared:         </th>  <td>   0.264</td>  \n",
       "</tr>\n",
       "<tr>\n",
       "  <th>Model:</th>                   <td>OLS</td>       <th>  Adj. R-squared:    </th>  <td>   0.264</td>  \n",
       "</tr>\n",
       "<tr>\n",
       "  <th>Method:</th>             <td>Least Squares</td>  <th>  F-statistic:       </th>  <td>   4871.</td>  \n",
       "</tr>\n",
       "<tr>\n",
       "  <th>Date:</th>             <td>Mon, 22 Mar 2021</td> <th>  Prob (F-statistic):</th>   <td>  0.00</td>   \n",
       "</tr>\n",
       "<tr>\n",
       "  <th>Time:</th>                 <td>22:16:01</td>     <th>  Log-Likelihood:    </th> <td>-5.5896e+05</td>\n",
       "</tr>\n",
       "<tr>\n",
       "  <th>No. Observations:</th>      <td> 40739</td>      <th>  AIC:               </th>  <td>1.118e+06</td> \n",
       "</tr>\n",
       "<tr>\n",
       "  <th>Df Residuals:</th>          <td> 40735</td>      <th>  BIC:               </th>  <td>1.118e+06</td> \n",
       "</tr>\n",
       "<tr>\n",
       "  <th>Df Model:</th>              <td>     3</td>      <th>                     </th>      <td> </td>     \n",
       "</tr>\n",
       "<tr>\n",
       "  <th>Covariance Type:</th>      <td>nonrobust</td>    <th>                     </th>      <td> </td>     \n",
       "</tr>\n",
       "</table>\n",
       "<table class=\"simpletable\">\n",
       "<tr>\n",
       "       <td></td>          <th>coef</th>     <th>std err</th>      <th>t</th>      <th>P>|t|</th>  <th>[0.025</th>    <th>0.975]</th>  \n",
       "</tr>\n",
       "<tr>\n",
       "  <th>Intercept</th>   <td> 1.127e+05</td> <td> 3575.276</td> <td>   31.514</td> <td> 0.000</td> <td> 1.06e+05</td> <td>  1.2e+05</td>\n",
       "</tr>\n",
       "<tr>\n",
       "  <th>bedrooms</th>    <td>-4.946e+04</td> <td> 1404.600</td> <td>  -35.211</td> <td> 0.000</td> <td>-5.22e+04</td> <td>-4.67e+04</td>\n",
       "</tr>\n",
       "<tr>\n",
       "  <th>bathrooms</th>   <td>   4.7e+04</td> <td> 1963.381</td> <td>   23.937</td> <td> 0.000</td> <td> 4.31e+04</td> <td> 5.08e+04</td>\n",
       "</tr>\n",
       "<tr>\n",
       "  <th>square_feet</th> <td>  194.0469</td> <td>    2.530</td> <td>   76.704</td> <td> 0.000</td> <td>  189.088</td> <td>  199.005</td>\n",
       "</tr>\n",
       "</table>\n",
       "<table class=\"simpletable\">\n",
       "<tr>\n",
       "  <th>Omnibus:</th>       <td>3613.638</td> <th>  Durbin-Watson:     </th> <td>   2.002</td>\n",
       "</tr>\n",
       "<tr>\n",
       "  <th>Prob(Omnibus):</th>  <td> 0.000</td>  <th>  Jarque-Bera (JB):  </th> <td>5453.724</td>\n",
       "</tr>\n",
       "<tr>\n",
       "  <th>Skew:</th>           <td> 0.690</td>  <th>  Prob(JB):          </th> <td>    0.00</td>\n",
       "</tr>\n",
       "<tr>\n",
       "  <th>Kurtosis:</th>       <td> 4.145</td>  <th>  Cond. No.          </th> <td>6.04e+03</td>\n",
       "</tr>\n",
       "</table><br/><br/>Notes:<br/>[1] Standard Errors assume that the covariance matrix of the errors is correctly specified.<br/>[2] The condition number is large, 6.04e+03. This might indicate that there are<br/>strong multicollinearity or other numerical problems."
      ],
      "text/plain": [
       "<class 'statsmodels.iolib.summary.Summary'>\n",
       "\"\"\"\n",
       "                            OLS Regression Results                            \n",
       "==============================================================================\n",
       "Dep. Variable:              tax_value   R-squared:                       0.264\n",
       "Model:                            OLS   Adj. R-squared:                  0.264\n",
       "Method:                 Least Squares   F-statistic:                     4871.\n",
       "Date:                Mon, 22 Mar 2021   Prob (F-statistic):               0.00\n",
       "Time:                        22:16:01   Log-Likelihood:            -5.5896e+05\n",
       "No. Observations:               40739   AIC:                         1.118e+06\n",
       "Df Residuals:                   40735   BIC:                         1.118e+06\n",
       "Df Model:                           3                                         \n",
       "Covariance Type:            nonrobust                                         \n",
       "===============================================================================\n",
       "                  coef    std err          t      P>|t|      [0.025      0.975]\n",
       "-------------------------------------------------------------------------------\n",
       "Intercept    1.127e+05   3575.276     31.514      0.000    1.06e+05     1.2e+05\n",
       "bedrooms    -4.946e+04   1404.600    -35.211      0.000   -5.22e+04   -4.67e+04\n",
       "bathrooms      4.7e+04   1963.381     23.937      0.000    4.31e+04    5.08e+04\n",
       "square_feet   194.0469      2.530     76.704      0.000     189.088     199.005\n",
       "==============================================================================\n",
       "Omnibus:                     3613.638   Durbin-Watson:                   2.002\n",
       "Prob(Omnibus):                  0.000   Jarque-Bera (JB):             5453.724\n",
       "Skew:                           0.690   Prob(JB):                         0.00\n",
       "Kurtosis:                       4.145   Cond. No.                     6.04e+03\n",
       "==============================================================================\n",
       "\n",
       "Notes:\n",
       "[1] Standard Errors assume that the covariance matrix of the errors is correctly specified.\n",
       "[2] The condition number is large, 6.04e+03. This might indicate that there are\n",
       "strong multicollinearity or other numerical problems.\n",
       "\"\"\""
      ]
     },
     "execution_count": 162,
     "metadata": {},
     "output_type": "execute_result"
    }
   ],
   "source": [
    "#Look at the R-squared and Prob (F-statistic) values in the summary chart.\n",
    "\n",
    "ols_model.summary()"
   ]
  },
  {
   "cell_type": "code",
   "execution_count": 177,
   "metadata": {},
   "outputs": [],
   "source": [
    "#Add ols Predictions Column to ols_eval dataframe\n",
    "# Add a column to my ols_eval dataframe called 'ols_yhat'; I created these values above.\n",
    "\n",
    "ols_eval['ols_yhat'] = ols_yhat"
   ]
  },
  {
   "cell_type": "code",
   "execution_count": 178,
   "metadata": {},
   "outputs": [],
   "source": [
    "ols_eval['residuals'] = ols_eval.ols_yhat - ols_eval.actual"
   ]
  },
  {
   "cell_type": "code",
   "execution_count": 179,
   "metadata": {},
   "outputs": [
    {
     "name": "stdout",
     "output_type": "stream",
     "text": [
      "My model has value: True\n"
     ]
    }
   ],
   "source": [
    "#Compute the RMSE¶\n",
    "#Using our Handy ols_eval DataFrame that we created above to hold our baseline and model predictions and residuals, we will now find out if our ols model's predictions can beat our baseline.\n",
    "\n",
    "from sklearn.metrics import mean_squared_error\n",
    "from math import sqrt\n",
    "\n",
    "baseline_RMSE = sqrt(mean_squared_error(ols_eval.actual, ols_eval.baseline_yhat))\n",
    "\n",
    "ols_RMSE = sqrt(mean_squared_error(ols_eval.actual, ols_eval.ols_yhat))\n",
    "\n",
    "print(f'My model has value: {ols_RMSE < baseline_RMSE}')"
   ]
  },
  {
   "cell_type": "code",
   "execution_count": 180,
   "metadata": {},
   "outputs": [
    {
     "name": "stdout",
     "output_type": "stream",
     "text": [
      "My R-squared score is significant: True\n"
     ]
    }
   ],
   "source": [
    "#Compute the R-squared and p-value for the Model we created and find out if our model has value.\n",
    "\n",
    "ols_r2 = round(ols_model.rsquared,3)\n",
    "\n",
    "ols_p_value = ols_model.f_pvalue\n",
    "\n",
    "print(f'My R-squared score is significant: {ols_p_value < .05}')\n"
   ]
  },
  {
   "cell_type": "markdown",
   "metadata": {},
   "source": [
    "##### If the RMSE for your ols model is smaller than the RMSE for your baseline, and your p-value is less than your alpha, your model has value."
   ]
  },
  {
   "cell_type": "code",
   "execution_count": 181,
   "metadata": {},
   "outputs": [
    {
     "data": {
      "text/plain": [
       "<matplotlib.collections.PathCollection at 0x7fa908479d60>"
      ]
     },
     "execution_count": 181,
     "metadata": {},
     "output_type": "execute_result"
    },
    {
     "data": {
      "image/png": "[encoded data removed]",
      "text/plain": [
       "<Figure size 432x288 with 1 Axes>"
      ]
     },
     "metadata": {
      "needs_background": "light"
     },
     "output_type": "display_data"
    }
   ],
   "source": [
    "#Visualize Residuals¶\n",
    "#Quick look at distribution of residuals\n",
    "\n",
    "plt.hist(np.log(ols_eval.residuals))\n",
    "#Look for Patterns in Actual vs Residuals\n",
    "\n",
    "plt.scatter(ols_eval.actual, ols_eval.residuals)\n",
    "#Look at Predictions vs Residuals\n",
    "\n",
    "plt.scatter(ols_eval.ols_yhat, ols_eval.residuals)"
   ]
  },
  {
   "cell_type": "code",
   "execution_count": 182,
   "metadata": {},
   "outputs": [],
   "source": [
    "# Imports from sklearn\n",
    "\n",
    "from sklearn.metrics import mean_squared_error, explained_variance_score, r2_score\n",
    "\n",
    "from sklearn.linear_model import LinearRegression"
   ]
  },
  {
   "cell_type": "code",
   "execution_count": 183,
   "metadata": {},
   "outputs": [],
   "source": [
    "#create linear regression object\n",
    "lm = LinearRegression()"
   ]
  },
  {
   "cell_type": "code",
   "execution_count": 187,
   "metadata": {},
   "outputs": [
    {
     "data": {
      "text/plain": [
       "LinearRegression()"
      ]
     },
     "execution_count": 187,
     "metadata": {},
     "output_type": "execute_result"
    }
   ],
   "source": [
    "# fit the linear regression object to xtrain and y train\n",
    "lm.fit(X_train, y_train)"
   ]
  },
  {
   "cell_type": "code",
   "execution_count": 189,
   "metadata": {},
   "outputs": [
    {
     "name": "stdout",
     "output_type": "stream",
     "text": [
      "intercept:  [112671.41963353]\n",
      "coefficients:  [[-49456.8245278   46996.54292342    194.04691137]]\n"
     ]
    }
   ],
   "source": [
    "#Use the Linear Regression Object to Return Intercept and Coefficient Values\n",
    "\n",
    "print('intercept: ', lm.intercept_)\n",
    "\n",
    "print(\"coefficients: \", lm.coef_)"
   ]
  },
  {
   "cell_type": "code",
   "execution_count": 191,
   "metadata": {},
   "outputs": [],
   "source": [
    "# Create the `lm_eval` dataframe using a copy of the y_train dataframe.\n",
    "\n",
    "lm_eval = y_train.copy()\n",
    "\n",
    "# Rename the target value `actual`\n",
    "\n",
    "lm_eval.rename(columns={'tax_value': 'actual'}, inplace=True)\n",
    "\n",
    "# Predict on X_train and add `yhat_lm1` column to `lm_eval` dataframe.\n",
    "\n",
    "lm_eval['yhat_lm1'] = lm.predict(X_train)\n",
    "\n",
    "# Calculate the residuals for my lm (linear regression model) and add `residuals_lm1` column on `lm_eval` dataframe.\n",
    "\n",
    "lm_eval['residuals_lm1'] = lm_eval.yhat_lm1 - lm_eval.actual"
   ]
  },
  {
   "cell_type": "code",
   "execution_count": 192,
   "metadata": {},
   "outputs": [
    {
     "name": "stdout",
     "output_type": "stream",
     "text": [
      "The Root Mean Squared Error is 2.2e+05\n",
      "Using my Train dataset in my Linear Regression Model\n",
      "\n",
      "26.40% of the variance in my target value can be explained by the features in my Linear Regression Model.\n"
     ]
    }
   ],
   "source": [
    "# Calculate and display the RMSE for lm (linear regression model)\n",
    "\n",
    "RMSE_lm1 = np.sqrt(mean_squared_error(lm_eval.actual, lm_eval.yhat_lm1))\n",
    "\n",
    "print('The Root Mean Squared Error is {:.3}'.format(RMSE_lm1))\n",
    "\n",
    "# Calculate and display the r-squared for my lm\n",
    "\n",
    "r2_lm1 = r2_score(lm_eval.actual, lm_eval.yhat_lm1)\n",
    "\n",
    "print('Using my Train dataset in my Linear Regression Model')\n",
    "\n",
    "print()\n",
    "\n",
    "print(f'{r2_lm1:.2%} of the variance in my target value can be explained by the features in my Linear Regression Model.')"
   ]
  },
  {
   "cell_type": "code",
   "execution_count": 193,
   "metadata": {},
   "outputs": [
    {
     "data": {
      "text/plain": [
       "LinearRegression()"
      ]
     },
     "execution_count": 193,
     "metadata": {},
     "output_type": "execute_result"
    }
   ],
   "source": [
    "#validate\n",
    "#create linear regression object\n",
    "lm = LinearRegression()\n",
    "# fit the linear regression object to xtrain and y train\n",
    "lm.fit(X_validate, y_validate)"
   ]
  },
  {
   "cell_type": "code",
   "execution_count": 194,
   "metadata": {},
   "outputs": [
    {
     "name": "stdout",
     "output_type": "stream",
     "text": [
      "intercept:  [107778.78062974]\n",
      "coefficients:  [[-50047.44727853  45533.83413583    201.45542647]]\n"
     ]
    }
   ],
   "source": [
    "#Use the Linear Regression Object to Return Intercept and Coefficient Values\n",
    "\n",
    "print('intercept: ', lm.intercept_)\n",
    "\n",
    "print(\"coefficients: \", lm.coef_)"
   ]
  },
  {
   "cell_type": "code",
   "execution_count": 196,
   "metadata": {},
   "outputs": [],
   "source": [
    "#Use the Linear Regression Object to Predict y Values\n",
    "\n",
    "# Create the `lm_eval` dataframe using a copy of the y_train dataframe.\n",
    "\n",
    "lm_eval = y_validate.copy()\n",
    "\n",
    "# Rename the target value `actual`\n",
    "\n",
    "lm_eval.rename(columns={'tax_value': 'actual'}, inplace=True)\n",
    "\n",
    "# Predict on X_validate and add `yhat_lm1` column to `lm_eval` dataframe.\n",
    "\n",
    "lm_eval['yhat_lm1'] = lm.predict(X_validate)\n",
    "\n",
    "# Calculate the residuals for my lm (linear regression model) and add `residuals_lm1` column on `lm_eval` dataframe.\n",
    "\n",
    "lm_eval['residuals_lm1'] = lm_eval.yhat_lm1 - lm_eval.actual"
   ]
  },
  {
   "cell_type": "code",
   "execution_count": 197,
   "metadata": {},
   "outputs": [
    {
     "name": "stdout",
     "output_type": "stream",
     "text": [
      "The Root Mean Squared Error is 2.16e+05\n",
      "Using my Train dataset in my Linear Regression Model\n",
      "\n",
      "27.94% of the variance in my target value can be explained by the features in my Linear Regression Model.\n"
     ]
    }
   ],
   "source": [
    "# Calculate and display the RMSE for lm (linear regression model)\n",
    "\n",
    "RMSE_lm1 = np.sqrt(mean_squared_error(lm_eval.actual, lm_eval.yhat_lm1))\n",
    "\n",
    "print('The Root Mean Squared Error is {:.3}'.format(RMSE_lm1))\n",
    "\n",
    "# Calculate and display the r-squared for my lm\n",
    "\n",
    "r2_lm1 = r2_score(lm_eval.actual, lm_eval.yhat_lm1)\n",
    "\n",
    "print('Using my Train dataset in my Linear Regression Model')\n",
    "\n",
    "print()\n",
    "\n",
    "print(f'{r2_lm1:.2%} of the variance in my target value can be explained by the features in my Linear Regression Model.')"
   ]
  },
  {
   "cell_type": "markdown",
   "metadata": {},
   "source": [
    "#### polynomial regression model"
   ]
  },
  {
   "cell_type": "code",
   "execution_count": 199,
   "metadata": {},
   "outputs": [],
   "source": [
    "# Imports from sklearn\n",
    "\n",
    "from sklearn.preprocessing import PolynomialFeatures"
   ]
  },
  {
   "cell_type": "code",
   "execution_count": 200,
   "metadata": {},
   "outputs": [],
   "source": [
    "#Create the Polynomial Features\n",
    "\n",
    "poly = PolynomialFeatures(degree=2)"
   ]
  },
  {
   "cell_type": "code",
   "execution_count": 201,
   "metadata": {},
   "outputs": [],
   "source": [
    "#Fit and Transform the Polynomial Features using X_train and Save in a DataFrame\n",
    "\n",
    "poly.fit(X_train, y_train)\n",
    "\n",
    "X_poly = pd.DataFrame(poly.transform(X_train), columns=poly.get_feature_names(X_train.columns))"
   ]
  },
  {
   "cell_type": "code",
   "execution_count": 205,
   "metadata": {},
   "outputs": [
    {
     "data": {
      "text/plain": [
       "(40739, 10)"
      ]
     },
     "execution_count": 205,
     "metadata": {},
     "output_type": "execute_result"
    }
   ],
   "source": [
    "X_poly.shape"
   ]
  },
  {
   "cell_type": "code",
   "execution_count": 206,
   "metadata": {},
   "outputs": [
    {
     "data": {
      "text/plain": [
       "(40739, 1)"
      ]
     },
     "execution_count": 206,
     "metadata": {},
     "output_type": "execute_result"
    }
   ],
   "source": [
    "y_train.shape"
   ]
  },
  {
   "cell_type": "code",
   "execution_count": 207,
   "metadata": {},
   "outputs": [
    {
     "data": {
      "text/plain": [
       "LinearRegression()"
      ]
     },
     "execution_count": 207,
     "metadata": {},
     "output_type": "execute_result"
    }
   ],
   "source": [
    "#Use the Polynomial Features in a Linear Regression Model\n",
    "\n",
    "# Create the lm object\n",
    "\n",
    "lm = LinearRegression()\n",
    "\n",
    "# Fit the lm object on X_poly and y_train\n",
    "\n",
    "lm.fit(X_poly, y_train)\n",
    "\n"
   ]
  },
  {
   "cell_type": "code",
   "execution_count": 209,
   "metadata": {},
   "outputs": [],
   "source": [
    "# Create a new column on your `lm_eval` dataframe to hold the predictions using polynomial regression model.\n",
    "\n",
    "lm_eval['polynomial'] = pd.DataFrame(lm.predict(X_poly))"
   ]
  },
  {
   "cell_type": "code",
   "execution_count": null,
   "metadata": {},
   "outputs": [],
   "source": []
  },
  {
   "cell_type": "code",
   "execution_count": null,
   "metadata": {},
   "outputs": [],
   "source": []
  },
  {
   "cell_type": "code",
   "execution_count": null,
   "metadata": {},
   "outputs": [],
   "source": []
  },
  {
   "cell_type": "code",
   "execution_count": null,
   "metadata": {},
   "outputs": [],
   "source": []
  },
  {
   "cell_type": "code",
   "execution_count": null,
   "metadata": {},
   "outputs": [],
   "source": []
  },
  {
   "cell_type": "code",
   "execution_count": null,
   "metadata": {},
   "outputs": [],
   "source": []
  },
  {
   "cell_type": "code",
   "execution_count": null,
   "metadata": {},
   "outputs": [],
   "source": []
  },
  {
   "cell_type": "code",
   "execution_count": null,
   "metadata": {},
   "outputs": [],
   "source": []
  },
  {
   "cell_type": "code",
   "execution_count": null,
   "metadata": {},
   "outputs": [],
   "source": []
  },
  {
   "cell_type": "code",
   "execution_count": null,
   "metadata": {},
   "outputs": [],
   "source": []
  },
  {
   "cell_type": "code",
   "execution_count": null,
   "metadata": {},
   "outputs": [],
   "source": []
  },
  {
   "cell_type": "code",
   "execution_count": null,
   "metadata": {},
   "outputs": [],
   "source": []
  },
  {
   "cell_type": "markdown",
   "metadata": {},
   "source": [
    "### Baseline"
   ]
  },
  {
   "cell_type": "code",
   "execution_count": 118,
   "metadata": {},
   "outputs": [
    {
     "data": {
      "text/plain": [
       "(388200.5241905791, 341117.0)"
      ]
     },
     "execution_count": 118,
     "metadata": {},
     "output_type": "execute_result"
    }
   ],
   "source": [
    "\n",
    "mean, median = train_scaled.tax_value.agg(['mean', 'median'])\n",
    "mean, median"
   ]
  },
  {
   "cell_type": "code",
   "execution_count": null,
   "metadata": {},
   "outputs": [],
   "source": []
  },
  {
   "cell_type": "code",
   "execution_count": null,
   "metadata": {},
   "outputs": [],
   "source": []
  },
  {
   "cell_type": "code",
   "execution_count": null,
   "metadata": {},
   "outputs": [],
   "source": []
  },
  {
   "cell_type": "code",
   "execution_count": null,
   "metadata": {},
   "outputs": [],
   "source": []
  },
  {
   "cell_type": "markdown",
   "metadata": {},
   "source": [
    "## Zillow Planning 2nd Iteration:"
   ]
  },
  {
   "cell_type": "markdown",
   "metadata": {},
   "source": [
    "## Phase 1\n"
   ]
  },
  {
   "cell_type": "markdown",
   "metadata": {},
   "source": [
    "### First Iteration Features\n",
    "- square feet\n",
    "- number of bedrooms\n",
    "- number of bathrooms\n",
    "- taxvaluedollarcnt (target)"
   ]
  },
  {
   "cell_type": "markdown",
   "metadata": {},
   "source": [
    "## Phase 2"
   ]
  },
  {
   "cell_type": "markdown",
   "metadata": {},
   "source": [
    "### Change to int:\n",
    "- bedroomcnt\n",
    "- yearbuilt\n",
    "- regionidcounty\n",
    "- fips\n",
    "- latitude\n",
    "- longitude\n"
   ]
  },
  {
   "cell_type": "markdown",
   "metadata": {},
   "source": [
    "### Encode\n",
    "- fips\n",
    "- regionidcounty"
   ]
  },
  {
   "cell_type": "markdown",
   "metadata": {},
   "source": [
    "### New features to make:\n",
    "- residence_age = how old the residence is\n",
    "- "
   ]
  },
  {
   "cell_type": "code",
   "execution_count": 5,
   "metadata": {},
   "outputs": [],
   "source": [
    "#functions to get specific zillow data\n",
    "def acquire_some_more_zillow():\n",
    "    '''\n",
    "    This function reads in the zillow data from the Codeup \n",
    "    Database connection made from get_connection\n",
    "    and returns a pandas DataFrame with all columns.\n",
    "    '''\n",
    "    sql_query = '''\n",
    "                SELECT parcelid, bedroomcnt, bathroomcnt, buildingqualitytypeid, yearbuilt, \n",
    "                regionidcounty, regionidzip, fips, latitude, longitude, calculatedfinishedsquarefeet, \n",
    "                taxamount, taxvaluedollarcnt\n",
    "                FROM  properties_2017\n",
    "                JOIN predictions_2017 USING(parcelid)\n",
    "                WHERE transactiondate between \"2017-05-01\" and \"2017-08-31\"\n",
    "                and unitcnt = 1;\n",
    "                '''\n",
    "    return pd.read_sql(sql_query, get_connection('zillow')) \n",
    "\n",
    "\n",
    "def get_some_more_zillow_data(cached=False):\n",
    "    '''\n",
    "    This function reads in zillow data from Codeup database and \n",
    "    writes data to a csv file if cached == False. If cached == True \n",
    "    reads in zillow df from a csv file, returns df.\n",
    "    '''\n",
    "    if cached == False or os.path.isfile('zillow.csv') == False:\n",
    "        \n",
    "        # Read fresh data from db into a DataFrame.\n",
    "        df2 = acquire_some_more_zillow()\n",
    "        \n",
    "        # Write DataFrame to a csv file.\n",
    "        df2.to_csv('zillow.csv')\n",
    "        \n",
    "    else:\n",
    "        \n",
    "        # If csv file exists or cached == True, read in data from csv.\n",
    "        df2 = pd.read_csv('zillow.csv', index_col=0)\n",
    "        \n",
    "    return df2"
   ]
  },
  {
   "cell_type": "code",
   "execution_count": 6,
   "metadata": {},
   "outputs": [],
   "source": [
    "df2 = get_some_more_zillow_data(cached=False)"
   ]
  },
  {
   "cell_type": "code",
   "execution_count": 7,
   "metadata": {},
   "outputs": [
    {
     "data": {
      "text/html": [
       "<div>\n",
       "<style scoped>\n",
       "    .dataframe tbody tr th:only-of-type {\n",
       "        vertical-align: middle;\n",
       "    }\n",
       "\n",
       "    .dataframe tbody tr th {\n",
       "        vertical-align: top;\n",
       "    }\n",
       "\n",
       "    .dataframe thead th {\n",
       "        text-align: right;\n",
       "    }\n",
       "</style>\n",
       "<table border=\"1\" class=\"dataframe\">\n",
       "  <thead>\n",
       "    <tr style=\"text-align: right;\">\n",
       "      <th></th>\n",
       "      <th>parcelid</th>\n",
       "      <th>bedroomcnt</th>\n",
       "      <th>bathroomcnt</th>\n",
       "      <th>buildingqualitytypeid</th>\n",
       "      <th>yearbuilt</th>\n",
       "      <th>regionidcounty</th>\n",
       "      <th>regionidzip</th>\n",
       "      <th>fips</th>\n",
       "      <th>latitude</th>\n",
       "      <th>longitude</th>\n",
       "      <th>calculatedfinishedsquarefeet</th>\n",
       "      <th>taxamount</th>\n",
       "      <th>taxvaluedollarcnt</th>\n",
       "    </tr>\n",
       "  </thead>\n",
       "  <tbody>\n",
       "    <tr>\n",
       "      <th>0</th>\n",
       "      <td>11721753</td>\n",
       "      <td>3.0</td>\n",
       "      <td>2.0</td>\n",
       "      <td>6.0</td>\n",
       "      <td>1923.0</td>\n",
       "      <td>3101.0</td>\n",
       "      <td>95997.0</td>\n",
       "      <td>6037.0</td>\n",
       "      <td>34033180.0</td>\n",
       "      <td>-118355396.0</td>\n",
       "      <td>1316.0</td>\n",
       "      <td>2627.48</td>\n",
       "      <td>205123.0</td>\n",
       "    </tr>\n",
       "    <tr>\n",
       "      <th>1</th>\n",
       "      <td>11289917</td>\n",
       "      <td>3.0</td>\n",
       "      <td>2.0</td>\n",
       "      <td>6.0</td>\n",
       "      <td>1970.0</td>\n",
       "      <td>3101.0</td>\n",
       "      <td>97318.0</td>\n",
       "      <td>6037.0</td>\n",
       "      <td>34686163.0</td>\n",
       "      <td>-118113100.0</td>\n",
       "      <td>1458.0</td>\n",
       "      <td>2319.90</td>\n",
       "      <td>136104.0</td>\n",
       "    </tr>\n",
       "    <tr>\n",
       "      <th>2</th>\n",
       "      <td>11637029</td>\n",
       "      <td>3.0</td>\n",
       "      <td>2.0</td>\n",
       "      <td>9.0</td>\n",
       "      <td>1980.0</td>\n",
       "      <td>3101.0</td>\n",
       "      <td>96086.0</td>\n",
       "      <td>6037.0</td>\n",
       "      <td>34073222.0</td>\n",
       "      <td>-118390965.0</td>\n",
       "      <td>1766.0</td>\n",
       "      <td>9407.01</td>\n",
       "      <td>810694.0</td>\n",
       "    </tr>\n",
       "    <tr>\n",
       "      <th>3</th>\n",
       "      <td>11705026</td>\n",
       "      <td>2.0</td>\n",
       "      <td>1.0</td>\n",
       "      <td>6.0</td>\n",
       "      <td>1911.0</td>\n",
       "      <td>3101.0</td>\n",
       "      <td>96018.0</td>\n",
       "      <td>6037.0</td>\n",
       "      <td>33999877.0</td>\n",
       "      <td>-118291863.0</td>\n",
       "      <td>1421.0</td>\n",
       "      <td>543.69</td>\n",
       "      <td>35606.0</td>\n",
       "    </tr>\n",
       "    <tr>\n",
       "      <th>4</th>\n",
       "      <td>11446756</td>\n",
       "      <td>3.0</td>\n",
       "      <td>2.0</td>\n",
       "      <td>6.0</td>\n",
       "      <td>1955.0</td>\n",
       "      <td>3101.0</td>\n",
       "      <td>96162.0</td>\n",
       "      <td>6037.0</td>\n",
       "      <td>33873860.0</td>\n",
       "      <td>-118338253.0</td>\n",
       "      <td>1491.0</td>\n",
       "      <td>1399.27</td>\n",
       "      <td>107110.0</td>\n",
       "    </tr>\n",
       "  </tbody>\n",
       "</table>\n",
       "</div>"
      ],
      "text/plain": [
       "   parcelid  bedroomcnt  bathroomcnt  buildingqualitytypeid  yearbuilt  \\\n",
       "0  11721753         3.0          2.0                    6.0     1923.0   \n",
       "1  11289917         3.0          2.0                    6.0     1970.0   \n",
       "2  11637029         3.0          2.0                    9.0     1980.0   \n",
       "3  11705026         2.0          1.0                    6.0     1911.0   \n",
       "4  11446756         3.0          2.0                    6.0     1955.0   \n",
       "\n",
       "   regionidcounty  regionidzip    fips    latitude    longitude  \\\n",
       "0          3101.0      95997.0  6037.0  34033180.0 -118355396.0   \n",
       "1          3101.0      97318.0  6037.0  34686163.0 -118113100.0   \n",
       "2          3101.0      96086.0  6037.0  34073222.0 -118390965.0   \n",
       "3          3101.0      96018.0  6037.0  33999877.0 -118291863.0   \n",
       "4          3101.0      96162.0  6037.0  33873860.0 -118338253.0   \n",
       "\n",
       "   calculatedfinishedsquarefeet  taxamount  taxvaluedollarcnt  \n",
       "0                        1316.0    2627.48           205123.0  \n",
       "1                        1458.0    2319.90           136104.0  \n",
       "2                        1766.0    9407.01           810694.0  \n",
       "3                        1421.0     543.69            35606.0  \n",
       "4                        1491.0    1399.27           107110.0  "
      ]
     },
     "execution_count": 7,
     "metadata": {},
     "output_type": "execute_result"
    }
   ],
   "source": [
    "df2.head()"
   ]
  },
  {
   "cell_type": "code",
   "execution_count": 8,
   "metadata": {},
   "outputs": [
    {
     "data": {
      "text/html": [
       "<div>\n",
       "<style scoped>\n",
       "    .dataframe tbody tr th:only-of-type {\n",
       "        vertical-align: middle;\n",
       "    }\n",
       "\n",
       "    .dataframe tbody tr th {\n",
       "        vertical-align: top;\n",
       "    }\n",
       "\n",
       "    .dataframe thead th {\n",
       "        text-align: right;\n",
       "    }\n",
       "</style>\n",
       "<table border=\"1\" class=\"dataframe\">\n",
       "  <thead>\n",
       "    <tr style=\"text-align: right;\">\n",
       "      <th></th>\n",
       "      <th>parcelid</th>\n",
       "      <th>bedroomcnt</th>\n",
       "      <th>bathroomcnt</th>\n",
       "      <th>buildingqualitytypeid</th>\n",
       "      <th>yearbuilt</th>\n",
       "      <th>regionidcounty</th>\n",
       "      <th>regionidzip</th>\n",
       "      <th>fips</th>\n",
       "      <th>latitude</th>\n",
       "      <th>longitude</th>\n",
       "      <th>calculatedfinishedsquarefeet</th>\n",
       "      <th>taxamount</th>\n",
       "      <th>taxvaluedollarcnt</th>\n",
       "    </tr>\n",
       "  </thead>\n",
       "  <tbody>\n",
       "    <tr>\n",
       "      <th>count</th>\n",
       "      <td>2.495000e+04</td>\n",
       "      <td>24950.00000</td>\n",
       "      <td>24950.000000</td>\n",
       "      <td>24685.000000</td>\n",
       "      <td>24943.000000</td>\n",
       "      <td>24950.000000</td>\n",
       "      <td>24939.000000</td>\n",
       "      <td>24950.000000</td>\n",
       "      <td>2.495000e+04</td>\n",
       "      <td>2.495000e+04</td>\n",
       "      <td>24948.000000</td>\n",
       "      <td>24949.000000</td>\n",
       "      <td>2.495000e+04</td>\n",
       "    </tr>\n",
       "    <tr>\n",
       "      <th>mean</th>\n",
       "      <td>1.190844e+07</td>\n",
       "      <td>2.96016</td>\n",
       "      <td>2.251864</td>\n",
       "      <td>6.657687</td>\n",
       "      <td>1964.958265</td>\n",
       "      <td>3100.740080</td>\n",
       "      <td>96439.241469</td>\n",
       "      <td>6037.005611</td>\n",
       "      <td>3.411000e+07</td>\n",
       "      <td>-1.182673e+08</td>\n",
       "      <td>1709.276816</td>\n",
       "      <td>6047.777105</td>\n",
       "      <td>4.807596e+05</td>\n",
       "    </tr>\n",
       "    <tr>\n",
       "      <th>std</th>\n",
       "      <td>3.349340e+06</td>\n",
       "      <td>1.00650</td>\n",
       "      <td>0.993814</td>\n",
       "      <td>1.688723</td>\n",
       "      <td>24.159069</td>\n",
       "      <td>20.961869</td>\n",
       "      <td>5441.615909</td>\n",
       "      <td>0.526930</td>\n",
       "      <td>2.211190e+05</td>\n",
       "      <td>2.198762e+05</td>\n",
       "      <td>944.327658</td>\n",
       "      <td>8045.998644</td>\n",
       "      <td>6.830046e+05</td>\n",
       "    </tr>\n",
       "    <tr>\n",
       "      <th>min</th>\n",
       "      <td>1.071186e+07</td>\n",
       "      <td>0.00000</td>\n",
       "      <td>0.000000</td>\n",
       "      <td>1.000000</td>\n",
       "      <td>1878.000000</td>\n",
       "      <td>1286.000000</td>\n",
       "      <td>95982.000000</td>\n",
       "      <td>6037.000000</td>\n",
       "      <td>3.333960e+07</td>\n",
       "      <td>-1.190601e+08</td>\n",
       "      <td>240.000000</td>\n",
       "      <td>120.840000</td>\n",
       "      <td>1.000000e+03</td>\n",
       "    </tr>\n",
       "    <tr>\n",
       "      <th>25%</th>\n",
       "      <td>1.117189e+07</td>\n",
       "      <td>2.00000</td>\n",
       "      <td>2.000000</td>\n",
       "      <td>6.000000</td>\n",
       "      <td>1950.000000</td>\n",
       "      <td>3101.000000</td>\n",
       "      <td>96124.000000</td>\n",
       "      <td>6037.000000</td>\n",
       "      <td>3.395810e+07</td>\n",
       "      <td>-1.184330e+08</td>\n",
       "      <td>1144.000000</td>\n",
       "      <td>2606.070000</td>\n",
       "      <td>1.880000e+05</td>\n",
       "    </tr>\n",
       "    <tr>\n",
       "      <th>50%</th>\n",
       "      <td>1.179469e+07</td>\n",
       "      <td>3.00000</td>\n",
       "      <td>2.000000</td>\n",
       "      <td>7.000000</td>\n",
       "      <td>1962.000000</td>\n",
       "      <td>3101.000000</td>\n",
       "      <td>96291.000000</td>\n",
       "      <td>6037.000000</td>\n",
       "      <td>3.409450e+07</td>\n",
       "      <td>-1.182911e+08</td>\n",
       "      <td>1480.000000</td>\n",
       "      <td>4339.450000</td>\n",
       "      <td>3.349620e+05</td>\n",
       "    </tr>\n",
       "    <tr>\n",
       "      <th>75%</th>\n",
       "      <td>1.249927e+07</td>\n",
       "      <td>4.00000</td>\n",
       "      <td>3.000000</td>\n",
       "      <td>8.000000</td>\n",
       "      <td>1984.000000</td>\n",
       "      <td>3101.000000</td>\n",
       "      <td>96420.000000</td>\n",
       "      <td>6037.000000</td>\n",
       "      <td>3.419689e+07</td>\n",
       "      <td>-1.181170e+08</td>\n",
       "      <td>1988.000000</td>\n",
       "      <td>6789.070000</td>\n",
       "      <td>5.439060e+05</td>\n",
       "    </tr>\n",
       "    <tr>\n",
       "      <th>max</th>\n",
       "      <td>1.676560e+08</td>\n",
       "      <td>11.00000</td>\n",
       "      <td>11.000000</td>\n",
       "      <td>12.000000</td>\n",
       "      <td>2016.000000</td>\n",
       "      <td>3101.000000</td>\n",
       "      <td>399675.000000</td>\n",
       "      <td>6111.000000</td>\n",
       "      <td>3.481877e+07</td>\n",
       "      <td>-1.176665e+08</td>\n",
       "      <td>35640.000000</td>\n",
       "      <td>276797.830000</td>\n",
       "      <td>2.385837e+07</td>\n",
       "    </tr>\n",
       "  </tbody>\n",
       "</table>\n",
       "</div>"
      ],
      "text/plain": [
       "           parcelid   bedroomcnt   bathroomcnt  buildingqualitytypeid  \\\n",
       "count  2.495000e+04  24950.00000  24950.000000           24685.000000   \n",
       "mean   1.190844e+07      2.96016      2.251864               6.657687   \n",
       "std    3.349340e+06      1.00650      0.993814               1.688723   \n",
       "min    1.071186e+07      0.00000      0.000000               1.000000   \n",
       "25%    1.117189e+07      2.00000      2.000000               6.000000   \n",
       "50%    1.179469e+07      3.00000      2.000000               7.000000   \n",
       "75%    1.249927e+07      4.00000      3.000000               8.000000   \n",
       "max    1.676560e+08     11.00000     11.000000              12.000000   \n",
       "\n",
       "          yearbuilt  regionidcounty    regionidzip          fips  \\\n",
       "count  24943.000000    24950.000000   24939.000000  24950.000000   \n",
       "mean    1964.958265     3100.740080   96439.241469   6037.005611   \n",
       "std       24.159069       20.961869    5441.615909      0.526930   \n",
       "min     1878.000000     1286.000000   95982.000000   6037.000000   \n",
       "25%     1950.000000     3101.000000   96124.000000   6037.000000   \n",
       "50%     1962.000000     3101.000000   96291.000000   6037.000000   \n",
       "75%     1984.000000     3101.000000   96420.000000   6037.000000   \n",
       "max     2016.000000     3101.000000  399675.000000   6111.000000   \n",
       "\n",
       "           latitude     longitude  calculatedfinishedsquarefeet  \\\n",
       "count  2.495000e+04  2.495000e+04                  24948.000000   \n",
       "mean   3.411000e+07 -1.182673e+08                   1709.276816   \n",
       "std    2.211190e+05  2.198762e+05                    944.327658   \n",
       "min    3.333960e+07 -1.190601e+08                    240.000000   \n",
       "25%    3.395810e+07 -1.184330e+08                   1144.000000   \n",
       "50%    3.409450e+07 -1.182911e+08                   1480.000000   \n",
       "75%    3.419689e+07 -1.181170e+08                   1988.000000   \n",
       "max    3.481877e+07 -1.176665e+08                  35640.000000   \n",
       "\n",
       "           taxamount  taxvaluedollarcnt  \n",
       "count   24949.000000       2.495000e+04  \n",
       "mean     6047.777105       4.807596e+05  \n",
       "std      8045.998644       6.830046e+05  \n",
       "min       120.840000       1.000000e+03  \n",
       "25%      2606.070000       1.880000e+05  \n",
       "50%      4339.450000       3.349620e+05  \n",
       "75%      6789.070000       5.439060e+05  \n",
       "max    276797.830000       2.385837e+07  "
      ]
     },
     "execution_count": 8,
     "metadata": {},
     "output_type": "execute_result"
    }
   ],
   "source": [
    "df2.describe()\n"
   ]
  },
  {
   "cell_type": "code",
   "execution_count": 9,
   "metadata": {},
   "outputs": [
    {
     "name": "stdout",
     "output_type": "stream",
     "text": [
      "<class 'pandas.core.frame.DataFrame'>\n",
      "RangeIndex: 24950 entries, 0 to 24949\n",
      "Data columns (total 13 columns):\n",
      " #   Column                        Non-Null Count  Dtype  \n",
      "---  ------                        --------------  -----  \n",
      " 0   parcelid                      24950 non-null  int64  \n",
      " 1   bedroomcnt                    24950 non-null  float64\n",
      " 2   bathroomcnt                   24950 non-null  float64\n",
      " 3   buildingqualitytypeid         24685 non-null  float64\n",
      " 4   yearbuilt                     24943 non-null  float64\n",
      " 5   regionidcounty                24950 non-null  float64\n",
      " 6   regionidzip                   24939 non-null  float64\n",
      " 7   fips                          24950 non-null  float64\n",
      " 8   latitude                      24950 non-null  float64\n",
      " 9   longitude                     24950 non-null  float64\n",
      " 10  calculatedfinishedsquarefeet  24948 non-null  float64\n",
      " 11  taxamount                     24949 non-null  float64\n",
      " 12  taxvaluedollarcnt             24950 non-null  float64\n",
      "dtypes: float64(12), int64(1)\n",
      "memory usage: 2.5 MB\n"
     ]
    }
   ],
   "source": [
    "df2.info()"
   ]
  },
  {
   "cell_type": "code",
   "execution_count": 10,
   "metadata": {},
   "outputs": [
    {
     "data": {
      "text/plain": [
       "parcelid                          0\n",
       "bedroomcnt                        0\n",
       "bathroomcnt                       0\n",
       "buildingqualitytypeid           265\n",
       "yearbuilt                         7\n",
       "regionidcounty                    0\n",
       "regionidzip                      11\n",
       "fips                              0\n",
       "latitude                          0\n",
       "longitude                         0\n",
       "calculatedfinishedsquarefeet      2\n",
       "taxamount                         1\n",
       "taxvaluedollarcnt                 0\n",
       "dtype: int64"
      ]
     },
     "execution_count": 10,
     "metadata": {},
     "output_type": "execute_result"
    }
   ],
   "source": [
    "df2.isnull().sum()"
   ]
  },
  {
   "cell_type": "code",
   "execution_count": 11,
   "metadata": {},
   "outputs": [
    {
     "data": {
      "text/plain": [
       "6037.0    24946\n",
       "6059.0        3\n",
       "6111.0        1\n",
       "Name: fips, dtype: int64"
      ]
     },
     "execution_count": 11,
     "metadata": {},
     "output_type": "execute_result"
    }
   ],
   "source": [
    "df2.fips.value_counts()"
   ]
  },
  {
   "cell_type": "code",
   "execution_count": null,
   "metadata": {},
   "outputs": [],
   "source": [
    "# drop the two nulls/nans observed earlier\n",
    "df2 = df2.dropna()\n"
   ]
  },
  {
   "cell_type": "code",
   "execution_count": null,
   "metadata": {},
   "outputs": [],
   "source": [
    "df2.isnull().sum()"
   ]
  },
  {
   "cell_type": "code",
   "execution_count": null,
   "metadata": {},
   "outputs": [],
   "source": [
    "#add new features\n",
    "df2['property_age'] = 2021 - df2.yearbuilt"
   ]
  },
  {
   "cell_type": "code",
   "execution_count": null,
   "metadata": {},
   "outputs": [],
   "source": [
    "#tax rate\n",
    "\n",
    "df2['tax_rate'] = (df2.taxamount / df2.taxvaluedollarcnt) * 100"
   ]
  },
  {
   "cell_type": "code",
   "execution_count": null,
   "metadata": {},
   "outputs": [],
   "source": [
    "df2.info()"
   ]
  },
  {
   "cell_type": "code",
   "execution_count": null,
   "metadata": {},
   "outputs": [],
   "source": [
    "#change all floats to ints for the ones that make sense\n",
    "df2['bedroomcnt'] = df2.bedroomcnt.astype('int')\n",
    "df2['bathroomcnt'] = df2.bathroomcnt.astype('int')\n",
    "df2['yearbuilt'] = df2.yearbuilt.astype('int')\n",
    "df2['regionidzip'] = df2.regionidzip.astype('int')\n",
    "df2['regionidcounty'] = df2.regionidcounty.astype('int')\n",
    "df2['fips'] = df2.fips.astype('int')\n",
    "df2['latitude'] = df2.latitude.astype('int')\n",
    "df2['longitude'] = df2.longitude.astype('int')\n",
    "df2['property_age'] = df2.property_age.astype('int')\n"
   ]
  },
  {
   "cell_type": "code",
   "execution_count": null,
   "metadata": {},
   "outputs": [],
   "source": [
    "df2.info()"
   ]
  },
  {
   "cell_type": "code",
   "execution_count": 33,
   "metadata": {},
   "outputs": [],
   "source": [
    "#rename cols\n",
    "df2 = df2.rename(columns={\"bedroomcnt\": \"bedrooms\", \n",
    "                        \"bathroomcnt\": \"bathrooms\", \n",
    "                        \"calculatedfinishedsquarefeet\": \"square_feet\", \n",
    "                        \"taxvaluedollarcnt\": \"tax_value\",\n",
    "                        \"regionidzip\": \"zip_code\",\n",
    "                        \"regionidcounty\": \"county\",\n",
    "                        \"buildingqualitytypeid\": \"property_quality\"})"
   ]
  },
  {
   "cell_type": "code",
   "execution_count": 34,
   "metadata": {},
   "outputs": [
    {
     "data": {
      "text/html": [
       "<div>\n",
       "<style scoped>\n",
       "    .dataframe tbody tr th:only-of-type {\n",
       "        vertical-align: middle;\n",
       "    }\n",
       "\n",
       "    .dataframe tbody tr th {\n",
       "        vertical-align: top;\n",
       "    }\n",
       "\n",
       "    .dataframe thead th {\n",
       "        text-align: right;\n",
       "    }\n",
       "</style>\n",
       "<table border=\"1\" class=\"dataframe\">\n",
       "  <thead>\n",
       "    <tr style=\"text-align: right;\">\n",
       "      <th></th>\n",
       "      <th>parcelid</th>\n",
       "      <th>bedrooms</th>\n",
       "      <th>bathrooms</th>\n",
       "      <th>property_quality</th>\n",
       "      <th>yearbuilt</th>\n",
       "      <th>county</th>\n",
       "      <th>zip_code</th>\n",
       "      <th>fips</th>\n",
       "      <th>latitude</th>\n",
       "      <th>longitude</th>\n",
       "      <th>square_feet</th>\n",
       "      <th>taxamount</th>\n",
       "      <th>tax_value</th>\n",
       "    </tr>\n",
       "  </thead>\n",
       "  <tbody>\n",
       "    <tr>\n",
       "      <th>0</th>\n",
       "      <td>11721753</td>\n",
       "      <td>3.0</td>\n",
       "      <td>2.0</td>\n",
       "      <td>6.0</td>\n",
       "      <td>1923.0</td>\n",
       "      <td>3101.0</td>\n",
       "      <td>95997.0</td>\n",
       "      <td>6037.0</td>\n",
       "      <td>34033180.0</td>\n",
       "      <td>-118355396.0</td>\n",
       "      <td>1316.0</td>\n",
       "      <td>2627.48</td>\n",
       "      <td>205123.0</td>\n",
       "    </tr>\n",
       "    <tr>\n",
       "      <th>1</th>\n",
       "      <td>11289917</td>\n",
       "      <td>3.0</td>\n",
       "      <td>2.0</td>\n",
       "      <td>6.0</td>\n",
       "      <td>1970.0</td>\n",
       "      <td>3101.0</td>\n",
       "      <td>97318.0</td>\n",
       "      <td>6037.0</td>\n",
       "      <td>34686163.0</td>\n",
       "      <td>-118113100.0</td>\n",
       "      <td>1458.0</td>\n",
       "      <td>2319.90</td>\n",
       "      <td>136104.0</td>\n",
       "    </tr>\n",
       "    <tr>\n",
       "      <th>2</th>\n",
       "      <td>11637029</td>\n",
       "      <td>3.0</td>\n",
       "      <td>2.0</td>\n",
       "      <td>9.0</td>\n",
       "      <td>1980.0</td>\n",
       "      <td>3101.0</td>\n",
       "      <td>96086.0</td>\n",
       "      <td>6037.0</td>\n",
       "      <td>34073222.0</td>\n",
       "      <td>-118390965.0</td>\n",
       "      <td>1766.0</td>\n",
       "      <td>9407.01</td>\n",
       "      <td>810694.0</td>\n",
       "    </tr>\n",
       "    <tr>\n",
       "      <th>3</th>\n",
       "      <td>11705026</td>\n",
       "      <td>2.0</td>\n",
       "      <td>1.0</td>\n",
       "      <td>6.0</td>\n",
       "      <td>1911.0</td>\n",
       "      <td>3101.0</td>\n",
       "      <td>96018.0</td>\n",
       "      <td>6037.0</td>\n",
       "      <td>33999877.0</td>\n",
       "      <td>-118291863.0</td>\n",
       "      <td>1421.0</td>\n",
       "      <td>543.69</td>\n",
       "      <td>35606.0</td>\n",
       "    </tr>\n",
       "    <tr>\n",
       "      <th>4</th>\n",
       "      <td>11446756</td>\n",
       "      <td>3.0</td>\n",
       "      <td>2.0</td>\n",
       "      <td>6.0</td>\n",
       "      <td>1955.0</td>\n",
       "      <td>3101.0</td>\n",
       "      <td>96162.0</td>\n",
       "      <td>6037.0</td>\n",
       "      <td>33873860.0</td>\n",
       "      <td>-118338253.0</td>\n",
       "      <td>1491.0</td>\n",
       "      <td>1399.27</td>\n",
       "      <td>107110.0</td>\n",
       "    </tr>\n",
       "  </tbody>\n",
       "</table>\n",
       "</div>"
      ],
      "text/plain": [
       "   parcelid  bedrooms  bathrooms  property_quality  yearbuilt  county  \\\n",
       "0  11721753       3.0        2.0               6.0     1923.0  3101.0   \n",
       "1  11289917       3.0        2.0               6.0     1970.0  3101.0   \n",
       "2  11637029       3.0        2.0               9.0     1980.0  3101.0   \n",
       "3  11705026       2.0        1.0               6.0     1911.0  3101.0   \n",
       "4  11446756       3.0        2.0               6.0     1955.0  3101.0   \n",
       "\n",
       "   zip_code    fips    latitude    longitude  square_feet  taxamount  \\\n",
       "0   95997.0  6037.0  34033180.0 -118355396.0       1316.0    2627.48   \n",
       "1   97318.0  6037.0  34686163.0 -118113100.0       1458.0    2319.90   \n",
       "2   96086.0  6037.0  34073222.0 -118390965.0       1766.0    9407.01   \n",
       "3   96018.0  6037.0  33999877.0 -118291863.0       1421.0     543.69   \n",
       "4   96162.0  6037.0  33873860.0 -118338253.0       1491.0    1399.27   \n",
       "\n",
       "   tax_value  \n",
       "0   205123.0  \n",
       "1   136104.0  \n",
       "2   810694.0  \n",
       "3    35606.0  \n",
       "4   107110.0  "
      ]
     },
     "execution_count": 34,
     "metadata": {},
     "output_type": "execute_result"
    }
   ],
   "source": [
    "df2.head()"
   ]
  },
  {
   "cell_type": "code",
   "execution_count": null,
   "metadata": {},
   "outputs": [],
   "source": [
    "#quick csv for tableau\n",
    "df2.to_csv('zillow2.csv')"
   ]
  },
  {
   "cell_type": "code",
   "execution_count": 35,
   "metadata": {},
   "outputs": [
    {
     "data": {
      "text/plain": [
       "6037.0    24946\n",
       "6059.0        3\n",
       "6111.0        1\n",
       "Name: fips, dtype: int64"
      ]
     },
     "execution_count": 35,
     "metadata": {},
     "output_type": "execute_result"
    }
   ],
   "source": [
    "df2.fips.value_counts()"
   ]
  },
  {
   "cell_type": "code",
   "execution_count": 37,
   "metadata": {},
   "outputs": [
    {
     "data": {
      "text/plain": [
       "6.657686854364999"
      ]
     },
     "execution_count": 37,
     "metadata": {},
     "output_type": "execute_result"
    }
   ],
   "source": [
    "df2.property_quality.mean()"
   ]
  },
  {
   "cell_type": "code",
   "execution_count": 38,
   "metadata": {},
   "outputs": [
    {
     "data": {
      "text/plain": [
       "7.0"
      ]
     },
     "execution_count": 38,
     "metadata": {},
     "output_type": "execute_result"
    }
   ],
   "source": [
    "df2.property_quality.median()"
   ]
  },
  {
   "cell_type": "markdown",
   "metadata": {},
   "source": [
    "### Change fips county numbers to the counties they represent\n"
   ]
  },
  {
   "cell_type": "code",
   "execution_count": null,
   "metadata": {},
   "outputs": [],
   "source": [
    "#df['first_set'] = df['first_set'].replace(['Blue'],'Green')"
   ]
  }
 ],
 "metadata": {
  "kernelspec": {
   "display_name": "Python 3",
   "language": "python",
   "name": "python3"
  },
  "language_info": {
   "codemirror_mode": {
    "name": "ipython",
    "version": 3
   },
   "file_extension": ".py",
   "mimetype": "text/x-python",
   "name": "python",
   "nbconvert_exporter": "python",
   "pygments_lexer": "ipython3",
   "version": "3.8.5"
  }
 },
 "nbformat": 4,
 "nbformat_minor": 4
}
