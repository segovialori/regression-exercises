{
 "cells": [
  {
   "cell_type": "markdown",
   "metadata": {},
   "source": [
    "# Scaling"
   ]
  },
  {
   "cell_type": "code",
   "execution_count": 1,
   "metadata": {},
   "outputs": [],
   "source": [
    "import matplotlib.pyplot as plt\n",
    "import numpy as np\n",
    "from scipy import stats\n",
    "import sklearn.preprocessing\n",
    "from sklearn.model_selection import train_test_split\n",
    "import pandas as pd\n",
    "import wrangle\n",
    "import seaborn as sns\n",
    "\n",
    "#visulization settings\n",
    "import graphviz\n",
    "from sklearn.tree import export_graphviz\n",
    "import matplotlib.style as style \n",
    "style.available\n",
    "style.use('seaborn-notebook') #sets the size of the charts\n",
    "style.use('seaborn-colorblind') #sets color of charts"
   ]
  },
  {
   "cell_type": "markdown",
   "metadata": {},
   "source": [
    "### 1. Apply the scalers we talked about in this lesson to your data and visualize the results in a way that can ."
   ]
  },
  {
   "cell_type": "code",
   "execution_count": 2,
   "metadata": {},
   "outputs": [],
   "source": [
    "train, validate, test = wrangle.wrangle_telco() "
   ]
  },
  {
   "cell_type": "code",
   "execution_count": 3,
   "metadata": {},
   "outputs": [
    {
     "data": {
      "text/plain": [
       "((949, 3), (407, 3), (339, 3))"
      ]
     },
     "execution_count": 3,
     "metadata": {},
     "output_type": "execute_result"
    }
   ],
   "source": [
    "train.shape, validate.shape, test.shape"
   ]
  },
  {
   "cell_type": "code",
   "execution_count": 4,
   "metadata": {},
   "outputs": [
    {
     "data": {
      "text/html": [
       "<div>\n",
       "<style scoped>\n",
       "    .dataframe tbody tr th:only-of-type {\n",
       "        vertical-align: middle;\n",
       "    }\n",
       "\n",
       "    .dataframe tbody tr th {\n",
       "        vertical-align: top;\n",
       "    }\n",
       "\n",
       "    .dataframe thead th {\n",
       "        text-align: right;\n",
       "    }\n",
       "</style>\n",
       "<table border=\"1\" class=\"dataframe\">\n",
       "  <thead>\n",
       "    <tr style=\"text-align: right;\">\n",
       "      <th></th>\n",
       "      <th>monthly_charges</th>\n",
       "      <th>tenure</th>\n",
       "      <th>total_charges</th>\n",
       "    </tr>\n",
       "    <tr>\n",
       "      <th>customer_id</th>\n",
       "      <th></th>\n",
       "      <th></th>\n",
       "      <th></th>\n",
       "    </tr>\n",
       "  </thead>\n",
       "  <tbody>\n",
       "    <tr>\n",
       "      <th>7501-IWUNG</th>\n",
       "      <td>73.80</td>\n",
       "      <td>61</td>\n",
       "      <td>4616.05</td>\n",
       "    </tr>\n",
       "    <tr>\n",
       "      <th>1303-SRDOK</th>\n",
       "      <td>69.05</td>\n",
       "      <td>55</td>\n",
       "      <td>3842.60</td>\n",
       "    </tr>\n",
       "    <tr>\n",
       "      <th>3967-VQOGC</th>\n",
       "      <td>24.90</td>\n",
       "      <td>67</td>\n",
       "      <td>1680.25</td>\n",
       "    </tr>\n",
       "    <tr>\n",
       "      <th>3777-XROBG</th>\n",
       "      <td>19.55</td>\n",
       "      <td>58</td>\n",
       "      <td>1079.65</td>\n",
       "    </tr>\n",
       "    <tr>\n",
       "      <th>5075-JSDKI</th>\n",
       "      <td>24.45</td>\n",
       "      <td>59</td>\n",
       "      <td>1493.10</td>\n",
       "    </tr>\n",
       "  </tbody>\n",
       "</table>\n",
       "</div>"
      ],
      "text/plain": [
       "             monthly_charges  tenure  total_charges\n",
       "customer_id                                        \n",
       "7501-IWUNG             73.80      61        4616.05\n",
       "1303-SRDOK             69.05      55        3842.60\n",
       "3967-VQOGC             24.90      67        1680.25\n",
       "3777-XROBG             19.55      58        1079.65\n",
       "5075-JSDKI             24.45      59        1493.10"
      ]
     },
     "execution_count": 4,
     "metadata": {},
     "output_type": "execute_result"
    }
   ],
   "source": [
    "train.head()"
   ]
  },
  {
   "cell_type": "code",
   "execution_count": 5,
   "metadata": {},
   "outputs": [
    {
     "data": {
      "text/plain": [
       "<AxesSubplot:>"
      ]
     },
     "execution_count": 5,
     "metadata": {},
     "output_type": "execute_result"
    },
    {
     "data": {
      "image/png": "[encoded data removed]",
      "text/plain": [
       "<Figure size 576x396 with 1 Axes>"
      ]
     },
     "metadata": {
      "needs_background": "light"
     },
     "output_type": "display_data"
    }
   ],
   "source": [
    "train.monthly_charges.hist()"
   ]
  },
  {
   "cell_type": "code",
   "execution_count": 6,
   "metadata": {},
   "outputs": [
    {
     "data": {
      "text/plain": [
       "18.4"
      ]
     },
     "execution_count": 6,
     "metadata": {},
     "output_type": "execute_result"
    }
   ],
   "source": [
    "train.monthly_charges.min()"
   ]
  },
  {
   "cell_type": "code",
   "execution_count": 7,
   "metadata": {},
   "outputs": [
    {
     "data": {
      "text/plain": [
       "118.65"
      ]
     },
     "execution_count": 7,
     "metadata": {},
     "output_type": "execute_result"
    }
   ],
   "source": [
    "train.monthly_charges.max()"
   ]
  },
  {
   "cell_type": "code",
   "execution_count": 8,
   "metadata": {},
   "outputs": [
    {
     "data": {
      "text/plain": [
       "<AxesSubplot:>"
      ]
     },
     "execution_count": 8,
     "metadata": {},
     "output_type": "execute_result"
    },
    {
     "data": {
      "image/png": "[encoded data removed]",
      "text/plain": [
       "<Figure size 576x396 with 1 Axes>"
      ]
     },
     "metadata": {
      "needs_background": "light"
     },
     "output_type": "display_data"
    }
   ],
   "source": [
    "train.tenure.hist()"
   ]
  },
  {
   "cell_type": "code",
   "execution_count": 9,
   "metadata": {},
   "outputs": [
    {
     "data": {
      "text/plain": [
       "0"
      ]
     },
     "execution_count": 9,
     "metadata": {},
     "output_type": "execute_result"
    }
   ],
   "source": [
    "train.tenure.min()"
   ]
  },
  {
   "cell_type": "code",
   "execution_count": 10,
   "metadata": {},
   "outputs": [
    {
     "data": {
      "text/plain": [
       "72"
      ]
     },
     "execution_count": 10,
     "metadata": {},
     "output_type": "execute_result"
    }
   ],
   "source": [
    "train.tenure.max()"
   ]
  },
  {
   "cell_type": "code",
   "execution_count": 11,
   "metadata": {},
   "outputs": [
    {
     "data": {
      "text/plain": [
       "<AxesSubplot:>"
      ]
     },
     "execution_count": 11,
     "metadata": {},
     "output_type": "execute_result"
    },
    {
     "data": {
      "image/png": "[encoded data removed]",
      "text/plain": [
       "<Figure size 576x396 with 1 Axes>"
      ]
     },
     "metadata": {
      "needs_background": "light"
     },
     "output_type": "display_data"
    }
   ],
   "source": [
    "train.total_charges.hist()"
   ]
  },
  {
   "cell_type": "markdown",
   "metadata": {},
   "source": [
    "#### Scaling\n",
    "- Do the 3 Step sklearn API:\n",
    "    - Make the thing (Make a scaler object\n",
    "    - Fit the thing (on the train data)\n",
    "    - Use the thing"
   ]
  },
  {
   "cell_type": "code",
   "execution_count": 12,
   "metadata": {},
   "outputs": [],
   "source": [
    "#Make the thing\n",
    "scaler = sklearn.preprocessing.MinMaxScaler()"
   ]
  },
  {
   "cell_type": "code",
   "execution_count": 13,
   "metadata": {},
   "outputs": [
    {
     "data": {
      "text/plain": [
       "MinMaxScaler()"
      ]
     },
     "execution_count": 13,
     "metadata": {},
     "output_type": "execute_result"
    }
   ],
   "source": [
    "#We fit on the training data\n",
    "#in a way, we treat our scalers like our ML models\n",
    "# we onlu .fit on training data\n",
    "scaler.fit(train[['monthly_charges']])"
   ]
  },
  {
   "cell_type": "code",
   "execution_count": 14,
   "metadata": {},
   "outputs": [
    {
     "data": {
      "text/plain": [
       "array([[0.55261845],\n",
       "       [0.50523691],\n",
       "       [0.06483791],\n",
       "       [0.01147132],\n",
       "       [0.06034913],\n",
       "       [0.61745636],\n",
       "       [0.19800499],\n",
       "       [0.00698254],\n",
       "       [0.42892768],\n",
       "       [0.66533666],\n",
       "       [0.06733167],\n",
       "       [0.86633416],\n",
       "       [0.36758105],\n",
       "       [0.8798005 ],\n",
       "       [0.91072319],\n",
       "       [0.60648379],\n",
       "       [0.00798005],\n",
       "       [0.80897756],\n",
       "       [0.00997506],\n",
       "       [0.02244389],\n",
       "       [0.17306733],\n",
       "       [0.7915212 ],\n",
       "       [0.41496259],\n",
       "       [0.61546135],\n",
       "       [0.0234414 ],\n",
       "       [0.81446384],\n",
       "       [0.06134663],\n",
       "       [0.34014963],\n",
       "       [0.01695761],\n",
       "       [0.39052369],\n",
       "       [0.54962594],\n",
       "       [0.89376559],\n",
       "       [0.46034913],\n",
       "       [0.41097257],\n",
       "       [0.86882793],\n",
       "       [0.55012469],\n",
       "       [0.57905237],\n",
       "       [0.57107232],\n",
       "       [0.05835411],\n",
       "       [0.3755611 ],\n",
       "       [0.93017456],\n",
       "       [0.66882793],\n",
       "       [0.02593516],\n",
       "       [0.71870324],\n",
       "       [0.02044888],\n",
       "       [0.01745636],\n",
       "       [0.90922693],\n",
       "       [0.62044888],\n",
       "       [0.00149626],\n",
       "       [0.56957606],\n",
       "       [0.96259352],\n",
       "       [0.0234414 ],\n",
       "       [0.07281796],\n",
       "       [0.00947631],\n",
       "       [0.64738155],\n",
       "       [0.02593516],\n",
       "       [0.58354115],\n",
       "       [0.28578554],\n",
       "       [0.45586035],\n",
       "       [0.06583541],\n",
       "       [0.56558603],\n",
       "       [0.40399002],\n",
       "       [0.95860349],\n",
       "       [0.66733167],\n",
       "       [0.54413965],\n",
       "       [0.01795511],\n",
       "       [0.06832918],\n",
       "       [0.01645885],\n",
       "       [0.07331671],\n",
       "       [0.49625935],\n",
       "       [0.03042394],\n",
       "       [0.01147132],\n",
       "       [0.05785536],\n",
       "       [0.51371571],\n",
       "       [0.01246883],\n",
       "       [0.51221945],\n",
       "       [0.20947631],\n",
       "       [0.01496259],\n",
       "       [0.0159601 ],\n",
       "       [0.06433915],\n",
       "       [0.5925187 ],\n",
       "       [0.71122195],\n",
       "       [0.01346633],\n",
       "       [0.89875312],\n",
       "       [0.05985037],\n",
       "       [0.01246883],\n",
       "       [0.91072319],\n",
       "       [0.01446384],\n",
       "       [0.32069825],\n",
       "       [0.46034913],\n",
       "       [0.01197007],\n",
       "       [0.44588529],\n",
       "       [0.95012469],\n",
       "       [0.02394015],\n",
       "       [0.01296758],\n",
       "       [0.07182045],\n",
       "       [0.66683292],\n",
       "       [0.        ],\n",
       "       [0.05685786],\n",
       "       [0.0084788 ],\n",
       "       [0.89925187],\n",
       "       [0.01845387],\n",
       "       [0.62144638],\n",
       "       [0.94413965],\n",
       "       [0.42892768],\n",
       "       [0.26932668],\n",
       "       [0.68528678],\n",
       "       [0.01346633],\n",
       "       [0.30872818],\n",
       "       [0.4563591 ],\n",
       "       [0.70473815],\n",
       "       [0.95810474],\n",
       "       [0.6244389 ],\n",
       "       [0.68179551],\n",
       "       [0.01246883],\n",
       "       [0.66134663],\n",
       "       [0.60698254],\n",
       "       [0.34064838],\n",
       "       [0.00947631],\n",
       "       [0.86733167],\n",
       "       [0.22194514],\n",
       "       [0.90024938],\n",
       "       [0.01296758],\n",
       "       [0.26084788],\n",
       "       [0.87481297],\n",
       "       [0.07381546],\n",
       "       [0.66733167],\n",
       "       [0.39700748],\n",
       "       [0.46433915],\n",
       "       [0.66433915],\n",
       "       [0.67531172],\n",
       "       [0.45835411],\n",
       "       [0.97157107],\n",
       "       [0.86882793],\n",
       "       [0.9127182 ],\n",
       "       [0.91970075],\n",
       "       [0.01645885],\n",
       "       [0.40698254],\n",
       "       [0.98503741],\n",
       "       [0.41795511],\n",
       "       [0.04538653],\n",
       "       [0.39002494],\n",
       "       [0.96857855],\n",
       "       [0.66284289],\n",
       "       [0.01147132],\n",
       "       [0.44139651],\n",
       "       [0.53466334],\n",
       "       [0.01546135],\n",
       "       [0.91521197],\n",
       "       [0.07331671],\n",
       "       [0.89775561],\n",
       "       [0.01645885],\n",
       "       [0.959601  ],\n",
       "       [0.72219451],\n",
       "       [0.7127182 ],\n",
       "       [0.01645885],\n",
       "       [0.67880299],\n",
       "       [0.67880299],\n",
       "       [0.48329177],\n",
       "       [0.06583541],\n",
       "       [0.0244389 ],\n",
       "       [0.89027431],\n",
       "       [0.06832918],\n",
       "       [0.01396509],\n",
       "       [0.01197007],\n",
       "       [0.70972569],\n",
       "       [0.60947631],\n",
       "       [0.95411471],\n",
       "       [0.83990025],\n",
       "       [0.06783042],\n",
       "       [0.45386534],\n",
       "       [0.72369077],\n",
       "       [0.01546135],\n",
       "       [0.97406484],\n",
       "       [0.0553616 ],\n",
       "       [0.6244389 ],\n",
       "       [0.64738155],\n",
       "       [0.60049875],\n",
       "       [0.06234414],\n",
       "       [0.880798  ],\n",
       "       [0.91820449],\n",
       "       [0.0244389 ],\n",
       "       [0.02144638],\n",
       "       [0.5755611 ],\n",
       "       [0.85336658],\n",
       "       [0.01346633],\n",
       "       [0.01047382],\n",
       "       [0.83491272],\n",
       "       [0.00897756],\n",
       "       [0.97805486],\n",
       "       [0.61895262],\n",
       "       [0.00698254],\n",
       "       [0.62942643],\n",
       "       [0.48379052],\n",
       "       [0.20049875],\n",
       "       [0.01346633],\n",
       "       [0.06184539],\n",
       "       [1.        ],\n",
       "       [0.96608479],\n",
       "       [0.73715711],\n",
       "       [0.36359102],\n",
       "       [0.02842893],\n",
       "       [0.41546135],\n",
       "       [0.62743142],\n",
       "       [0.01396509],\n",
       "       [0.01446384],\n",
       "       [0.48877805],\n",
       "       [0.74812968],\n",
       "       [0.16159601],\n",
       "       [0.06134663],\n",
       "       [0.79102244],\n",
       "       [0.86533666],\n",
       "       [0.88029925],\n",
       "       [0.30224439],\n",
       "       [0.22094763],\n",
       "       [0.65835411],\n",
       "       [0.02593516],\n",
       "       [0.06234414],\n",
       "       [0.91820449],\n",
       "       [0.91122195],\n",
       "       [0.96907731],\n",
       "       [0.61047382],\n",
       "       [0.38304239],\n",
       "       [0.95012469],\n",
       "       [0.01097257],\n",
       "       [0.91670823],\n",
       "       [0.0084788 ],\n",
       "       [0.41346633],\n",
       "       [0.36109726],\n",
       "       [0.16957606],\n",
       "       [0.6244389 ],\n",
       "       [0.36159601],\n",
       "       [0.65735661],\n",
       "       [0.07581047],\n",
       "       [0.47182045],\n",
       "       [0.63990025],\n",
       "       [0.41246883],\n",
       "       [0.02044888],\n",
       "       [0.25137157],\n",
       "       [0.01197007],\n",
       "       [0.54962594],\n",
       "       [0.74663342],\n",
       "       [0.22094763],\n",
       "       [0.02693267],\n",
       "       [0.73865337],\n",
       "       [0.81296758],\n",
       "       [0.51571072],\n",
       "       [0.47032419],\n",
       "       [0.67830424],\n",
       "       [0.35860349],\n",
       "       [0.96907731],\n",
       "       [0.77955112],\n",
       "       [0.40997506],\n",
       "       [0.01396509],\n",
       "       [0.05835411],\n",
       "       [0.79750623],\n",
       "       [0.02493766],\n",
       "       [0.01246883],\n",
       "       [0.06583541],\n",
       "       [0.07880299],\n",
       "       [0.01446384],\n",
       "       [0.01645885],\n",
       "       [0.93266833],\n",
       "       [0.95710723],\n",
       "       [0.27880299],\n",
       "       [0.42842893],\n",
       "       [0.00947631],\n",
       "       [0.06882793],\n",
       "       [0.02144638],\n",
       "       [0.94962594],\n",
       "       [0.080798  ],\n",
       "       [0.0084788 ],\n",
       "       [0.01745636],\n",
       "       [0.71620948],\n",
       "       [0.07331671],\n",
       "       [0.85137157],\n",
       "       [0.85386534],\n",
       "       [0.00648379],\n",
       "       [0.06683292],\n",
       "       [0.55810474],\n",
       "       [0.35361596],\n",
       "       [0.01147132],\n",
       "       [0.01496259],\n",
       "       [0.01645885],\n",
       "       [0.65037406],\n",
       "       [0.70074813],\n",
       "       [0.71720698],\n",
       "       [0.02194514],\n",
       "       [0.05785536],\n",
       "       [0.68528678],\n",
       "       [0.70972569],\n",
       "       [0.60648379],\n",
       "       [0.01645885],\n",
       "       [0.06683292],\n",
       "       [0.06982544],\n",
       "       [0.06433915],\n",
       "       [0.40997506],\n",
       "       [0.89775561],\n",
       "       [0.87032419],\n",
       "       [0.06683292],\n",
       "       [0.7042394 ],\n",
       "       [0.01895262],\n",
       "       [0.17705736],\n",
       "       [0.0244389 ],\n",
       "       [0.66583541],\n",
       "       [0.81047382],\n",
       "       [0.0159601 ],\n",
       "       [0.58802993],\n",
       "       [0.88179551],\n",
       "       [0.07182045],\n",
       "       [0.80698254],\n",
       "       [0.01047382],\n",
       "       [0.07581047],\n",
       "       [0.65785536],\n",
       "       [0.94513716],\n",
       "       [0.06982544],\n",
       "       [0.06932668],\n",
       "       [0.06733167],\n",
       "       [0.02144638],\n",
       "       [0.0723192 ],\n",
       "       [0.66683292],\n",
       "       [0.83491272],\n",
       "       [0.01396509],\n",
       "       [0.69975062],\n",
       "       [0.06633416],\n",
       "       [0.01396509],\n",
       "       [0.66533666],\n",
       "       [0.98204489],\n",
       "       [0.0084788 ],\n",
       "       [0.40249377],\n",
       "       [0.02094763],\n",
       "       [0.37157107],\n",
       "       [0.01047382],\n",
       "       [0.27730673],\n",
       "       [0.62294264],\n",
       "       [0.47032419],\n",
       "       [0.73017456],\n",
       "       [0.46583541],\n",
       "       [0.75760599],\n",
       "       [0.26583541],\n",
       "       [0.93117207],\n",
       "       [0.06034913],\n",
       "       [0.05436409],\n",
       "       [0.31321696],\n",
       "       [0.98852868],\n",
       "       [0.05486284],\n",
       "       [0.01845387],\n",
       "       [0.01546135],\n",
       "       [0.87680798],\n",
       "       [0.70024938],\n",
       "       [0.41745636],\n",
       "       [0.81845387],\n",
       "       [0.26733167],\n",
       "       [0.6244389 ],\n",
       "       [0.73815461],\n",
       "       [0.71970075],\n",
       "       [0.7446384 ],\n",
       "       [0.70274314],\n",
       "       [0.77755611],\n",
       "       [0.01995012],\n",
       "       [0.7127182 ],\n",
       "       [0.51321696],\n",
       "       [0.42842893],\n",
       "       [0.42543641],\n",
       "       [0.6244389 ],\n",
       "       [0.02144638],\n",
       "       [0.07032419],\n",
       "       [0.0159601 ],\n",
       "       [0.01546135],\n",
       "       [0.16658354],\n",
       "       [0.8159601 ],\n",
       "       [0.17256858],\n",
       "       [0.06284289],\n",
       "       [0.66134663],\n",
       "       [0.94314214],\n",
       "       [0.01296758],\n",
       "       [0.39750623],\n",
       "       [0.69526185],\n",
       "       [0.01346633],\n",
       "       [0.97506234],\n",
       "       [0.60897756],\n",
       "       [0.01197007],\n",
       "       [0.73865337],\n",
       "       [0.96009975],\n",
       "       [0.62044888],\n",
       "       [0.01496259],\n",
       "       [0.97406484],\n",
       "       [0.05436409],\n",
       "       [0.59900249],\n",
       "       [0.06533666],\n",
       "       [0.86633416],\n",
       "       [0.91720698],\n",
       "       [0.6798005 ],\n",
       "       [0.70822943],\n",
       "       [0.89326683],\n",
       "       [0.05137157],\n",
       "       [0.01995012],\n",
       "       [0.90573566],\n",
       "       [0.0234414 ],\n",
       "       [0.02094763],\n",
       "       [0.83890274],\n",
       "       [0.66334165],\n",
       "       [0.01296758],\n",
       "       [0.01446384],\n",
       "       [0.46783042],\n",
       "       [0.71521197],\n",
       "       [0.91122195],\n",
       "       [0.86184539],\n",
       "       [0.46184539],\n",
       "       [0.89476309],\n",
       "       [0.7127182 ],\n",
       "       [0.07281796],\n",
       "       [0.69476309],\n",
       "       [0.01197007],\n",
       "       [0.06832918],\n",
       "       [0.70523691],\n",
       "       [0.00299252],\n",
       "       [0.54912718],\n",
       "       [0.67880299],\n",
       "       [0.4713217 ],\n",
       "       [0.6244389 ],\n",
       "       [0.55461347],\n",
       "       [0.72568579],\n",
       "       [0.8478803 ],\n",
       "       [0.61895262],\n",
       "       [0.06733167],\n",
       "       [0.0159601 ],\n",
       "       [0.5680798 ],\n",
       "       [0.01745636],\n",
       "       [0.61845387],\n",
       "       [0.02094763],\n",
       "       [0.01446384],\n",
       "       [0.92418953],\n",
       "       [0.01296758],\n",
       "       [0.65835411],\n",
       "       [0.06583541],\n",
       "       [0.06882793],\n",
       "       [0.84588529],\n",
       "       [0.42294264],\n",
       "       [0.01795511],\n",
       "       [0.57605985],\n",
       "       [0.01346633],\n",
       "       [0.86783042],\n",
       "       [0.51820449],\n",
       "       [0.01346633],\n",
       "       [0.00947631],\n",
       "       [0.91371571],\n",
       "       [0.39301746],\n",
       "       [0.7201995 ],\n",
       "       [0.02094763],\n",
       "       [0.85386534],\n",
       "       [0.0563591 ],\n",
       "       [0.67830424],\n",
       "       [0.00698254],\n",
       "       [0.67331671],\n",
       "       [0.78603491],\n",
       "       [0.04887781],\n",
       "       [0.91471322],\n",
       "       [0.63391521],\n",
       "       [0.66234414],\n",
       "       [0.00997506],\n",
       "       [0.00997506],\n",
       "       [0.70124688],\n",
       "       [0.66134663],\n",
       "       [0.12618454],\n",
       "       [0.80897756],\n",
       "       [0.76608479],\n",
       "       [0.06683292],\n",
       "       [0.56259352],\n",
       "       [0.01745636],\n",
       "       [0.64089776],\n",
       "       [0.02044888],\n",
       "       [0.87431421],\n",
       "       [0.62044888],\n",
       "       [0.75311721],\n",
       "       [0.89975062],\n",
       "       [0.51670823],\n",
       "       [0.39850374],\n",
       "       [0.50673317],\n",
       "       [0.01296758],\n",
       "       [0.80049875],\n",
       "       [0.06982544],\n",
       "       [0.72468828],\n",
       "       [0.68678304],\n",
       "       [0.31321696],\n",
       "       [0.97206983],\n",
       "       [0.02094763],\n",
       "       [0.56857855],\n",
       "       [0.79052369],\n",
       "       [0.92967581],\n",
       "       [0.66034913],\n",
       "       [0.0638404 ],\n",
       "       [0.90573566],\n",
       "       [0.519202  ],\n",
       "       [0.0234414 ],\n",
       "       [0.01147132],\n",
       "       [0.20149626],\n",
       "       [0.02194514],\n",
       "       [0.01396509],\n",
       "       [0.42942643],\n",
       "       [0.91870324],\n",
       "       [0.02044888],\n",
       "       [0.61995012],\n",
       "       [0.01995012],\n",
       "       [0.01147132],\n",
       "       [0.01346633],\n",
       "       [0.31371571],\n",
       "       [0.00299252],\n",
       "       [0.86633416],\n",
       "       [0.00548628],\n",
       "       [0.01446384],\n",
       "       [0.96309227],\n",
       "       [0.86134663],\n",
       "       [0.42892768],\n",
       "       [0.96508728],\n",
       "       [0.4713217 ],\n",
       "       [0.06533666],\n",
       "       [0.759601  ],\n",
       "       [0.8882793 ],\n",
       "       [0.07830424],\n",
       "       [0.00897756],\n",
       "       [0.01995012],\n",
       "       [0.7117207 ],\n",
       "       [0.6234414 ],\n",
       "       [0.01995012],\n",
       "       [0.86483791],\n",
       "       [0.02394015],\n",
       "       [0.67331671],\n",
       "       [0.86932668],\n",
       "       [0.60399002],\n",
       "       [0.96408978],\n",
       "       [0.91122195],\n",
       "       [0.67381546],\n",
       "       [0.8723192 ],\n",
       "       [0.5446384 ],\n",
       "       [0.70723192],\n",
       "       [0.01197007],\n",
       "       [0.60648379],\n",
       "       [0.52568579],\n",
       "       [0.99950125],\n",
       "       [0.0234414 ],\n",
       "       [0.95461347],\n",
       "       [0.01645885],\n",
       "       [0.01795511],\n",
       "       [0.57605985],\n",
       "       [0.35610973],\n",
       "       [0.54413965],\n",
       "       [0.75860349],\n",
       "       [0.01895262],\n",
       "       [0.01546135],\n",
       "       [0.01446384],\n",
       "       [0.0723192 ],\n",
       "       [0.78603491],\n",
       "       [0.84538653],\n",
       "       [0.719202  ],\n",
       "       [0.91571072],\n",
       "       [0.92668329],\n",
       "       [0.71720698],\n",
       "       [0.02294264],\n",
       "       [0.01795511],\n",
       "       [0.86433915],\n",
       "       [0.46234414],\n",
       "       [0.90673317],\n",
       "       [0.67581047],\n",
       "       [0.66184539],\n",
       "       [0.0084788 ],\n",
       "       [0.06733167],\n",
       "       [0.67082294],\n",
       "       [0.60648379],\n",
       "       [0.65486284],\n",
       "       [0.60349127],\n",
       "       [0.5117207 ],\n",
       "       [0.46234414],\n",
       "       [0.4553616 ],\n",
       "       [0.00897756],\n",
       "       [0.45286783],\n",
       "       [0.01396509],\n",
       "       [0.01496259],\n",
       "       [0.01047382],\n",
       "       [0.41246883],\n",
       "       [0.96957606],\n",
       "       [0.07531172],\n",
       "       [0.55361596],\n",
       "       [0.74713217],\n",
       "       [0.08029925],\n",
       "       [0.45037406],\n",
       "       [0.45286783],\n",
       "       [0.50573566],\n",
       "       [0.07082294],\n",
       "       [0.05835411],\n",
       "       [0.49875312],\n",
       "       [0.05935162],\n",
       "       [0.32069825],\n",
       "       [0.38254364],\n",
       "       [0.61097257],\n",
       "       [0.74563591],\n",
       "       [0.58603491],\n",
       "       [0.9605985 ],\n",
       "       [0.49526185],\n",
       "       [0.46982544],\n",
       "       [0.67930175],\n",
       "       [0.00399002],\n",
       "       [0.87032419],\n",
       "       [0.01995012],\n",
       "       [0.23640898],\n",
       "       [0.76209476],\n",
       "       [0.47630923],\n",
       "       [0.01745636],\n",
       "       [0.61645885],\n",
       "       [0.95411471],\n",
       "       [0.25436409],\n",
       "       [0.05386534],\n",
       "       [0.35311721],\n",
       "       [0.80947631],\n",
       "       [0.01845387],\n",
       "       [0.06034913],\n",
       "       [0.01546135],\n",
       "       [0.5042394 ],\n",
       "       [0.55760599],\n",
       "       [0.71371571],\n",
       "       [0.01645885],\n",
       "       [0.76907731],\n",
       "       [0.66832918],\n",
       "       [0.02244389],\n",
       "       [0.69975062],\n",
       "       [0.73416459],\n",
       "       [0.55511222],\n",
       "       [0.80548628],\n",
       "       [0.48379052],\n",
       "       [0.8084788 ],\n",
       "       [0.20698254],\n",
       "       [0.50623441],\n",
       "       [0.00798005],\n",
       "       [0.41346633],\n",
       "       [0.76508728],\n",
       "       [0.83790524],\n",
       "       [0.45685786],\n",
       "       [0.0159601 ],\n",
       "       [0.93316708],\n",
       "       [0.06034913],\n",
       "       [0.01246883],\n",
       "       [0.46683292],\n",
       "       [0.97107232],\n",
       "       [0.41995012],\n",
       "       [0.93965087],\n",
       "       [0.01845387],\n",
       "       [0.02892768],\n",
       "       [0.0563591 ],\n",
       "       [0.90872818],\n",
       "       [0.66932668],\n",
       "       [0.07032419],\n",
       "       [0.01346633],\n",
       "       [0.00997506],\n",
       "       [0.67481297],\n",
       "       [0.67830424],\n",
       "       [0.94114713],\n",
       "       [0.51571072],\n",
       "       [0.0244389 ],\n",
       "       [0.66134663],\n",
       "       [0.01496259],\n",
       "       [0.06284289],\n",
       "       [0.91571072],\n",
       "       [0.90822943],\n",
       "       [0.06334165],\n",
       "       [0.06134663],\n",
       "       [0.66683292],\n",
       "       [0.62294264],\n",
       "       [0.93017456],\n",
       "       [0.55860349],\n",
       "       [0.91670823],\n",
       "       [0.71321696],\n",
       "       [0.06832918],\n",
       "       [0.06832918],\n",
       "       [0.82693267],\n",
       "       [0.58802993],\n",
       "       [0.34862843],\n",
       "       [0.95112219],\n",
       "       [0.00997506],\n",
       "       [0.02094763],\n",
       "       [0.7117207 ],\n",
       "       [0.85835411],\n",
       "       [0.01097257],\n",
       "       [0.66084788],\n",
       "       [0.06284289],\n",
       "       [0.62044888],\n",
       "       [0.0074813 ],\n",
       "       [0.62144638],\n",
       "       [0.68029925],\n",
       "       [0.41496259],\n",
       "       [0.40997506],\n",
       "       [0.91820449],\n",
       "       [0.61396509],\n",
       "       [0.01246883],\n",
       "       [0.07880299],\n",
       "       [0.45735661],\n",
       "       [0.01446384],\n",
       "       [0.86932668],\n",
       "       [0.74314214],\n",
       "       [0.00997506],\n",
       "       [0.01745636],\n",
       "       [0.01246883],\n",
       "       [0.41047382],\n",
       "       [0.45835411],\n",
       "       [0.07431421],\n",
       "       [0.80099751],\n",
       "       [0.71870324],\n",
       "       [0.35710723],\n",
       "       [0.01546135],\n",
       "       [0.01197007],\n",
       "       [0.0159601 ],\n",
       "       [0.07281796],\n",
       "       [0.01396509],\n",
       "       [0.01695761],\n",
       "       [0.47481297],\n",
       "       [0.59900249],\n",
       "       [0.65885287],\n",
       "       [0.16608479],\n",
       "       [0.96408978],\n",
       "       [0.00698254],\n",
       "       [0.95012469],\n",
       "       [0.74114713],\n",
       "       [0.72967581],\n",
       "       [0.50872818],\n",
       "       [0.78004988],\n",
       "       [0.8638404 ],\n",
       "       [0.4713217 ],\n",
       "       [0.76309227],\n",
       "       [0.01446384],\n",
       "       [0.20947631],\n",
       "       [0.01197007],\n",
       "       [0.6084788 ],\n",
       "       [0.87730673],\n",
       "       [0.91471322],\n",
       "       [0.21246883],\n",
       "       [0.06433915],\n",
       "       [0.01147132],\n",
       "       [0.61147132],\n",
       "       [0.47082294],\n",
       "       [0.01396509],\n",
       "       [0.98703242],\n",
       "       [0.05885287],\n",
       "       [0.61047382],\n",
       "       [0.71321696],\n",
       "       [0.41496259],\n",
       "       [0.01845387],\n",
       "       [0.93316708],\n",
       "       [0.91371571],\n",
       "       [0.27780549],\n",
       "       [0.02194514],\n",
       "       [0.46483791],\n",
       "       [0.00897756],\n",
       "       [0.41047382],\n",
       "       [0.65885287],\n",
       "       [0.55810474],\n",
       "       [0.0084788 ],\n",
       "       [0.01695761],\n",
       "       [0.67182045],\n",
       "       [0.01296758],\n",
       "       [0.63241895],\n",
       "       [0.0553616 ],\n",
       "       [0.36957606],\n",
       "       [0.46783042],\n",
       "       [0.51371571],\n",
       "       [0.71820449],\n",
       "       [0.90573566],\n",
       "       [0.06982544],\n",
       "       [0.95162095],\n",
       "       [0.05835411],\n",
       "       [0.06633416],\n",
       "       [0.92568579],\n",
       "       [0.06633416],\n",
       "       [0.34513716],\n",
       "       [0.75710723],\n",
       "       [0.73117207],\n",
       "       [0.52119701],\n",
       "       [0.85436409],\n",
       "       [0.97107232],\n",
       "       [0.01496259],\n",
       "       [0.95810474],\n",
       "       [0.08029925],\n",
       "       [0.01496259],\n",
       "       [0.80199501],\n",
       "       [0.96907731],\n",
       "       [0.98304239],\n",
       "       [0.85436409],\n",
       "       [0.85486284],\n",
       "       [0.06084788],\n",
       "       [0.0563591 ],\n",
       "       [0.92169576],\n",
       "       [0.02244389],\n",
       "       [0.01446384],\n",
       "       [0.71321696],\n",
       "       [0.01296758],\n",
       "       [0.01097257],\n",
       "       [0.680798  ],\n",
       "       [0.80399002],\n",
       "       [0.54812968],\n",
       "       [0.89426434],\n",
       "       [0.06533666],\n",
       "       [0.15760599],\n",
       "       [0.05137157],\n",
       "       [0.4798005 ],\n",
       "       [0.90024938],\n",
       "       [0.80548628],\n",
       "       [0.95361596],\n",
       "       [0.71571072],\n",
       "       [0.20648379],\n",
       "       [0.0159601 ],\n",
       "       [0.01895262],\n",
       "       [0.01097257],\n",
       "       [0.55311721],\n",
       "       [0.00798005],\n",
       "       [0.92518703],\n",
       "       [0.21645885],\n",
       "       [0.62044888],\n",
       "       [0.01895262],\n",
       "       [0.01995012],\n",
       "       [0.61246883],\n",
       "       [0.6394015 ],\n",
       "       [0.43391521],\n",
       "       [0.68329177],\n",
       "       [0.00897756],\n",
       "       [0.91122195],\n",
       "       [0.01695761],\n",
       "       [0.90274314],\n",
       "       [0.01645885],\n",
       "       [0.02493766],\n",
       "       [0.45935162],\n",
       "       [0.05835411],\n",
       "       [0.02643392],\n",
       "       [0.8074813 ],\n",
       "       [0.01197007],\n",
       "       [0.00947631],\n",
       "       [0.73865337],\n",
       "       [0.06533666],\n",
       "       [0.02094763],\n",
       "       [0.5755611 ],\n",
       "       [0.01446384],\n",
       "       [0.76658354],\n",
       "       [0.54812968],\n",
       "       [0.51820449],\n",
       "       [0.01197007],\n",
       "       [0.64139651],\n",
       "       [0.96508728],\n",
       "       [0.89326683],\n",
       "       [0.31371571],\n",
       "       [0.01945137],\n",
       "       [0.8957606 ],\n",
       "       [0.1925187 ],\n",
       "       [0.75660848],\n",
       "       [0.36159601],\n",
       "       [0.01346633],\n",
       "       [0.06832918],\n",
       "       [0.01695761],\n",
       "       [0.01795511],\n",
       "       [0.02194514],\n",
       "       [0.94563591],\n",
       "       [0.90623441],\n",
       "       [0.0159601 ],\n",
       "       [0.06334165],\n",
       "       [0.34613466],\n",
       "       [0.06583541],\n",
       "       [0.57306733],\n",
       "       [0.01795511],\n",
       "       [0.01895262],\n",
       "       [0.96458853],\n",
       "       [0.66783042],\n",
       "       [0.38104738],\n",
       "       [0.32418953],\n",
       "       [0.91022444],\n",
       "       [0.90124688],\n",
       "       [0.41396509],\n",
       "       [0.07281796],\n",
       "       [0.01945137],\n",
       "       [0.65286783],\n",
       "       [0.6394015 ],\n",
       "       [0.96508728],\n",
       "       [0.82693267],\n",
       "       [0.52917706],\n",
       "       [0.44289277],\n",
       "       [0.01296758],\n",
       "       [0.91620948],\n",
       "       [0.35112219],\n",
       "       [0.01695761],\n",
       "       [0.0074813 ],\n",
       "       [0.78004988],\n",
       "       [0.01945137],\n",
       "       [0.30723192],\n",
       "       [0.43640898],\n",
       "       [0.01346633],\n",
       "       [0.00798005],\n",
       "       [0.63740648],\n",
       "       [0.88778055],\n",
       "       [0.98952618],\n",
       "       [0.959601  ],\n",
       "       [0.44837905],\n",
       "       [0.01745636],\n",
       "       [0.06483791],\n",
       "       [0.60997506],\n",
       "       [0.71770574],\n",
       "       [0.01346633],\n",
       "       [0.86433915],\n",
       "       [0.53566085],\n",
       "       [0.44887781],\n",
       "       [0.66733167],\n",
       "       [0.01246883],\n",
       "       [0.73416459],\n",
       "       [0.20448878],\n",
       "       [0.49276808],\n",
       "       [0.91870324],\n",
       "       [0.01546135],\n",
       "       [0.23441397],\n",
       "       [0.49725686],\n",
       "       [0.06733167],\n",
       "       [0.06633416],\n",
       "       [0.01945137],\n",
       "       [0.7201995 ],\n",
       "       [0.70872818],\n",
       "       [0.81097257],\n",
       "       [0.05885287],\n",
       "       [0.26134663],\n",
       "       [0.52269327],\n",
       "       [0.07182045],\n",
       "       [0.56608479],\n",
       "       [0.01346633],\n",
       "       [0.97755611],\n",
       "       [0.0713217 ],\n",
       "       [0.91970075],\n",
       "       [0.6084788 ],\n",
       "       [0.61895262],\n",
       "       [0.01446384],\n",
       "       [0.79351621],\n",
       "       [0.01296758],\n",
       "       [0.01396509],\n",
       "       [0.87431421],\n",
       "       [0.01695761],\n",
       "       [0.6563591 ],\n",
       "       [0.71970075],\n",
       "       [0.70224439],\n",
       "       [0.66583541],\n",
       "       [0.52568579],\n",
       "       [0.95910224],\n",
       "       [0.20897756],\n",
       "       [0.0159601 ],\n",
       "       [0.86284289],\n",
       "       [0.25486284],\n",
       "       [0.06683292],\n",
       "       [0.90024938],\n",
       "       [0.01546135]])"
      ]
     },
     "execution_count": 14,
     "metadata": {},
     "output_type": "execute_result"
    }
   ],
   "source": [
    "scaled = scaler.fit_transform(train[['monthly_charges']])\n",
    "scaled"
   ]
  },
  {
   "cell_type": "code",
   "execution_count": 16,
   "metadata": {},
   "outputs": [
    {
     "data": {
      "text/html": [
       "<div>\n",
       "<style scoped>\n",
       "    .dataframe tbody tr th:only-of-type {\n",
       "        vertical-align: middle;\n",
       "    }\n",
       "\n",
       "    .dataframe tbody tr th {\n",
       "        vertical-align: top;\n",
       "    }\n",
       "\n",
       "    .dataframe thead th {\n",
       "        text-align: right;\n",
       "    }\n",
       "</style>\n",
       "<table border=\"1\" class=\"dataframe\">\n",
       "  <thead>\n",
       "    <tr style=\"text-align: right;\">\n",
       "      <th></th>\n",
       "      <th>monthly_charges</th>\n",
       "      <th>tenure</th>\n",
       "      <th>total_charges</th>\n",
       "      <th>monthly_charges_scaled</th>\n",
       "    </tr>\n",
       "    <tr>\n",
       "      <th>customer_id</th>\n",
       "      <th></th>\n",
       "      <th></th>\n",
       "      <th></th>\n",
       "      <th></th>\n",
       "    </tr>\n",
       "  </thead>\n",
       "  <tbody>\n",
       "    <tr>\n",
       "      <th>7501-IWUNG</th>\n",
       "      <td>73.80</td>\n",
       "      <td>61</td>\n",
       "      <td>4616.05</td>\n",
       "      <td>0.552618</td>\n",
       "    </tr>\n",
       "    <tr>\n",
       "      <th>1303-SRDOK</th>\n",
       "      <td>69.05</td>\n",
       "      <td>55</td>\n",
       "      <td>3842.60</td>\n",
       "      <td>0.505237</td>\n",
       "    </tr>\n",
       "    <tr>\n",
       "      <th>3967-VQOGC</th>\n",
       "      <td>24.90</td>\n",
       "      <td>67</td>\n",
       "      <td>1680.25</td>\n",
       "      <td>0.064838</td>\n",
       "    </tr>\n",
       "    <tr>\n",
       "      <th>3777-XROBG</th>\n",
       "      <td>19.55</td>\n",
       "      <td>58</td>\n",
       "      <td>1079.65</td>\n",
       "      <td>0.011471</td>\n",
       "    </tr>\n",
       "    <tr>\n",
       "      <th>5075-JSDKI</th>\n",
       "      <td>24.45</td>\n",
       "      <td>59</td>\n",
       "      <td>1493.10</td>\n",
       "      <td>0.060349</td>\n",
       "    </tr>\n",
       "  </tbody>\n",
       "</table>\n",
       "</div>"
      ],
      "text/plain": [
       "             monthly_charges  tenure  total_charges  monthly_charges_scaled\n",
       "customer_id                                                                \n",
       "7501-IWUNG             73.80      61        4616.05                0.552618\n",
       "1303-SRDOK             69.05      55        3842.60                0.505237\n",
       "3967-VQOGC             24.90      67        1680.25                0.064838\n",
       "3777-XROBG             19.55      58        1079.65                0.011471\n",
       "5075-JSDKI             24.45      59        1493.10                0.060349"
      ]
     },
     "execution_count": 16,
     "metadata": {},
     "output_type": "execute_result"
    }
   ],
   "source": [
    "#you can make a new 'scaled' column in original dataframe if you wish\n",
    "train['monthly_charges_scaled']  = scaled\n",
    "train.head()"
   ]
  },
  {
   "cell_type": "code",
   "execution_count": 17,
   "metadata": {},
   "outputs": [
    {
     "data": {
      "text/plain": [
       "<matplotlib.collections.PathCollection at 0x7fb2adca1c70>"
      ]
     },
     "execution_count": 17,
     "metadata": {},
     "output_type": "execute_result"
    },
    {
     "data": {
      "image/png": "[encoded data removed]",
      "text/plain": [
       "<Figure size 576x396 with 1 Axes>"
      ]
     },
     "metadata": {
      "needs_background": "light"
     },
     "output_type": "display_data"
    }
   ],
   "source": [
    "plt.scatter(train.monthly_charges, scaled)\n"
   ]
  },
  {
   "cell_type": "code",
   "execution_count": 18,
   "metadata": {},
   "outputs": [
    {
     "data": {
      "image/png": "[encoded data removed]",
      "text/plain": [
       "<Figure size 864x432 with 3 Axes>"
      ]
     },
     "metadata": {
      "needs_background": "light"
     },
     "output_type": "display_data"
    }
   ],
   "source": [
    "#Ravinders way to show differnt kinds of plots put togehter\n",
    "fig = plt.figure(figsize = (12,6))\n",
    "\n",
    "gs = plt.GridSpec(2,2)\n",
    "\n",
    "ax1 = fig.add_subplot(gs[0, :])\n",
    "ax2 = fig.add_subplot(gs[1,0])\n",
    "ax3 = fig.add_subplot(gs[1,1])\n",
    "\n",
    "ax1.scatter(train.monthly_charges, scaled)\n",
    "ax1.set(xlabel = 'monthly_charges', ylabel = 'Scaled_monthly_charges', title = 'Min-Max Scaler')\n",
    "\n",
    "ax2.hist(train.monthly_charges)\n",
    "ax2.set(title = 'Original')\n",
    "\n",
    "ax3.hist(scaled)\n",
    "ax3.set(title = 'Scaled')\n",
    "plt.tight_layout();\n"
   ]
  },
  {
   "cell_type": "code",
   "execution_count": 19,
   "metadata": {},
   "outputs": [],
   "source": [
    "#function for the cool visualization\n",
    "def visualize_scaled_date(scaler, scaler_name, feature):\n",
    "    scaled = scaler.fit_transform(train[[feature]])\n",
    "    fig = plt.figure(figsize = (12,6))\n",
    "\n",
    "    gs = plt.GridSpec(2,2)\n",
    "\n",
    "    ax1 = fig.add_subplot(gs[0, :])\n",
    "    ax2 = fig.add_subplot(gs[1,0])\n",
    "    ax3 = fig.add_subplot(gs[1,1])\n",
    "\n",
    "    ax1.scatter(train[[feature]], scaled)\n",
    "    ax1.set(xlabel = feature, ylabel = 'Scaled_' + feature, title = scaler_name)\n",
    "\n",
    "    ax2.hist(train[[feature]])\n",
    "    ax2.set(title = 'Original')\n",
    "\n",
    "    ax3.hist(scaled)\n",
    "    ax3.set(title = 'Scaled')\n",
    "    plt.tight_layout();"
   ]
  },
  {
   "cell_type": "code",
   "execution_count": 20,
   "metadata": {},
   "outputs": [
    {
     "data": {
      "image/png": "[encoded data removed]",
      "text/plain": [
       "<Figure size 864x432 with 3 Axes>"
      ]
     },
     "metadata": {
      "needs_background": "light"
     },
     "output_type": "display_data"
    }
   ],
   "source": [
    "visualize_scaled_date(sklearn.preprocessing.MinMaxScaler(), 'Min Max Scaler', 'monthly_charges')\n"
   ]
  },
  {
   "cell_type": "code",
   "execution_count": 21,
   "metadata": {},
   "outputs": [
    {
     "data": {
      "image/png": "[encoded data removed]",
      "text/plain": [
       "<Figure size 864x432 with 3 Axes>"
      ]
     },
     "metadata": {
      "needs_background": "light"
     },
     "output_type": "display_data"
    }
   ],
   "source": [
    "visualize_scaled_date(sklearn.preprocessing.MinMaxScaler(), 'Min Max Scaler', 'tenure')\n"
   ]
  },
  {
   "cell_type": "code",
   "execution_count": 22,
   "metadata": {},
   "outputs": [
    {
     "data": {
      "image/png": "[encoded data removed]",
      "text/plain": [
       "<Figure size 864x432 with 3 Axes>"
      ]
     },
     "metadata": {
      "needs_background": "light"
     },
     "output_type": "display_data"
    }
   ],
   "source": [
    "visualize_scaled_date(sklearn.preprocessing.StandardScaler(), 'Standard Scaler', 'monthly_charges')\n"
   ]
  },
  {
   "cell_type": "code",
   "execution_count": 23,
   "metadata": {},
   "outputs": [
    {
     "data": {
      "image/png": "[encoded data removed]",
      "text/plain": [
       "<Figure size 864x432 with 3 Axes>"
      ]
     },
     "metadata": {
      "needs_background": "light"
     },
     "output_type": "display_data"
    }
   ],
   "source": [
    "visualize_scaled_date(sklearn.preprocessing.StandardScaler(), 'Standard Scaler', 'tenure')\n"
   ]
  },
  {
   "cell_type": "code",
   "execution_count": 24,
   "metadata": {},
   "outputs": [
    {
     "data": {
      "image/png": "[encoded data removed]",
      "text/plain": [
       "<Figure size 864x432 with 3 Axes>"
      ]
     },
     "metadata": {
      "needs_background": "light"
     },
     "output_type": "display_data"
    }
   ],
   "source": [
    "visualize_scaled_date(sklearn.preprocessing.RobustScaler(), 'Standard Scaler', 'monthly_charges')\n"
   ]
  },
  {
   "cell_type": "markdown",
   "metadata": {},
   "source": [
    "### Min-Max Scaling"
   ]
  },
  {
   "cell_type": "code",
   "execution_count": null,
   "metadata": {},
   "outputs": [],
   "source": [
    "plt.figure(figsize=(14, 11))\n",
    "plt.suptitle('Scaled Vs Not Scaled')\n",
    "\n",
    "#scaled\n",
    "plt.subplot(231)\n",
    "sns.histplot(data=train_scaled, x='monthly_charges')\n",
    "plt.title('Scaled Monthly Charges')\n",
    "\n",
    "plt.subplot(232)\n",
    "sns.histplot(data=train_scaled, x='tenure')\n",
    "plt.title('Scaled Tenure')\n",
    "\n",
    "plt.subplot(233)\n",
    "sns.histplot(data=train_scaled, x='total_charges')\n",
    "plt.title('Scaled Total Charges')\n",
    "\n",
    "#not scaled\n",
    "plt.subplot(234)\n",
    "sns.histplot(data=train, x='monthly_charges')\n",
    "plt.title('Not Scaled Monthly Charges')\n",
    "\n",
    "plt.subplot(235)\n",
    "sns.histplot(data=train, x='tenure')\n",
    "plt.title('Not Scaled Tenure')\n",
    "\n",
    "plt.subplot(236)\n",
    "sns.histplot(data=train, x='total_charges')\n",
    "plt.title('Not Scaled Total Charges')\n",
    "\n",
    "plt.subplots_adjust(hspace=0.4)"
   ]
  },
  {
   "cell_type": "markdown",
   "metadata": {},
   "source": [
    "### Standard Scaler"
   ]
  },
  {
   "cell_type": "code",
   "execution_count": null,
   "metadata": {},
   "outputs": [],
   "source": [
    "train2, validate2, test2 = wrangle.wrangle_telco()"
   ]
  },
  {
   "cell_type": "code",
   "execution_count": null,
   "metadata": {},
   "outputs": [],
   "source": [
    "#make the thing\n",
    "scaler = sklearn.preprocessing.StandardScaler()\n",
    "#We fit on the training data\n",
    "#in a way, we treat our scalers like our ML models\n",
    "# we onlu .fit on training data\n",
    "scaler.fit(train2)\n"
   ]
  },
  {
   "cell_type": "code",
   "execution_count": null,
   "metadata": {},
   "outputs": [],
   "source": [
    "train2_scaled = scaler.transform(train2)\n",
    "validate2_scaled = scaler.transform(validate2)\n",
    "test2_scaled = scaler.transform(test2)"
   ]
  },
  {
   "cell_type": "code",
   "execution_count": null,
   "metadata": {},
   "outputs": [],
   "source": [
    "train2_scaled[0:5]"
   ]
  },
  {
   "cell_type": "code",
   "execution_count": null,
   "metadata": {},
   "outputs": [],
   "source": [
    "#turn the numpy arrays into dataframes\n",
    "train2_scaled = pd.DataFrame(train2_scaled, columns=train2.columns)\n",
    "validate2_scaled = pd.DataFrame(validate2_scaled, columns=train2.columns)\n",
    "test2_scaled = pd.DataFrame(test2_scaled, columns=train2.columns)"
   ]
  },
  {
   "cell_type": "code",
   "execution_count": null,
   "metadata": {},
   "outputs": [],
   "source": [
    "#plot the things\n",
    "\n",
    "plt.figure(figsize=(14, 11))\n",
    "plt.suptitle('Standard Scaled Vs Not Scaled')\n",
    "\n",
    "#scaled\n",
    "plt.subplot(231)\n",
    "sns.histplot(data=train2_scaled, x='monthly_charges')\n",
    "plt.title('Scaled Monthly Charges')\n",
    "\n",
    "plt.subplot(232)\n",
    "sns.histplot(data=train2_scaled, x='tenure')\n",
    "plt.title('Scaled Tenure')\n",
    "\n",
    "plt.subplot(233)\n",
    "sns.histplot(data=train2_scaled, x='total_charges')\n",
    "plt.title('Scaled Total Charges')\n",
    "\n",
    "#not scaled\n",
    "plt.subplot(234)\n",
    "sns.histplot(data=train2, x='monthly_charges')\n",
    "plt.title('Not Scaled Monthly Charges')\n",
    "\n",
    "plt.subplot(235)\n",
    "sns.histplot(data=train2, x='tenure')\n",
    "plt.title('Not Scaled Tenure')\n",
    "\n",
    "plt.subplot(236)\n",
    "sns.histplot(data=train2, x='total_charges')\n",
    "plt.title('Not Scaled Total Charges')\n",
    "\n",
    "plt.subplots_adjust(hspace=0.4)"
   ]
  },
  {
   "cell_type": "markdown",
   "metadata": {},
   "source": [
    "#### The only aspect that changes is the scale, not the structure."
   ]
  },
  {
   "cell_type": "markdown",
   "metadata": {},
   "source": [
    "### Robust Scaler"
   ]
  },
  {
   "cell_type": "code",
   "execution_count": null,
   "metadata": {},
   "outputs": [],
   "source": [
    "train3, validate3, test3 = wrangle.wrangle_telco()\n"
   ]
  },
  {
   "cell_type": "code",
   "execution_count": null,
   "metadata": {},
   "outputs": [],
   "source": [
    "#make the thing\n",
    "scaler = sklearn.preprocessing.StandardScaler()\n",
    "#We fit on the training data\n",
    "#in a way, we treat our scalers like our ML models\n",
    "# we onlu .fit on training data\n",
    "scaler.fit(train3)\n"
   ]
  },
  {
   "cell_type": "code",
   "execution_count": null,
   "metadata": {},
   "outputs": [],
   "source": [
    "train3_scaled = scaler.transform(train3)\n",
    "validate3_scaled = scaler.transform(validate3)\n",
    "test3_scaled = scaler.transform(test3)"
   ]
  },
  {
   "cell_type": "code",
   "execution_count": null,
   "metadata": {},
   "outputs": [],
   "source": [
    "train3_scaled[0:5]"
   ]
  },
  {
   "cell_type": "code",
   "execution_count": null,
   "metadata": {},
   "outputs": [],
   "source": [
    "#turn the numpy arrays into dataframes\n",
    "train3_scaled = pd.DataFrame(train3_scaled, columns=train2.columns)\n",
    "validate3_scaled = pd.DataFrame(validate3_scaled, columns=train2.columns)\n",
    "test3_scaled = pd.DataFrame(test3_scaled, columns=train2.columns)"
   ]
  },
  {
   "cell_type": "code",
   "execution_count": null,
   "metadata": {},
   "outputs": [],
   "source": [
    "#plot the things\n",
    "\n",
    "\n",
    "plt.figure(figsize=(14, 11))\n",
    "plt.suptitle('Robust Scaled Vs Not Scaled')\n",
    "\n",
    "#scaled\n",
    "plt.subplot(231)\n",
    "sns.histplot(data=train3_scaled, x='monthly_charges')\n",
    "plt.title('Scaled Monthly Charges')\n",
    "\n",
    "plt.subplot(232)\n",
    "sns.histplot(data=train3_scaled, x='tenure')\n",
    "plt.title('Scaled Tenure')\n",
    "\n",
    "plt.subplot(233)\n",
    "sns.histplot(data=train3_scaled, x='total_charges')\n",
    "plt.title('Scaled Total Charges')\n",
    "\n",
    "#not scaled\n",
    "plt.subplot(234)\n",
    "sns.histplot(data=train3, x='monthly_charges')\n",
    "plt.title('Not Scaled Monthly Charges')\n",
    "\n",
    "plt.subplot(235)\n",
    "sns.histplot(data=train3, x='tenure')\n",
    "plt.title('Not Scaled Tenure')\n",
    "\n",
    "plt.subplot(236)\n",
    "sns.histplot(data=train3, x='total_charges')\n",
    "plt.title('Not Scaled Total Charges')\n",
    "\n",
    "plt.subplots_adjust(hspace=0.4)"
   ]
  },
  {
   "cell_type": "markdown",
   "metadata": {},
   "source": [
    "### 2. Apply the .inverse_transform method to your scaled data. Is the resulting dataset the exact same as the original data?"
   ]
  },
  {
   "cell_type": "code",
   "execution_count": null,
   "metadata": {},
   "outputs": [],
   "source": [
    "train4, validate4, test4 = wrangle.wrangle_telco()"
   ]
  },
  {
   "cell_type": "code",
   "execution_count": null,
   "metadata": {},
   "outputs": [],
   "source": [
    "#make the thing\n",
    "scaler = sklearn.preprocessing.StandardScaler()\n",
    "#We fit on the training data\n",
    "#in a way, we treat our scalers like our ML models\n",
    "# we onlu .fit on training data\n",
    "scaler.fit(train4)"
   ]
  },
  {
   "cell_type": "markdown",
   "metadata": {},
   "source": [
    "### .inverse_transform"
   ]
  },
  {
   "cell_type": "code",
   "execution_count": null,
   "metadata": {},
   "outputs": [],
   "source": [
    "train4_scaled = scaler.inverse_transform(train4)\n",
    "validate4_scaled = scaler.inverse_transform(validate4)\n",
    "test4_scaled = scaler.inverse_transform(test4)"
   ]
  },
  {
   "cell_type": "code",
   "execution_count": null,
   "metadata": {},
   "outputs": [],
   "source": [
    "train4_scaled[0:5]"
   ]
  },
  {
   "cell_type": "code",
   "execution_count": null,
   "metadata": {},
   "outputs": [],
   "source": [
    "#turn the numpy arrays into dataframes\n",
    "train4_inverse = pd.DataFrame(train3_scaled, columns=train2.columns)\n",
    "validate4_inverse = pd.DataFrame(validate3_scaled, columns=train2.columns)\n",
    "test4_inverse = pd.DataFrame(test3_scaled, columns=train2.columns)"
   ]
  },
  {
   "cell_type": "code",
   "execution_count": null,
   "metadata": {},
   "outputs": [],
   "source": [
    "#plot the things\n",
    "\n",
    "\n",
    "plt.figure(figsize=(14, 11))\n",
    "plt.suptitle('Inverse Scaled Vs Scaled')\n",
    "\n",
    "#scaled\n",
    "plt.subplot(231)\n",
    "sns.histplot(data=train4_inverse, x='monthly_charges')\n",
    "plt.title('Inverse Scaled Monthly Charges')\n",
    "\n",
    "plt.subplot(232)\n",
    "sns.histplot(data=train4_inverse, x='tenure')\n",
    "plt.title('Inverse Scaled Tenure')\n",
    "\n",
    "plt.subplot(233)\n",
    "sns.histplot(data=train4_inverse, x='total_charges')\n",
    "plt.title('Inverse Scaled Total Charges')\n",
    "\n",
    "#not scaled\n",
    "plt.subplot(234)\n",
    "sns.histplot(data=train3_scaled, x='monthly_charges')\n",
    "plt.title('Scaled Monthly Charges')\n",
    "\n",
    "plt.subplot(235)\n",
    "sns.histplot(data=train3_scaled, x='tenure')\n",
    "plt.title('Scaled Tenure')\n",
    "\n",
    "plt.subplot(236)\n",
    "sns.histplot(data=train3_scaled, x='total_charges')\n",
    "plt.title('Scaled Total Charges')\n",
    "\n",
    "plt.subplots_adjust(hspace=0.4)"
   ]
  },
  {
   "cell_type": "code",
   "execution_count": 25,
   "metadata": {},
   "outputs": [
    {
     "data": {
      "text/html": [
       "<div>\n",
       "<style scoped>\n",
       "    .dataframe tbody tr th:only-of-type {\n",
       "        vertical-align: middle;\n",
       "    }\n",
       "\n",
       "    .dataframe tbody tr th {\n",
       "        vertical-align: top;\n",
       "    }\n",
       "\n",
       "    .dataframe thead th {\n",
       "        text-align: right;\n",
       "    }\n",
       "</style>\n",
       "<table border=\"1\" class=\"dataframe\">\n",
       "  <thead>\n",
       "    <tr style=\"text-align: right;\">\n",
       "      <th></th>\n",
       "      <th>monthly_charges</th>\n",
       "      <th>tenure</th>\n",
       "      <th>total_charges</th>\n",
       "      <th>monthly_charges_scaled</th>\n",
       "    </tr>\n",
       "    <tr>\n",
       "      <th>customer_id</th>\n",
       "      <th></th>\n",
       "      <th></th>\n",
       "      <th></th>\n",
       "      <th></th>\n",
       "    </tr>\n",
       "  </thead>\n",
       "  <tbody>\n",
       "    <tr>\n",
       "      <th>7501-IWUNG</th>\n",
       "      <td>73.80</td>\n",
       "      <td>61</td>\n",
       "      <td>4616.05</td>\n",
       "      <td>0.552618</td>\n",
       "    </tr>\n",
       "    <tr>\n",
       "      <th>1303-SRDOK</th>\n",
       "      <td>69.05</td>\n",
       "      <td>55</td>\n",
       "      <td>3842.60</td>\n",
       "      <td>0.505237</td>\n",
       "    </tr>\n",
       "    <tr>\n",
       "      <th>3967-VQOGC</th>\n",
       "      <td>24.90</td>\n",
       "      <td>67</td>\n",
       "      <td>1680.25</td>\n",
       "      <td>0.064838</td>\n",
       "    </tr>\n",
       "    <tr>\n",
       "      <th>3777-XROBG</th>\n",
       "      <td>19.55</td>\n",
       "      <td>58</td>\n",
       "      <td>1079.65</td>\n",
       "      <td>0.011471</td>\n",
       "    </tr>\n",
       "    <tr>\n",
       "      <th>5075-JSDKI</th>\n",
       "      <td>24.45</td>\n",
       "      <td>59</td>\n",
       "      <td>1493.10</td>\n",
       "      <td>0.060349</td>\n",
       "    </tr>\n",
       "  </tbody>\n",
       "</table>\n",
       "</div>"
      ],
      "text/plain": [
       "             monthly_charges  tenure  total_charges  monthly_charges_scaled\n",
       "customer_id                                                                \n",
       "7501-IWUNG             73.80      61        4616.05                0.552618\n",
       "1303-SRDOK             69.05      55        3842.60                0.505237\n",
       "3967-VQOGC             24.90      67        1680.25                0.064838\n",
       "3777-XROBG             19.55      58        1079.65                0.011471\n",
       "5075-JSDKI             24.45      59        1493.10                0.060349"
      ]
     },
     "execution_count": 25,
     "metadata": {},
     "output_type": "execute_result"
    }
   ],
   "source": [
    "#review\n",
    "\n",
    "train.head()"
   ]
  },
  {
   "cell_type": "code",
   "execution_count": 26,
   "metadata": {},
   "outputs": [
    {
     "data": {
      "text/plain": [
       "array([[0.55261845, 0.84722222],\n",
       "       [0.50523691, 0.76388889],\n",
       "       [0.06483791, 0.93055556],\n",
       "       ...,\n",
       "       [0.06683292, 1.        ],\n",
       "       [0.90024938, 0.63888889],\n",
       "       [0.01546135, 0.52777778]])"
      ]
     },
     "execution_count": 26,
     "metadata": {},
     "output_type": "execute_result"
    }
   ],
   "source": [
    "scaler = sklearn.preprocessing.MinMaxScaler()\n",
    "\n",
    "scaled = scaler.fit_transform(train[['monthly_charges', 'tenure']])\n",
    "scaled"
   ]
  },
  {
   "cell_type": "code",
   "execution_count": 27,
   "metadata": {},
   "outputs": [],
   "source": [
    "scaled_df = pd.DataFrame(scaled, index = train.index, columns = ['monthly_charges', 'tenure'])\n"
   ]
  },
  {
   "cell_type": "code",
   "execution_count": 28,
   "metadata": {},
   "outputs": [
    {
     "data": {
      "text/plain": [
       "array([[ 73.8 ,  61.  ],\n",
       "       [ 69.05,  55.  ],\n",
       "       [ 24.9 ,  67.  ],\n",
       "       ...,\n",
       "       [ 25.1 ,  72.  ],\n",
       "       [108.65,  46.  ],\n",
       "       [ 19.95,  38.  ]])"
      ]
     },
     "execution_count": 28,
     "metadata": {},
     "output_type": "execute_result"
    }
   ],
   "source": [
    "scaler.inverse_transform(scaled_df)\n"
   ]
  },
  {
   "cell_type": "code",
   "execution_count": 29,
   "metadata": {},
   "outputs": [],
   "source": [
    "scaled_df = pd.DataFrame(scaler.inverse_transform(scaled), index = train.index, columns = ['monthly_charges', 'tenure'])\n"
   ]
  },
  {
   "cell_type": "markdown",
   "metadata": {},
   "source": [
    "### 3. Read the documentation for sklearn's QuantileTransformer. Use normal for the output_distribution and apply this scaler to your data. Visualize the result of your data scaling."
   ]
  },
  {
   "cell_type": "code",
   "execution_count": 30,
   "metadata": {},
   "outputs": [
    {
     "name": "stderr",
     "output_type": "stream",
     "text": [
      "/usr/local/anaconda3/lib/python3.8/site-packages/sklearn/preprocessing/_data.py:2367: UserWarning: n_quantiles (1000) is greater than the total number of samples (949). n_quantiles is set to n_samples.\n",
      "  warnings.warn(\"n_quantiles (%s) is greater than the total number \"\n"
     ]
    },
    {
     "data": {
      "image/png": "[encoded data removed]",
      "text/plain": [
       "<Figure size 864x432 with 3 Axes>"
      ]
     },
     "metadata": {
      "needs_background": "light"
     },
     "output_type": "display_data"
    }
   ],
   "source": [
    "visualize_scaled_date(sklearn.preprocessing.QuantileTransformer(output_distribution='normal'), 'Quantile Scaler', 'monthly_charges')\n"
   ]
  },
  {
   "cell_type": "code",
   "execution_count": 31,
   "metadata": {},
   "outputs": [
    {
     "name": "stderr",
     "output_type": "stream",
     "text": [
      "/usr/local/anaconda3/lib/python3.8/site-packages/sklearn/preprocessing/_data.py:2367: UserWarning: n_quantiles (1000) is greater than the total number of samples (949). n_quantiles is set to n_samples.\n",
      "  warnings.warn(\"n_quantiles (%s) is greater than the total number \"\n"
     ]
    },
    {
     "data": {
      "image/png": "[encoded data removed]",
      "text/plain": [
       "<Figure size 864x432 with 3 Axes>"
      ]
     },
     "metadata": {
      "needs_background": "light"
     },
     "output_type": "display_data"
    }
   ],
   "source": [
    "#take off normal\n",
    "\n",
    "visualize_scaled_date(sklearn.preprocessing.QuantileTransformer(), 'Quantile Scaler', 'monthly_charges')\n"
   ]
  },
  {
   "cell_type": "code",
   "execution_count": 32,
   "metadata": {},
   "outputs": [
    {
     "name": "stderr",
     "output_type": "stream",
     "text": [
      "/usr/local/anaconda3/lib/python3.8/site-packages/sklearn/preprocessing/_data.py:2367: UserWarning: n_quantiles (1000) is greater than the total number of samples (949). n_quantiles is set to n_samples.\n",
      "  warnings.warn(\"n_quantiles (%s) is greater than the total number \"\n"
     ]
    },
    {
     "data": {
      "image/png": "[encoded data removed]",
      "text/plain": [
       "<Figure size 864x432 with 3 Axes>"
      ]
     },
     "metadata": {
      "needs_background": "light"
     },
     "output_type": "display_data"
    }
   ],
   "source": [
    "visualize_scaled_date(sklearn.preprocessing.QuantileTransformer(output_distribution='normal'), 'Quantile Scaler', 'tenure')\n"
   ]
  },
  {
   "cell_type": "markdown",
   "metadata": {},
   "source": [
    "### 4. Use the QuantileTransformer, but omit the output_distribution argument. Visualize your results. What do you notice?"
   ]
  },
  {
   "cell_type": "code",
   "execution_count": null,
   "metadata": {},
   "outputs": [],
   "source": [
    "# The scaled data turns into a big block"
   ]
  },
  {
   "cell_type": "markdown",
   "metadata": {},
   "source": [
    "### 5. Based on the work you've done, choose a scaling method for your dataset. Write a function within your prepare.py that accepts as input the train, validate, and test data splits, and returns the scaled versions of each. Be sure to only learn the parameters for scaling from your training data!"
   ]
  },
  {
   "cell_type": "code",
   "execution_count": 34,
   "metadata": {},
   "outputs": [],
   "source": [
    "def Standard_Scaler(X_train, X_validate, X_test):\n",
    "    \"\"\"\n",
    "    Takes in X_train, X_validate and X_test dfs with numeric values only\n",
    "    Returns scaler, X_train_scaled, X_validate_scaled, X_test_scaled dfs\n",
    "    \"\"\"\n",
    "\n",
    "    scaler = sklearn.preprocessing.StandardScaler().fit(X_train)\n",
    "    X_train_scaled = pd.DataFrame(scaler.transform(X_train), index = X_train.index, columns = X_train.columns)\n",
    "    X_validate_scaled = pd.DataFrame(scaler.transform(X_validate), index = X_validate.index, columns = X_validate.columns)\n",
    "    X_test_scaled = pd.DataFrame(scaler.transform(X_test), index = X_test.index, columns = X_test.columns)\n",
    "    \n",
    "    return scaler, X_train_scaled, X_validate_scaled, X_test_scaled"
   ]
  },
  {
   "cell_type": "code",
   "execution_count": 33,
   "metadata": {},
   "outputs": [],
   "source": [
    "def Min_Max_Scaler(X_train, X_validate, X_test):\n",
    "    \"\"\"\n",
    "    Takes in X_train, X_validate and X_test dfs with numeric values only\n",
    "    Returns scaler, X_train_scaled, X_validate_scaled, X_test_scaled dfs \n",
    "    \"\"\"\n",
    "    scaler = sklearn.preprocessing.MinMaxScaler().fit(X_train)\n",
    "    X_train_scaled = pd.DataFrame(scaler.transform(X_train), index = X_train.index, columns = X_train.columns)\n",
    "    X_validate_scaled = pd.DataFrame(scaler.transform(X_validate), index = X_validate.index, columns = X_validate.columns)\n",
    "    X_test_scaled = pd.DataFrame(scaler.transform(X_test), index = X_test.index, columns = X_test.columns)\n",
    "    \n",
    "    return scaler, X_train_scaled, X_validate_scaled, X_test_scaled"
   ]
  },
  {
   "cell_type": "code",
   "execution_count": 35,
   "metadata": {},
   "outputs": [],
   "source": [
    "X_train = train[['monthly_charges', 'tenure']]\n",
    "X_validate = test[['monthly_charges', 'tenure']]\n",
    "X_test = test[['monthly_charges', 'tenure']]"
   ]
  },
  {
   "cell_type": "code",
   "execution_count": 36,
   "metadata": {},
   "outputs": [
    {
     "data": {
      "text/html": [
       "<div>\n",
       "<style scoped>\n",
       "    .dataframe tbody tr th:only-of-type {\n",
       "        vertical-align: middle;\n",
       "    }\n",
       "\n",
       "    .dataframe tbody tr th {\n",
       "        vertical-align: top;\n",
       "    }\n",
       "\n",
       "    .dataframe thead th {\n",
       "        text-align: right;\n",
       "    }\n",
       "</style>\n",
       "<table border=\"1\" class=\"dataframe\">\n",
       "  <thead>\n",
       "    <tr style=\"text-align: right;\">\n",
       "      <th></th>\n",
       "      <th>monthly_charges</th>\n",
       "      <th>tenure</th>\n",
       "    </tr>\n",
       "    <tr>\n",
       "      <th>customer_id</th>\n",
       "      <th></th>\n",
       "      <th></th>\n",
       "    </tr>\n",
       "  </thead>\n",
       "  <tbody>\n",
       "    <tr>\n",
       "      <th>7501-IWUNG</th>\n",
       "      <td>0.361757</td>\n",
       "      <td>0.245562</td>\n",
       "    </tr>\n",
       "    <tr>\n",
       "      <th>1303-SRDOK</th>\n",
       "      <td>0.225110</td>\n",
       "      <td>-0.081509</td>\n",
       "    </tr>\n",
       "    <tr>\n",
       "      <th>3967-VQOGC</th>\n",
       "      <td>-1.044987</td>\n",
       "      <td>0.572634</td>\n",
       "    </tr>\n",
       "    <tr>\n",
       "      <th>3777-XROBG</th>\n",
       "      <td>-1.198894</td>\n",
       "      <td>0.082026</td>\n",
       "    </tr>\n",
       "    <tr>\n",
       "      <th>5075-JSDKI</th>\n",
       "      <td>-1.057932</td>\n",
       "      <td>0.136538</td>\n",
       "    </tr>\n",
       "  </tbody>\n",
       "</table>\n",
       "</div>"
      ],
      "text/plain": [
       "             monthly_charges    tenure\n",
       "customer_id                           \n",
       "7501-IWUNG          0.361757  0.245562\n",
       "1303-SRDOK          0.225110 -0.081509\n",
       "3967-VQOGC         -1.044987  0.572634\n",
       "3777-XROBG         -1.198894  0.082026\n",
       "5075-JSDKI         -1.057932  0.136538"
      ]
     },
     "execution_count": 36,
     "metadata": {},
     "output_type": "execute_result"
    }
   ],
   "source": [
    "# Use the Standard_Scaler Function defined above\n",
    "\n",
    "scaler, X_train_scaled, X_validate_scaled, X_test_scaled = Standard_Scaler(X_train, X_validate, X_test)\n",
    "\n",
    "X_train_scaled.head()"
   ]
  }
 ],
 "metadata": {
  "kernelspec": {
   "display_name": "Python 3",
   "language": "python",
   "name": "python3"
  },
  "language_info": {
   "codemirror_mode": {
    "name": "ipython",
    "version": 3
   },
   "file_extension": ".py",
   "mimetype": "text/x-python",
   "name": "python",
   "nbconvert_exporter": "python",
   "pygments_lexer": "ipython3",
   "version": "3.8.5"
  }
 },
 "nbformat": 4,
 "nbformat_minor": 4
}
