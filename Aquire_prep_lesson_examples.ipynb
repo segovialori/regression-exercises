{
 "cells": [
  {
   "cell_type": "markdown",
   "metadata": {},
   "source": [
    "# Acquire and Prep"
   ]
  },
  {
   "cell_type": "markdown",
   "metadata": {},
   "source": [
    "#### When we say \"wrangle\" we are referring to a combination of two steps of the pipeline that we are now familiarlized with:  Acquisition and Preparation.  Wrangling is the act of obtaining our data and ensuring that is ready for analysis and modeling."
   ]
  },
  {
   "cell_type": "markdown",
   "metadata": {},
   "source": [
    "### I am a university teacher, and I want to know when to worry about a student's progress. I want to be able to work with any students who are a high risk of failing the class, so that I can try to prevent that from happening. I have the grades of the three exams and the final grade from last semester's class. I am hoping I can build a prediction model that would be able to use those exams to predict the final grade +/- 5 points per student."
   ]
  },
  {
   "cell_type": "code",
   "execution_count": 1,
   "metadata": {},
   "outputs": [],
   "source": [
    "#hide warnings\n",
    "import warnings\n",
    "warnings.filterwarnings(\"ignore\")\n",
    "\n",
    "#imports to acquire and clean data\n",
    "import pandas as pd\n",
    "import numpy as np\n",
    "\n",
    "\n",
    "#imports to visualize data\n",
    "import matplotlib.pyplot as plt\n",
    "import seaborn as sns\n"
   ]
  },
  {
   "cell_type": "code",
   "execution_count": null,
   "metadata": {},
   "outputs": [],
   "source": [
    "#copied data from lesson to be read from clipboard to make into df\n",
    "#only copied first 5 rows just to run through the examples\n",
    " student_id exam1 exam2 exam3 final_grade\n",
    "0 1 100.0 90 95 96\n",
    "1 2 98.0 93 96 95\n",
    "2 3 85.0 83 87 87\n",
    "3 4 83.0 80 86 85\n",
    "4 5 93.0 90 96 97\n"
   ]
  },
  {
   "cell_type": "code",
   "execution_count": 7,
   "metadata": {},
   "outputs": [],
   "source": [
    "#turned clipboard data into dataframe\n",
    "df = pd.read_csv(\"student_grades.csv\")"
   ]
  },
  {
   "cell_type": "markdown",
   "metadata": {},
   "source": [
    "## Sample and Summarize"
   ]
  },
  {
   "cell_type": "code",
   "execution_count": 8,
   "metadata": {},
   "outputs": [
    {
     "data": {
      "text/html": [
       "<div>\n",
       "<style scoped>\n",
       "    .dataframe tbody tr th:only-of-type {\n",
       "        vertical-align: middle;\n",
       "    }\n",
       "\n",
       "    .dataframe tbody tr th {\n",
       "        vertical-align: top;\n",
       "    }\n",
       "\n",
       "    .dataframe thead th {\n",
       "        text-align: right;\n",
       "    }\n",
       "</style>\n",
       "<table border=\"1\" class=\"dataframe\">\n",
       "  <thead>\n",
       "    <tr style=\"text-align: right;\">\n",
       "      <th></th>\n",
       "      <th>student_id</th>\n",
       "      <th>exam1</th>\n",
       "      <th>exam2</th>\n",
       "      <th>exam3</th>\n",
       "      <th>final_grade</th>\n",
       "    </tr>\n",
       "  </thead>\n",
       "  <tbody>\n",
       "    <tr>\n",
       "      <th>0</th>\n",
       "      <td>1</td>\n",
       "      <td>100.0</td>\n",
       "      <td>90</td>\n",
       "      <td>95</td>\n",
       "      <td>96</td>\n",
       "    </tr>\n",
       "    <tr>\n",
       "      <th>1</th>\n",
       "      <td>2</td>\n",
       "      <td>98.0</td>\n",
       "      <td>93</td>\n",
       "      <td>96</td>\n",
       "      <td>95</td>\n",
       "    </tr>\n",
       "    <tr>\n",
       "      <th>2</th>\n",
       "      <td>3</td>\n",
       "      <td>85.0</td>\n",
       "      <td>83</td>\n",
       "      <td>87</td>\n",
       "      <td>87</td>\n",
       "    </tr>\n",
       "    <tr>\n",
       "      <th>3</th>\n",
       "      <td>4</td>\n",
       "      <td>83.0</td>\n",
       "      <td>80</td>\n",
       "      <td>86</td>\n",
       "      <td>85</td>\n",
       "    </tr>\n",
       "    <tr>\n",
       "      <th>4</th>\n",
       "      <td>5</td>\n",
       "      <td>93.0</td>\n",
       "      <td>90</td>\n",
       "      <td>96</td>\n",
       "      <td>97</td>\n",
       "    </tr>\n",
       "  </tbody>\n",
       "</table>\n",
       "</div>"
      ],
      "text/plain": [
       "   student_id  exam1  exam2 exam3  final_grade\n",
       "0           1  100.0     90    95           96\n",
       "1           2   98.0     93    96           95\n",
       "2           3   85.0     83    87           87\n",
       "3           4   83.0     80    86           85\n",
       "4           5   93.0     90    96           97"
      ]
     },
     "execution_count": 8,
     "metadata": {},
     "output_type": "execute_result"
    }
   ],
   "source": [
    "df.head()"
   ]
  },
  {
   "cell_type": "code",
   "execution_count": 9,
   "metadata": {},
   "outputs": [
    {
     "data": {
      "text/plain": [
       "(104, 5)"
      ]
     },
     "execution_count": 9,
     "metadata": {},
     "output_type": "execute_result"
    }
   ],
   "source": [
    "df.shape"
   ]
  },
  {
   "cell_type": "code",
   "execution_count": 10,
   "metadata": {},
   "outputs": [
    {
     "data": {
      "text/html": [
       "<div>\n",
       "<style scoped>\n",
       "    .dataframe tbody tr th:only-of-type {\n",
       "        vertical-align: middle;\n",
       "    }\n",
       "\n",
       "    .dataframe tbody tr th {\n",
       "        vertical-align: top;\n",
       "    }\n",
       "\n",
       "    .dataframe thead th {\n",
       "        text-align: right;\n",
       "    }\n",
       "</style>\n",
       "<table border=\"1\" class=\"dataframe\">\n",
       "  <thead>\n",
       "    <tr style=\"text-align: right;\">\n",
       "      <th></th>\n",
       "      <th>student_id</th>\n",
       "      <th>exam1</th>\n",
       "      <th>exam2</th>\n",
       "      <th>final_grade</th>\n",
       "    </tr>\n",
       "  </thead>\n",
       "  <tbody>\n",
       "    <tr>\n",
       "      <th>count</th>\n",
       "      <td>104.000000</td>\n",
       "      <td>103.000000</td>\n",
       "      <td>104.000000</td>\n",
       "      <td>104.000000</td>\n",
       "    </tr>\n",
       "    <tr>\n",
       "      <th>mean</th>\n",
       "      <td>52.500000</td>\n",
       "      <td>78.621359</td>\n",
       "      <td>77.307692</td>\n",
       "      <td>81.692308</td>\n",
       "    </tr>\n",
       "    <tr>\n",
       "      <th>std</th>\n",
       "      <td>30.166206</td>\n",
       "      <td>14.260955</td>\n",
       "      <td>10.295703</td>\n",
       "      <td>10.918122</td>\n",
       "    </tr>\n",
       "    <tr>\n",
       "      <th>min</th>\n",
       "      <td>1.000000</td>\n",
       "      <td>57.000000</td>\n",
       "      <td>65.000000</td>\n",
       "      <td>65.000000</td>\n",
       "    </tr>\n",
       "    <tr>\n",
       "      <th>25%</th>\n",
       "      <td>26.750000</td>\n",
       "      <td>70.000000</td>\n",
       "      <td>70.000000</td>\n",
       "      <td>72.000000</td>\n",
       "    </tr>\n",
       "    <tr>\n",
       "      <th>50%</th>\n",
       "      <td>52.500000</td>\n",
       "      <td>79.000000</td>\n",
       "      <td>75.000000</td>\n",
       "      <td>81.000000</td>\n",
       "    </tr>\n",
       "    <tr>\n",
       "      <th>75%</th>\n",
       "      <td>78.250000</td>\n",
       "      <td>92.000000</td>\n",
       "      <td>89.000000</td>\n",
       "      <td>93.000000</td>\n",
       "    </tr>\n",
       "    <tr>\n",
       "      <th>max</th>\n",
       "      <td>104.000000</td>\n",
       "      <td>100.000000</td>\n",
       "      <td>93.000000</td>\n",
       "      <td>97.000000</td>\n",
       "    </tr>\n",
       "  </tbody>\n",
       "</table>\n",
       "</div>"
      ],
      "text/plain": [
       "       student_id       exam1       exam2  final_grade\n",
       "count  104.000000  103.000000  104.000000   104.000000\n",
       "mean    52.500000   78.621359   77.307692    81.692308\n",
       "std     30.166206   14.260955   10.295703    10.918122\n",
       "min      1.000000   57.000000   65.000000    65.000000\n",
       "25%     26.750000   70.000000   70.000000    72.000000\n",
       "50%     52.500000   79.000000   75.000000    81.000000\n",
       "75%     78.250000   92.000000   89.000000    93.000000\n",
       "max    104.000000  100.000000   93.000000    97.000000"
      ]
     },
     "execution_count": 10,
     "metadata": {},
     "output_type": "execute_result"
    }
   ],
   "source": [
    "df.describe()"
   ]
  },
  {
   "cell_type": "code",
   "execution_count": 11,
   "metadata": {},
   "outputs": [
    {
     "name": "stdout",
     "output_type": "stream",
     "text": [
      "<class 'pandas.core.frame.DataFrame'>\n",
      "RangeIndex: 104 entries, 0 to 103\n",
      "Data columns (total 5 columns):\n",
      " #   Column       Non-Null Count  Dtype  \n",
      "---  ------       --------------  -----  \n",
      " 0   student_id   104 non-null    int64  \n",
      " 1   exam1        103 non-null    float64\n",
      " 2   exam2        104 non-null    int64  \n",
      " 3   exam3        104 non-null    object \n",
      " 4   final_grade  104 non-null    int64  \n",
      "dtypes: float64(1), int64(3), object(1)\n",
      "memory usage: 4.2+ KB\n"
     ]
    }
   ],
   "source": [
    "df.info()"
   ]
  },
  {
   "cell_type": "markdown",
   "metadata": {},
   "source": [
    "<div class=\"alert alert-block alert-success\">\n",
    "<b>Takeaways:</b>\n",
    "<br>- exam 1 has 1 null value (RangeIndex-exam1)\n",
    "<br>- exam 1 should likely be type of int64 once the null value is addressed\n",
    "<br>- there is likely an odd value in exam 3, as it should be type of int64 but was read as an object value, so we need to locate that value\n",
    "<br>-  given that there are limited attributes and limited observations with missing values, dropping the observations with missing values is probably a good way to go here   \n",
    "</div>"
   ]
  },
  {
   "cell_type": "code",
   "execution_count": 19,
   "metadata": {},
   "outputs": [
    {
     "data": {
      "text/plain": [
       "96    16\n",
       "78    16\n",
       "75    15\n",
       "95     8\n",
       "94     8\n",
       "87     8\n",
       "86     8\n",
       "85     8\n",
       "70     8\n",
       "79     7\n",
       "Name: exam3, dtype: int64"
      ]
     },
     "execution_count": 19,
     "metadata": {},
     "output_type": "execute_result"
    }
   ],
   "source": [
    "df.exam3.value_counts()"
   ]
  },
  {
   "cell_type": "code",
   "execution_count": 12,
   "metadata": {},
   "outputs": [
    {
     "name": "stdout",
     "output_type": "stream",
     "text": [
      "student_id     0\n",
      "exam1          1\n",
      "exam2          0\n",
      "exam3          0\n",
      "final_grade    0\n",
      "dtype: int64\n"
     ]
    }
   ],
   "source": [
    "print(df.isnull().sum())"
   ]
  },
  {
   "cell_type": "code",
   "execution_count": 13,
   "metadata": {},
   "outputs": [
    {
     "name": "stdout",
     "output_type": "stream",
     "text": [
      "Index(['exam1'], dtype='object')\n"
     ]
    }
   ],
   "source": [
    "print(df.columns[df.isnull().any()])"
   ]
  },
  {
   "cell_type": "code",
   "execution_count": 14,
   "metadata": {},
   "outputs": [
    {
     "data": {
      "text/plain": [
       "       1\n",
       "94     8\n",
       "87     8\n",
       "86     8\n",
       "95     8\n",
       "79     8\n",
       "70     8\n",
       "85     8\n",
       "75    15\n",
       "96    16\n",
       "78    16\n",
       "Name: exam3, dtype: int64"
      ]
     },
     "execution_count": 14,
     "metadata": {},
     "output_type": "execute_result"
    }
   ],
   "source": [
    "df.exam3.value_counts(sort=True, ascending=True)"
   ]
  },
  {
   "cell_type": "code",
   "execution_count": 15,
   "metadata": {},
   "outputs": [],
   "source": [
    "df.replace(r'^\\s*$', np.nan, regex=True, inplace=True)"
   ]
  },
  {
   "cell_type": "code",
   "execution_count": 16,
   "metadata": {},
   "outputs": [
    {
     "name": "stdout",
     "output_type": "stream",
     "text": [
      "<class 'pandas.core.frame.DataFrame'>\n",
      "RangeIndex: 104 entries, 0 to 103\n",
      "Data columns (total 5 columns):\n",
      " #   Column       Non-Null Count  Dtype  \n",
      "---  ------       --------------  -----  \n",
      " 0   student_id   104 non-null    int64  \n",
      " 1   exam1        103 non-null    float64\n",
      " 2   exam2        104 non-null    int64  \n",
      " 3   exam3        103 non-null    object \n",
      " 4   final_grade  104 non-null    int64  \n",
      "dtypes: float64(1), int64(3), object(1)\n",
      "memory usage: 4.2+ KB\n"
     ]
    }
   ],
   "source": [
    "df.info()"
   ]
  },
  {
   "cell_type": "code",
   "execution_count": 17,
   "metadata": {},
   "outputs": [],
   "source": [
    "df = df.dropna().astype('int')"
   ]
  },
  {
   "cell_type": "code",
   "execution_count": 18,
   "metadata": {},
   "outputs": [
    {
     "data": {
      "text/html": [
       "<div>\n",
       "<style scoped>\n",
       "    .dataframe tbody tr th:only-of-type {\n",
       "        vertical-align: middle;\n",
       "    }\n",
       "\n",
       "    .dataframe tbody tr th {\n",
       "        vertical-align: top;\n",
       "    }\n",
       "\n",
       "    .dataframe thead th {\n",
       "        text-align: right;\n",
       "    }\n",
       "</style>\n",
       "<table border=\"1\" class=\"dataframe\">\n",
       "  <thead>\n",
       "    <tr style=\"text-align: right;\">\n",
       "      <th></th>\n",
       "      <th>student_id</th>\n",
       "      <th>exam1</th>\n",
       "      <th>exam2</th>\n",
       "      <th>exam3</th>\n",
       "      <th>final_grade</th>\n",
       "    </tr>\n",
       "  </thead>\n",
       "  <tbody>\n",
       "    <tr>\n",
       "      <th>count</th>\n",
       "      <td>102.000000</td>\n",
       "      <td>102.000000</td>\n",
       "      <td>102.000000</td>\n",
       "      <td>102.000000</td>\n",
       "      <td>102.000000</td>\n",
       "    </tr>\n",
       "    <tr>\n",
       "      <th>mean</th>\n",
       "      <td>53.313725</td>\n",
       "      <td>78.833333</td>\n",
       "      <td>77.500000</td>\n",
       "      <td>84.294118</td>\n",
       "      <td>81.970588</td>\n",
       "    </tr>\n",
       "    <tr>\n",
       "      <th>std</th>\n",
       "      <td>29.886909</td>\n",
       "      <td>14.167375</td>\n",
       "      <td>10.297313</td>\n",
       "      <td>8.736617</td>\n",
       "      <td>10.833991</td>\n",
       "    </tr>\n",
       "    <tr>\n",
       "      <th>min</th>\n",
       "      <td>1.000000</td>\n",
       "      <td>57.000000</td>\n",
       "      <td>65.000000</td>\n",
       "      <td>70.000000</td>\n",
       "      <td>65.000000</td>\n",
       "    </tr>\n",
       "    <tr>\n",
       "      <th>25%</th>\n",
       "      <td>28.250000</td>\n",
       "      <td>70.000000</td>\n",
       "      <td>70.000000</td>\n",
       "      <td>78.000000</td>\n",
       "      <td>72.000000</td>\n",
       "    </tr>\n",
       "    <tr>\n",
       "      <th>50%</th>\n",
       "      <td>53.500000</td>\n",
       "      <td>79.000000</td>\n",
       "      <td>75.000000</td>\n",
       "      <td>85.000000</td>\n",
       "      <td>81.000000</td>\n",
       "    </tr>\n",
       "    <tr>\n",
       "      <th>75%</th>\n",
       "      <td>78.750000</td>\n",
       "      <td>92.000000</td>\n",
       "      <td>89.000000</td>\n",
       "      <td>94.000000</td>\n",
       "      <td>93.000000</td>\n",
       "    </tr>\n",
       "    <tr>\n",
       "      <th>max</th>\n",
       "      <td>104.000000</td>\n",
       "      <td>100.000000</td>\n",
       "      <td>93.000000</td>\n",
       "      <td>96.000000</td>\n",
       "      <td>97.000000</td>\n",
       "    </tr>\n",
       "  </tbody>\n",
       "</table>\n",
       "</div>"
      ],
      "text/plain": [
       "       student_id       exam1       exam2       exam3  final_grade\n",
       "count  102.000000  102.000000  102.000000  102.000000   102.000000\n",
       "mean    53.313725   78.833333   77.500000   84.294118    81.970588\n",
       "std     29.886909   14.167375   10.297313    8.736617    10.833991\n",
       "min      1.000000   57.000000   65.000000   70.000000    65.000000\n",
       "25%     28.250000   70.000000   70.000000   78.000000    72.000000\n",
       "50%     53.500000   79.000000   75.000000   85.000000    81.000000\n",
       "75%     78.750000   92.000000   89.000000   94.000000    93.000000\n",
       "max    104.000000  100.000000   93.000000   96.000000    97.000000"
      ]
     },
     "execution_count": 18,
     "metadata": {},
     "output_type": "execute_result"
    }
   ],
   "source": [
    "df.describe()"
   ]
  },
  {
   "cell_type": "code",
   "execution_count": 20,
   "metadata": {},
   "outputs": [],
   "source": [
    "df['exam3'] = df['exam3'].astype('int')"
   ]
  },
  {
   "cell_type": "code",
   "execution_count": 21,
   "metadata": {},
   "outputs": [],
   "source": [
    "df['exam1'] = df['exam1'].astype('int')"
   ]
  },
  {
   "cell_type": "code",
   "execution_count": 22,
   "metadata": {},
   "outputs": [
    {
     "name": "stdout",
     "output_type": "stream",
     "text": [
      "<class 'pandas.core.frame.DataFrame'>\n",
      "Int64Index: 102 entries, 0 to 103\n",
      "Data columns (total 5 columns):\n",
      " #   Column       Non-Null Count  Dtype\n",
      "---  ------       --------------  -----\n",
      " 0   student_id   102 non-null    int64\n",
      " 1   exam1        102 non-null    int64\n",
      " 2   exam2        102 non-null    int64\n",
      " 3   exam3        102 non-null    int64\n",
      " 4   final_grade  102 non-null    int64\n",
      "dtypes: int64(5)\n",
      "memory usage: 4.8 KB\n"
     ]
    }
   ],
   "source": [
    "df.info()"
   ]
  },
  {
   "cell_type": "code",
   "execution_count": 23,
   "metadata": {},
   "outputs": [
    {
     "data": {
      "text/html": [
       "<div>\n",
       "<style scoped>\n",
       "    .dataframe tbody tr th:only-of-type {\n",
       "        vertical-align: middle;\n",
       "    }\n",
       "\n",
       "    .dataframe tbody tr th {\n",
       "        vertical-align: top;\n",
       "    }\n",
       "\n",
       "    .dataframe thead th {\n",
       "        text-align: right;\n",
       "    }\n",
       "</style>\n",
       "<table border=\"1\" class=\"dataframe\">\n",
       "  <thead>\n",
       "    <tr style=\"text-align: right;\">\n",
       "      <th></th>\n",
       "      <th>student_id</th>\n",
       "      <th>exam1</th>\n",
       "      <th>exam2</th>\n",
       "      <th>exam3</th>\n",
       "      <th>final_grade</th>\n",
       "    </tr>\n",
       "  </thead>\n",
       "  <tbody>\n",
       "    <tr>\n",
       "      <th>99</th>\n",
       "      <td>100</td>\n",
       "      <td>70</td>\n",
       "      <td>65</td>\n",
       "      <td>78</td>\n",
       "      <td>77</td>\n",
       "    </tr>\n",
       "    <tr>\n",
       "      <th>100</th>\n",
       "      <td>101</td>\n",
       "      <td>62</td>\n",
       "      <td>70</td>\n",
       "      <td>79</td>\n",
       "      <td>70</td>\n",
       "    </tr>\n",
       "    <tr>\n",
       "      <th>101</th>\n",
       "      <td>102</td>\n",
       "      <td>58</td>\n",
       "      <td>65</td>\n",
       "      <td>70</td>\n",
       "      <td>68</td>\n",
       "    </tr>\n",
       "    <tr>\n",
       "      <th>102</th>\n",
       "      <td>103</td>\n",
       "      <td>57</td>\n",
       "      <td>65</td>\n",
       "      <td>75</td>\n",
       "      <td>65</td>\n",
       "    </tr>\n",
       "    <tr>\n",
       "      <th>103</th>\n",
       "      <td>104</td>\n",
       "      <td>70</td>\n",
       "      <td>75</td>\n",
       "      <td>78</td>\n",
       "      <td>72</td>\n",
       "    </tr>\n",
       "  </tbody>\n",
       "</table>\n",
       "</div>"
      ],
      "text/plain": [
       "     student_id  exam1  exam2  exam3  final_grade\n",
       "99          100     70     65     78           77\n",
       "100         101     62     70     79           70\n",
       "101         102     58     65     70           68\n",
       "102         103     57     65     75           65\n",
       "103         104     70     75     78           72"
      ]
     },
     "execution_count": 23,
     "metadata": {},
     "output_type": "execute_result"
    }
   ],
   "source": [
    "df.tail()"
   ]
  },
  {
   "cell_type": "code",
   "execution_count": 24,
   "metadata": {},
   "outputs": [],
   "source": [
    "#student id not really providing anything valuable to us right now,\n",
    "#so for our purposes right now we will drop\n",
    "df = df.drop(columns='student_id')"
   ]
  },
  {
   "cell_type": "code",
   "execution_count": 26,
   "metadata": {},
   "outputs": [
    {
     "name": "stdout",
     "output_type": "stream",
     "text": [
      "0\n",
      "exam1\n",
      "1\n",
      "exam2\n",
      "2\n",
      "exam3\n",
      "3\n",
      "final_grade\n"
     ]
    }
   ],
   "source": [
    "#histograms for visual reference of what we are looking at\n",
    "#plt.Figure(figsize=15,4)\n",
    "#i=index, val = value\n",
    "#why are we using this?  depend on the shape of this to determine the shape of our subplots\n",
    "for i, val in enumerate(list(df.columns)): #enumerate is going to return an index of the thing in the thing\n",
    "    print(i)\n",
    "    print(val)"
   ]
  },
  {
   "cell_type": "code",
   "execution_count": 35,
   "metadata": {},
   "outputs": [
    {
     "data": {
      "image/png": "[encoded data removed]",
      "text/plain": [
       "<Figure size 432x288 with 1 Axes>"
      ]
     },
     "metadata": {
      "needs_background": "light"
     },
     "output_type": "display_data"
    }
   ],
   "source": [
    "plt.Figure(figsize=(10,20))\n",
    "for i, val in enumerate(list(df.columns)):\n",
    "    plotnum = i + 1\n",
    "    #plt.subplot(1, 4, plotnum )  #one row 4 columns (row, column, position)\n",
    "    plt.title(f'Distribution of {val}')\n",
    "    plt.hist(df[val], bins=5"
   ]
  },
  {
   "cell_type": "code",
   "execution_count": 36,
   "metadata": {},
   "outputs": [
    {
     "data": {
      "text/plain": [
       "<AxesSubplot:>"
      ]
     },
     "execution_count": 36,
     "metadata": {},
     "output_type": "execute_result"
    },
    {
     "data": {
      "image/png": "[encoded data removed]",
      "text/plain": [
       "<Figure size 432x288 with 1 Axes>"
      ]
     },
     "metadata": {
      "needs_background": "light"
     },
     "output_type": "display_data"
    }
   ],
   "source": [
    "sns.boxplot(data=df)"
   ]
  },
  {
   "cell_type": "code",
   "execution_count": 37,
   "metadata": {},
   "outputs": [],
   "source": [
    "from sklearn.model_selection import train_test_split\n"
   ]
  },
  {
   "cell_type": "code",
   "execution_count": 38,
   "metadata": {},
   "outputs": [],
   "source": [
    "train_val, test = train_test_split(df, train_size=0.8, random_state=3435)\n",
    "\n"
   ]
  },
  {
   "cell_type": "code",
   "execution_count": 39,
   "metadata": {},
   "outputs": [],
   "source": [
    "train, validate = train_test_split(train_val, train_size=0.7, random_state=3435)\n",
    "\n"
   ]
  },
  {
   "cell_type": "code",
   "execution_count": 40,
   "metadata": {},
   "outputs": [
    {
     "name": "stdout",
     "output_type": "stream",
     "text": [
      "<class 'pandas.core.frame.DataFrame'>\n",
      "Int64Index: 56 entries, 7 to 98\n",
      "Data columns (total 4 columns):\n",
      " #   Column       Non-Null Count  Dtype\n",
      "---  ------       --------------  -----\n",
      " 0   exam1        56 non-null     int64\n",
      " 1   exam2        56 non-null     int64\n",
      " 2   exam3        56 non-null     int64\n",
      " 3   final_grade  56 non-null     int64\n",
      "dtypes: int64(4)\n",
      "memory usage: 2.2 KB\n"
     ]
    }
   ],
   "source": [
    "train.info()\n"
   ]
  },
  {
   "cell_type": "code",
   "execution_count": 43,
   "metadata": {},
   "outputs": [],
   "source": [
    "def acquire():\n",
    "    '''\n",
    "    Grab our data from a path, read in from csv\n",
    "    '''\n",
    "    df = pd.read_csv(\"student_grades.csv\")\n",
    "    return df\n",
    "def clean_grades(df):\n",
    "    '''\n",
    "    Takes in a df of student exam grades and cleans the data appropriately by dropping null\n",
    "    values, replacing whitespace, and converting data to numerical data\n",
    "    types as well as dropping student_id colum from the dataframe\n",
    "    \n",
    "    return: df, a cleaned pandas dataframe\n",
    "    '''\n",
    "    \n",
    "    df['exam3']= df['exam3'].replace(r'^\\s*$', np.nan, regex=True)\n",
    "    df = dropna()\n",
    "    df['exam3'] = df['exam3'].astype('int')\n",
    "    df['exam1'] = df['exam1'].astype('int')\n",
    "    df.drop(columns='student_id')\n",
    "    return df\n",
    "def split_data(df):\n",
    "    '''\n",
    "    split our data,\n",
    "    takes in a pandas dataframe,\n",
    "    returns: three pandas dataframes, train, test, and validate\n",
    "    '''\n",
    "    train_val, test = train_test_split(df, train_size=0.8, random_state=3435, stratify=df.final_grade)\n",
    "    train, validate = train_test_split(train_val, train_size=0.7, random_state=3435,stratify=df.final_grade )\n"
   ]
  },
  {
   "cell_type": "code",
   "execution_count": 44,
   "metadata": {},
   "outputs": [],
   "source": [
    "def wrangle_grades():\n",
    "    '''\n",
    "    wrangle_grades will read in out strudent grades as a pandas dataframe\n",
    "    clean the data,\n",
    "    split the data,\n",
    "    return: train, validate, test sets of pandas dataframes\n",
    "    from student grades, stratified on final_grade\n",
    "    '''\n",
    "    df = clean_grades(acquire_grades())\n",
    "    return split_data(df)"
   ]
  },
  {
   "cell_type": "code",
   "execution_count": null,
   "metadata": {},
   "outputs": [],
   "source": []
  }
 ],
 "metadata": {
  "kernelspec": {
   "display_name": "Python 3",
   "language": "python",
   "name": "python3"
  },
  "language_info": {
   "codemirror_mode": {
    "name": "ipython",
    "version": 3
   },
   "file_extension": ".py",
   "mimetype": "text/x-python",
   "name": "python",
   "nbconvert_exporter": "python",
   "pygments_lexer": "ipython3",
   "version": "3.8.5"
  }
 },
 "nbformat": 4,
 "nbformat_minor": 4
}
